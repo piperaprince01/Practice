{
  "nbformat": 4,
  "nbformat_minor": 0,
  "metadata": {
    "colab": {
      "name": "R7_ExternalLab_Solutions-1.ipynb",
      "version": "0.3.2",
      "provenance": [],
      "collapsed_sections": []
    },
    "kernelspec": {
      "name": "python3",
      "display_name": "Python 3"
    }
  },
  "cells": [
    {
      "cell_type": "markdown",
      "metadata": {
        "id": "4WH1Pr4KQlCh",
        "colab_type": "text"
      },
      "source": [
        "### Build a DNN using Keras with `RELU` and `ADAM`"
      ]
    },
    {
      "cell_type": "markdown",
      "metadata": {
        "slideshow": {
          "slide_type": "slide"
        },
        "id": "TbvI8LqlQlCl",
        "colab_type": "text"
      },
      "source": [
        "#### Load tensorflow"
      ]
    },
    {
      "cell_type": "code",
      "metadata": {
        "id": "SPW-a-qYQlCp",
        "colab_type": "code",
        "colab": {}
      },
      "source": [
        "import tensorflow as tf\n",
        "tf.reset_default_graph()\n",
        "tf.set_random_seed(42)"
      ],
      "execution_count": 0,
      "outputs": []
    },
    {
      "cell_type": "markdown",
      "metadata": {
        "slideshow": {
          "slide_type": "slide"
        },
        "id": "74cQBsi5QlCw",
        "colab_type": "text"
      },
      "source": [
        "#### Collect Fashion mnist data from tf.keras.datasets "
      ]
    },
    {
      "cell_type": "code",
      "metadata": {
        "id": "8H4gOaeJQlCx",
        "colab_type": "code",
        "outputId": "d9ec5192-38cb-4000-fe89-a2dc7c1245ac",
        "colab": {
          "base_uri": "https://localhost:8080/",
          "height": 151
        }
      },
      "source": [
        "(trainX, trainY),(testX, testY) = tf.keras.datasets.fashion_mnist.load_data()"
      ],
      "execution_count": 2,
      "outputs": [
        {
          "output_type": "stream",
          "text": [
            "Downloading data from https://storage.googleapis.com/tensorflow/tf-keras-datasets/train-labels-idx1-ubyte.gz\n",
            "32768/29515 [=================================] - 0s 0us/step\n",
            "Downloading data from https://storage.googleapis.com/tensorflow/tf-keras-datasets/train-images-idx3-ubyte.gz\n",
            "26427392/26421880 [==============================] - 0s 0us/step\n",
            "Downloading data from https://storage.googleapis.com/tensorflow/tf-keras-datasets/t10k-labels-idx1-ubyte.gz\n",
            "8192/5148 [===============================================] - 0s 0us/step\n",
            "Downloading data from https://storage.googleapis.com/tensorflow/tf-keras-datasets/t10k-images-idx3-ubyte.gz\n",
            "4423680/4422102 [==============================] - 0s 0us/step\n"
          ],
          "name": "stdout"
        }
      ]
    },
    {
      "cell_type": "markdown",
      "metadata": {
        "slideshow": {
          "slide_type": "slide"
        },
        "id": "no7aWYZyQlC1",
        "colab_type": "text"
      },
      "source": [
        "#### Change train and test labels into one-hot vectors"
      ]
    },
    {
      "cell_type": "code",
      "metadata": {
        "id": "UX6otc4wQlC2",
        "colab_type": "code",
        "colab": {}
      },
      "source": [
        "trainY = tf.keras.utils.to_categorical(trainY, num_classes=10)\n",
        "testY = tf.keras.utils.to_categorical(testY, num_classes=10)"
      ],
      "execution_count": 0,
      "outputs": []
    },
    {
      "cell_type": "markdown",
      "metadata": {
        "slideshow": {
          "slide_type": "slide"
        },
        "id": "QjNrRTdoQlC5",
        "colab_type": "text"
      },
      "source": [
        "#### Build the Graph"
      ]
    },
    {
      "cell_type": "markdown",
      "metadata": {
        "id": "CDJ9DHVNQlC7",
        "colab_type": "text"
      },
      "source": [
        "#### Initialize model, reshape & normalize data"
      ]
    },
    {
      "cell_type": "code",
      "metadata": {
        "id": "pCDQs_g1QlC8",
        "colab_type": "code",
        "outputId": "932c9466-aa0f-4946-ec41-102979618a8b",
        "colab": {
          "base_uri": "https://localhost:8080/",
          "height": 87
        }
      },
      "source": [
        "model = tf.keras.models.Sequential()\n",
        "model.add(tf.keras.layers.Reshape((784,),input_shape=(28,28,)))\n",
        "model.add(tf.keras.layers.BatchNormalization())"
      ],
      "execution_count": 4,
      "outputs": [
        {
          "output_type": "stream",
          "text": [
            "WARNING:tensorflow:From /usr/local/lib/python3.6/dist-packages/tensorflow/python/ops/resource_variable_ops.py:435: colocate_with (from tensorflow.python.framework.ops) is deprecated and will be removed in a future version.\n",
            "Instructions for updating:\n",
            "Colocations handled automatically by placer.\n"
          ],
          "name": "stdout"
        }
      ]
    },
    {
      "cell_type": "markdown",
      "metadata": {
        "slideshow": {
          "slide_type": "slide"
        },
        "id": "kBGwTTilQlDD",
        "colab_type": "text"
      },
      "source": [
        "#### Add two fully connected layers with 200 and 100 neurons respectively with `relu` activations. Add a dropout layer with `p=0.25`"
      ]
    },
    {
      "cell_type": "code",
      "metadata": {
        "id": "IXbfpfOzQlDF",
        "colab_type": "code",
        "outputId": "8a83c39f-fd40-4ad7-d81c-ef464502652f",
        "colab": {
          "base_uri": "https://localhost:8080/",
          "height": 87
        }
      },
      "source": [
        "#Hidden layers\n",
        "model.add(tf.keras.layers.Dense(200, activation='relu'))\n",
        "model.add(tf.keras.layers.Dense(100, activation='relu'))\n",
        "\n",
        "#Dropout layer\n",
        "model.add(tf.keras.layers.Dropout(0.25))"
      ],
      "execution_count": 5,
      "outputs": [
        {
          "output_type": "stream",
          "text": [
            "WARNING:tensorflow:From /usr/local/lib/python3.6/dist-packages/tensorflow/python/keras/layers/core.py:143: calling dropout (from tensorflow.python.ops.nn_ops) with keep_prob is deprecated and will be removed in a future version.\n",
            "Instructions for updating:\n",
            "Please use `rate` instead of `keep_prob`. Rate should be set to `rate = 1 - keep_prob`.\n"
          ],
          "name": "stdout"
        }
      ]
    },
    {
      "cell_type": "markdown",
      "metadata": {
        "id": "5I8f5otcQlDJ",
        "colab_type": "text"
      },
      "source": [
        "### Add the output layer with a fully connected layer with 10 neurons with `softmax` activation. Use `categorical_crossentropy` loss and `adam` optimizer and train the network. And, report the final validation."
      ]
    },
    {
      "cell_type": "code",
      "metadata": {
        "id": "E25kuP_NQlDM",
        "colab_type": "code",
        "outputId": "76c18895-bef1-487b-d8b0-93186d1b8cd0",
        "colab": {
          "base_uri": "https://localhost:8080/",
          "height": 289
        }
      },
      "source": [
        "#Output layer\n",
        "model.add(tf.keras.layers.Dense(10, activation='softmax'))\n",
        "\n",
        "model.compile(optimizer='adam', loss='categorical_crossentropy', metrics=['accuracy'])\n",
        "\n",
        "#Train the model\n",
        "model.fit(trainX,trainY,          \n",
        "          validation_data=(testX,testY),\n",
        "          epochs=5, batch_size=32)"
      ],
      "execution_count": 6,
      "outputs": [
        {
          "output_type": "stream",
          "text": [
            "Train on 60000 samples, validate on 10000 samples\n",
            "WARNING:tensorflow:From /usr/local/lib/python3.6/dist-packages/tensorflow/python/ops/math_ops.py:3066: to_int32 (from tensorflow.python.ops.math_ops) is deprecated and will be removed in a future version.\n",
            "Instructions for updating:\n",
            "Use tf.cast instead.\n",
            "Epoch 1/5\n",
            "60000/60000 [==============================] - 13s 216us/sample - loss: 0.5114 - acc: 0.8174 - val_loss: 0.4091 - val_acc: 0.8493\n",
            "Epoch 2/5\n",
            "60000/60000 [==============================] - 12s 208us/sample - loss: 0.3936 - acc: 0.8567 - val_loss: 0.3759 - val_acc: 0.8622\n",
            "Epoch 3/5\n",
            "60000/60000 [==============================] - 12s 200us/sample - loss: 0.3599 - acc: 0.8687 - val_loss: 0.3585 - val_acc: 0.8685\n",
            "Epoch 4/5\n",
            "60000/60000 [==============================] - 12s 204us/sample - loss: 0.3357 - acc: 0.8756 - val_loss: 0.3539 - val_acc: 0.8732\n",
            "Epoch 5/5\n",
            "60000/60000 [==============================] - 12s 208us/sample - loss: 0.3134 - acc: 0.8825 - val_loss: 0.3413 - val_acc: 0.8804\n"
          ],
          "name": "stdout"
        },
        {
          "output_type": "execute_result",
          "data": {
            "text/plain": [
              "<tensorflow.python.keras.callbacks.History at 0x7f6f0f5cb400>"
            ]
          },
          "metadata": {
            "tags": []
          },
          "execution_count": 6
        }
      ]
    },
    {
      "cell_type": "markdown",
      "metadata": {
        "id": "vJl2GM7QQvs7",
        "colab_type": "text"
      },
      "source": [
        "## Word Embeddings in Python with Gensim"
      ]
    },
    {
      "cell_type": "markdown",
      "metadata": {
        "id": "9QoSmK_yQydL",
        "colab_type": "text"
      },
      "source": [
        "In this, you will practice how to train and load word embedding models for natural language processing applications in Python using Gensim.\n"
      ]
    },
    {
      "cell_type": "markdown",
      "metadata": {
        "id": "lqHUk1kBQ2Pl",
        "colab_type": "text"
      },
      "source": [
        "1. How to train your own word2vec word embedding model on text data.\n",
        "2. How to visualize a trained word embedding model using Principal Component Analysis.\n",
        "3. How to load pre-trained word2vec word embedding models."
      ]
    },
    {
      "cell_type": "markdown",
      "metadata": {
        "id": "x3EEkH5mQ6F0",
        "colab_type": "text"
      },
      "source": [
        "### Run the below two commands to install gensim and the wiki dataset"
      ]
    },
    {
      "cell_type": "code",
      "metadata": {
        "id": "Z_dPUh8YQ6Yi",
        "colab_type": "code",
        "outputId": "6b63524d-7efc-405b-deb9-f0d71f819922",
        "colab": {
          "base_uri": "https://localhost:8080/",
          "height": 390
        }
      },
      "source": [
        "!pip install --upgrade gensim --user"
      ],
      "execution_count": 7,
      "outputs": [
        {
          "output_type": "stream",
          "text": [
            "Collecting gensim\n",
            "\u001b[?25l  Downloading https://files.pythonhosted.org/packages/d3/4b/19eecdf07d614665fa889857dc56ac965631c7bd816c3476d2f0cac6ea3b/gensim-3.7.3-cp36-cp36m-manylinux1_x86_64.whl (24.2MB)\n",
            "\u001b[K     |████████████████████████████████| 24.2MB 61.1MB/s \n",
            "\u001b[?25hRequirement already satisfied, skipping upgrade: scipy>=0.18.1 in /usr/local/lib/python3.6/dist-packages (from gensim) (1.2.1)\n",
            "Requirement already satisfied, skipping upgrade: six>=1.5.0 in /usr/local/lib/python3.6/dist-packages (from gensim) (1.12.0)\n",
            "Requirement already satisfied, skipping upgrade: smart-open>=1.7.0 in /usr/local/lib/python3.6/dist-packages (from gensim) (1.8.3)\n",
            "Requirement already satisfied, skipping upgrade: numpy>=1.11.3 in /usr/local/lib/python3.6/dist-packages (from gensim) (1.16.3)\n",
            "Requirement already satisfied, skipping upgrade: boto>=2.32 in /usr/local/lib/python3.6/dist-packages (from smart-open>=1.7.0->gensim) (2.49.0)\n",
            "Requirement already satisfied, skipping upgrade: boto3 in /usr/local/lib/python3.6/dist-packages (from smart-open>=1.7.0->gensim) (1.9.148)\n",
            "Requirement already satisfied, skipping upgrade: requests in /usr/local/lib/python3.6/dist-packages (from smart-open>=1.7.0->gensim) (2.21.0)\n",
            "Requirement already satisfied, skipping upgrade: botocore<1.13.0,>=1.12.148 in /usr/local/lib/python3.6/dist-packages (from boto3->smart-open>=1.7.0->gensim) (1.12.148)\n",
            "Requirement already satisfied, skipping upgrade: s3transfer<0.3.0,>=0.2.0 in /usr/local/lib/python3.6/dist-packages (from boto3->smart-open>=1.7.0->gensim) (0.2.0)\n",
            "Requirement already satisfied, skipping upgrade: jmespath<1.0.0,>=0.7.1 in /usr/local/lib/python3.6/dist-packages (from boto3->smart-open>=1.7.0->gensim) (0.9.4)\n",
            "Requirement already satisfied, skipping upgrade: idna<2.9,>=2.5 in /usr/local/lib/python3.6/dist-packages (from requests->smart-open>=1.7.0->gensim) (2.8)\n",
            "Requirement already satisfied, skipping upgrade: urllib3<1.25,>=1.21.1 in /usr/local/lib/python3.6/dist-packages (from requests->smart-open>=1.7.0->gensim) (1.24.3)\n",
            "Requirement already satisfied, skipping upgrade: chardet<3.1.0,>=3.0.2 in /usr/local/lib/python3.6/dist-packages (from requests->smart-open>=1.7.0->gensim) (3.0.4)\n",
            "Requirement already satisfied, skipping upgrade: certifi>=2017.4.17 in /usr/local/lib/python3.6/dist-packages (from requests->smart-open>=1.7.0->gensim) (2019.3.9)\n",
            "Requirement already satisfied, skipping upgrade: docutils>=0.10 in /usr/local/lib/python3.6/dist-packages (from botocore<1.13.0,>=1.12.148->boto3->smart-open>=1.7.0->gensim) (0.14)\n",
            "Requirement already satisfied, skipping upgrade: python-dateutil<3.0.0,>=2.1; python_version >= \"2.7\" in /usr/local/lib/python3.6/dist-packages (from botocore<1.13.0,>=1.12.148->boto3->smart-open>=1.7.0->gensim) (2.5.3)\n",
            "Installing collected packages: gensim\n",
            "Successfully installed gensim-3.7.3\n"
          ],
          "name": "stdout"
        }
      ]
    },
    {
      "cell_type": "code",
      "metadata": {
        "id": "-9-xPiuTQ-nD",
        "colab_type": "code",
        "outputId": "47949865-13e5-4d17-a1ea-7719a3f0a679",
        "colab": {
          "base_uri": "https://localhost:8080/",
          "height": 252
        }
      },
      "source": [
        "!pip install wikipedia "
      ],
      "execution_count": 8,
      "outputs": [
        {
          "output_type": "stream",
          "text": [
            "Collecting wikipedia\n",
            "  Downloading https://files.pythonhosted.org/packages/67/35/25e68fbc99e672127cc6fbb14b8ec1ba3dfef035bf1e4c90f78f24a80b7d/wikipedia-1.4.0.tar.gz\n",
            "Requirement already satisfied: beautifulsoup4 in /usr/local/lib/python3.6/dist-packages (from wikipedia) (4.6.3)\n",
            "Requirement already satisfied: requests<3.0.0,>=2.0.0 in /usr/local/lib/python3.6/dist-packages (from wikipedia) (2.21.0)\n",
            "Requirement already satisfied: idna<2.9,>=2.5 in /usr/local/lib/python3.6/dist-packages (from requests<3.0.0,>=2.0.0->wikipedia) (2.8)\n",
            "Requirement already satisfied: chardet<3.1.0,>=3.0.2 in /usr/local/lib/python3.6/dist-packages (from requests<3.0.0,>=2.0.0->wikipedia) (3.0.4)\n",
            "Requirement already satisfied: certifi>=2017.4.17 in /usr/local/lib/python3.6/dist-packages (from requests<3.0.0,>=2.0.0->wikipedia) (2019.3.9)\n",
            "Requirement already satisfied: urllib3<1.25,>=1.21.1 in /usr/local/lib/python3.6/dist-packages (from requests<3.0.0,>=2.0.0->wikipedia) (1.24.3)\n",
            "Building wheels for collected packages: wikipedia\n",
            "  Building wheel for wikipedia (setup.py) ... \u001b[?25l\u001b[?25hdone\n",
            "  Stored in directory: /root/.cache/pip/wheels/87/2a/18/4e471fd96d12114d16fe4a446d00c3b38fb9efcb744bd31f4a\n",
            "Successfully built wikipedia\n",
            "Installing collected packages: wikipedia\n",
            "Successfully installed wikipedia-1.4.0\n"
          ],
          "name": "stdout"
        }
      ]
    },
    {
      "cell_type": "markdown",
      "metadata": {
        "id": "Te2mI1FHQ_I1",
        "colab_type": "text"
      },
      "source": [
        "### Import gensim"
      ]
    },
    {
      "cell_type": "code",
      "metadata": {
        "id": "qQQwRUJ0RAlJ",
        "colab_type": "code",
        "colab": {}
      },
      "source": [
        "import gensim"
      ],
      "execution_count": 0,
      "outputs": []
    },
    {
      "cell_type": "markdown",
      "metadata": {
        "id": "5dXgBNlORBGP",
        "colab_type": "text"
      },
      "source": [
        "### Obtain Text"
      ]
    },
    {
      "cell_type": "markdown",
      "metadata": {
        "id": "xdnvuDLCRDO4",
        "colab_type": "text"
      },
      "source": [
        "Import search and page functions from wikipedia module\n",
        "search(/key word/): search function takes keyword as argument and gives top 10 article titles matching the given keyword.\n",
        "\n",
        "page(/title of article/): page function takes page title as argument and gives content in the output."
      ]
    },
    {
      "cell_type": "code",
      "metadata": {
        "id": "VgB7SX-TRHNT",
        "colab_type": "code",
        "colab": {}
      },
      "source": [
        "## Usage: \n",
        "\n",
        "## from wikipedia import search, page\n",
        "## titles = search(\"<Key word goes here>\")\n",
        "## wikipage = page(titles[0])\n",
        "## print wikipage.content"
      ],
      "execution_count": 0,
      "outputs": []
    },
    {
      "cell_type": "markdown",
      "metadata": {
        "id": "q54h4vNaRJXe",
        "colab_type": "text"
      },
      "source": [
        "### Print the top 10 titles for the keyword `Machine Learning`"
      ]
    },
    {
      "cell_type": "code",
      "metadata": {
        "id": "yuyLmsnsRK6f",
        "colab_type": "code",
        "colab": {}
      },
      "source": [
        "#import wikipedia\n",
        "from wikipedia import search,page\n",
        "titles = search('machine learning')"
      ],
      "execution_count": 0,
      "outputs": []
    },
    {
      "cell_type": "markdown",
      "metadata": {
        "id": "a3faXGqLRQx1",
        "colab_type": "text"
      },
      "source": [
        "### Get the content from the first title from the above obtained 10 titles."
      ]
    },
    {
      "cell_type": "code",
      "metadata": {
        "id": "HOqiYzrqRQ-M",
        "colab_type": "code",
        "colab": {}
      },
      "source": [
        "titles\n",
        "wikipage = page(titles[0])"
      ],
      "execution_count": 0,
      "outputs": []
    },
    {
      "cell_type": "code",
      "metadata": {
        "id": "bGFUo3G8qi-w",
        "colab_type": "code",
        "outputId": "f864d9c7-0e22-40c3-913a-7cf26e26e35c",
        "colab": {
          "base_uri": "https://localhost:8080/",
          "height": 54
        }
      },
      "source": [
        "wikipage.content"
      ],
      "execution_count": 13,
      "outputs": [
        {
          "output_type": "execute_result",
          "data": {
            "text/plain": [
              "'Machine learning (ML) is the scientific study of algorithms and statistical models that computer systems use to effectively perform a specific task without using explicit instructions, relying on patterns and inference instead. It is seen as a subset of artificial intelligence. Machine learning algorithms build a mathematical model based on sample data, known as \"training data\", in order to make predictions or decisions without being explicitly programmed to perform the task. Machine learning algorithms are used in a wide variety of applications, such as email filtering, and computer vision, where it is infeasible to develop an algorithm of specific instructions for performing the task. Machine learning is closely related to computational statistics, which focuses on making predictions using computers. The study of mathematical optimization delivers methods, theory and application domains to the field of machine learning. Data mining is a field of study within machine learning, and focuses on exploratory data analysis through unsupervised learning. In its application across business problems, machine learning is also referred to as predictive analytics.\\n\\n\\n== Overview ==\\nThe name machine learning was coined in 1959 by Arthur Samuel. Tom M. Mitchell provided a widely quoted, more formal definition of the algorithms studied in the machine learning field: \"A computer program is said to learn from experience E with respect to some class of tasks T and performance measure P if its performance at tasks in T, as measured by P,  improves with experience E.\" This definition of the tasks in which machine learning is concerned offers a fundamentally operational definition rather than defining the field in cognitive terms. This follows Alan Turing\\'s proposal in his paper \"Computing Machinery and Intelligence\", in which the question \"Can machines think?\" is replaced with the question \"Can machines do what we (as thinking entities) can do?\". In Turing\\'s proposal the various characteristics that could be possessed by a thinking machine and the various implications in constructing one are exposed.\\n\\n\\n=== Machine learning tasks ===\\n\\nMachine learning tasks are classified into several broad categories. In supervised learning, the algorithm builds a mathematical model from a set of data that contains both the inputs and the desired outputs. For example, if the task were determining whether an image contained a certain object, the training data for a supervised learning algorithm would include images with and without that object (the input), and each image would have a label (the output) designating whether it contained the object. In special cases, the input may be only partially available, or restricted to special feedback. Semi-supervised learning algorithms develop mathematical models from incomplete training data, where a portion of the sample input doesn\\'t have labels.\\nClassification algorithms and regression algorithms are types of supervised learning. Classification algorithms are used when the outputs are restricted to a limited set of values. For a classification algorithm that filters emails, the input would be an incoming email, and the output would be the name of the folder in which to file the email. For an algorithm that identifies spam emails, the output would be the prediction of either \"spam\" or \"not spam\", represented by the Boolean values true and false. Regression algorithms are named for their continuous outputs, meaning they may have any value within a range. Examples of a continuous value are the temperature, length, or price of an object.\\nIn unsupervised learning, the algorithm builds a mathematical model from a set of data which contains only inputs and no desired output labels. Unsupervised learning algorithms are used to find structure in the data, like grouping or clustering of data points. Unsupervised learning can discover patterns in the data, and can group the inputs into categories, as in feature learning. Dimensionality reduction is the process of reducing the number of \"features\", or inputs, in a set of data. \\nActive learning algorithms access the desired outputs (training labels) for a limited set of inputs based on a budget, and optimize the choice of inputs for which it will acquire training labels. When used interactively, these can be presented to a human user for labeling. Reinforcement learning algorithms are given feedback in the form of positive or negative reinforcement in a dynamic environment, and are used in autonomous vehicles or in learning to play a game against a human opponent. Other specialized algorithms in machine learning include topic modeling, where the computer program is given a set of natural language documents and finds other documents that cover similar topics. Machine learning algorithms can be used to find the unobservable probability density function in density estimation problems. Meta learning algorithms learn their own inductive bias based on previous experience. In developmental robotics, robot learning algorithms generate their own sequences of learning experiences, also known as a curriculum, to cumulatively acquire new skills through self-guided exploration and social interaction with humans. These robots use guidance mechanisms such as active learning, maturation, motor synergies, and imitation.\\n\\n\\n== History and relationships to other fields ==\\n\\nArthur Samuel, an American pioneer in the field of computer gaming and artificial intelligence, coined the term \"Machine Learning\" in 1959 while at IBM. \\nAs a scientific endeavour, machine learning grew out of the quest for artificial intelligence. Already in the early days of AI as an academic discipline, some researchers were interested in having machines learn from data. They attempted to approach the problem with various symbolic methods, as well as what were then termed \"neural networks\"; these were mostly perceptrons and other models that were later found to be reinventions of the generalized linear models of statistics. Probabilistic reasoning was also employed, especially in automated medical diagnosis.However, an increasing emphasis on the logical, knowledge-based approach caused a rift between AI and machine learning. Probabilistic systems were plagued by theoretical and practical problems of data acquisition and representation. By 1980, expert systems had come to dominate AI, and statistics was out of favor. Work on symbolic/knowledge-based learning did continue within AI, leading to inductive logic programming, but the more statistical line of research was now outside the field of AI proper, in pattern recognition and information retrieval. Neural networks research had been abandoned by AI and computer science around the same time. This line, too, was continued outside the AI/CS field, as \"connectionism\", by researchers from other disciplines including Hopfield, Rumelhart and Hinton. Their main success came in the mid-1980s with the reinvention of backpropagation.Machine learning, reorganized as a separate field, started to flourish in the 1990s. The field changed its goal from achieving artificial intelligence to tackling solvable problems of a practical nature. It shifted focus away from the symbolic approaches it had inherited from AI, and toward methods and models borrowed from statistics and probability theory. It also benefited from the increasing availability of digitized information, and the ability to distribute it via the Internet.\\n\\n\\n=== Relation to data mining ===\\nMachine learning and data mining often employ the same methods and overlap significantly, but while machine learning focuses on prediction, based on known properties learned from the training data, data mining focuses on the discovery of (previously) unknown properties in the data (this is the analysis step of knowledge discovery in databases). Data mining uses many machine learning methods, but with different goals; on the other hand, machine learning also employs data mining methods as \"unsupervised learning\" or as a preprocessing step to improve learner accuracy. Much of the confusion between these two research communities (which do often have separate conferences and separate journals, ECML PKDD being a major exception) comes from the basic assumptions they work with: in machine learning, performance is usually evaluated with respect to the ability to reproduce known knowledge, while in knowledge discovery and data mining (KDD) the key task is the discovery of previously unknown knowledge. Evaluated with respect to known knowledge, an uninformed (unsupervised) method will easily be outperformed by other supervised methods, while in a typical KDD task, supervised methods cannot be used due to the unavailability of training data.\\n\\n\\n=== Relation to optimization ===\\nMachine learning also has intimate ties to optimization: many learning problems are formulated as minimization of some loss function on a training set of examples. Loss functions express the discrepancy between the predictions of the model being trained and the actual problem instances (for example, in classification, one wants to assign a label to instances, and models are trained to correctly predict the pre-assigned labels of a set of examples). The difference between the two fields arises from the goal of generalization: while optimization algorithms can minimize the loss on a training set, machine learning is concerned with minimizing the loss on unseen samples.\\n\\n\\n=== Relation to statistics ===\\nMachine learning and statistics are closely related fields. According to Michael I. Jordan, the ideas of machine learning, from methodological principles to theoretical tools, have had a long pre-history in statistics. He also suggested the term data science as a placeholder to call the overall field.Leo Breiman distinguished two statistical modelling paradigms: data model and algorithmic model, wherein \"algorithmic model\" means more or less the machine learning algorithms like Random forest.\\nSome statisticians have adopted methods from machine learning, leading to a combined field that they call statistical learning.\\n\\n\\n== Theory ==\\n\\nA core objective of a learner is to generalize from its experience. Generalization in this context is the ability of a learning machine to perform accurately on new, unseen examples/tasks after having experienced a learning data set. The training examples come from some generally unknown probability distribution (considered representative of the space of occurrences) and the learner has to build a general model about this space that enables it to produce sufficiently accurate predictions in new cases.\\nThe computational analysis of machine learning algorithms and their performance is a branch of theoretical computer science known as computational learning theory. Because training sets are finite and the future is uncertain, learning theory usually does not yield guarantees of the performance of algorithms. Instead, probabilistic bounds on the performance are quite common. The bias–variance decomposition is one way to quantify generalization error.\\nFor the best performance in the context of generalization, the complexity of the hypothesis should match the complexity of the function underlying the data. If the hypothesis is less complex than the function, then the model has underfit the data. If the complexity of the model is increased in response, then the training error decreases. But if the hypothesis is too complex, then the model is subject to overfitting and generalization will be poorer.In addition to performance bounds, learning theorists study the time complexity and feasibility of learning. In computational learning theory, a computation is considered feasible if it can be done in polynomial time. There are two kinds of time complexity results. Positive results show that a certain class of functions can be learned in polynomial time. Negative results show that certain classes cannot be learned in polynomial time.\\n\\n\\n== Approaches ==\\n\\n\\n=== Types of learning algorithms ===\\nThe types of machine learning algorithms differ in their approach, the type of data they input and output, and the type of task or problem that they are intended to solve.\\n\\n\\n==== Supervised and semi-supervised learning ====\\n\\nSupervised learning algorithms build a mathematical model of a set of data that contains both the inputs and the desired outputs. The data is known as training data, and consists of a set of training examples. Each training example has one or more inputs and a desired output, also known as a supervisory signal. In the case of semi-supervised learning algorithms, some of the training examples are missing the desired output. In the mathematical model, each training example is represented by an array or vector, and the training data by a matrix. Through iterative optimization of an objective function, supervised learning algorithms learn a function that can be used to predict the output associated with new inputs. An optimal function will allow the algorithm to correctly determine the output for inputs that were not a part of the training data. An algorithm that improves the accuracy of its outputs or predictions over time is said to have learned to perform that task.Supervised learning algorithms include classification and regression. Classification algorithms are used when the outputs are restricted to a limited set of values, and regression algorithms are used when the outputs may have any numerical value within a range. Similarity learning is an area of supervised machine learning closely related to regression and classification, but the goal is to learn from examples using a similarity function that measures how similar or related two objects are. It has applications in ranking, recommendation systems, visual identity tracking, face verification, and speaker verification.\\n\\n\\n==== Unsupervised learning ====\\n\\nUnsupervised learning algorithms take a set of data that contains only inputs, and find structure in the data, like grouping or clustering of data points. The algorithms therefore learn from test data that has not been labeled, classified or categorized. Instead of responding to feedback, unsupervised learning algorithms identify commonalities in the data and react based on the presence or absence of such commonalities in each new piece of data. A central application of unsupervised learning is in the field of density estimation in statistics, though unsupervised learning encompasses other domains involving summarizing and explaining data features.\\nCluster analysis is the assignment of a set of observations into subsets (called clusters) so that observations within the same cluster are similar according to one or more predesignated criteria, while observations drawn from different clusters are dissimilar. Different clustering techniques make different assumptions on the structure of the data, often defined by some similarity metric and evaluated, for example, by internal compactness, or the similarity between members of the same cluster, and separation, the difference between clusters. Other methods are based on estimated density and graph connectivity.\\n\\n\\n==== Reinforcement learning ====\\n\\nReinforcement learning is an area of machine learning concerned with how software agents ought to take actions in an environment so as to maximize some notion of cumulative reward. Due to its generality, the field is studied in many other disciplines, such as game theory, control theory, operations research, information theory, simulation-based optimization, multi-agent systems, swarm intelligence, statistics and genetic algorithms. In machine learning, the environment is typically represented as a Markov Decision Process (MDP). Many reinforcement learning algorithms use dynamic programming techniques. Reinforcement learning algorithms do not assume knowledge of an exact mathematical model of the MDP, and are used when exact models are infeasible. Reinforcement learning algorithms are used in autonomous vehicles or in learning to play a game against a human opponent.\\n\\n\\n=== Processes and techniques ===\\nVarious processes, techniques and methods can be applied to one or more types of machine learning algorithms to enhance their performance.\\n\\n\\n==== Feature learning ====\\n\\nSeveral learning algorithms aim at discovering better representations of the inputs provided during training. Classic examples include principal components analysis and cluster analysis. Feature learning algorithms, also called representation learning algorithms, often attempt to preserve the information in their input but also transform it in a way that makes it useful, often as a pre-processing step before performing classification or predictions. This technique allows reconstruction of the inputs coming from the unknown data-generating distribution, while not being necessarily faithful to configurations that are implausible under that distribution. This replaces manual feature engineering, and allows a machine to both learn the features and use them to perform a specific task.\\nFeature learning can be either supervised or unsupervised. In supervised feature learning, features are learned using labeled input data. Examples include artificial neural networks, multilayer perceptrons, and supervised dictionary learning. In unsupervised feature learning, features are learned with unlabeled input data.  Examples include dictionary learning, independent component analysis, autoencoders, matrix factorization and various forms of clustering.Manifold learning algorithms attempt to do so under the constraint that the learned representation is low-dimensional. Sparse coding algorithms attempt to do so under the constraint that the learned representation is sparse, meaning that the mathematical model has many zeros. Multilinear subspace learning algorithms aim to learn low-dimensional representations directly from tensor representations for multidimensional data, without reshaping them into higher-dimensional vectors. Deep learning algorithms discover multiple levels of representation, or a hierarchy of features, with higher-level, more abstract features defined in terms of (or generating) lower-level features. It has been argued that an intelligent machine is one that learns a representation that disentangles the underlying factors of variation that explain the observed data.Feature learning is motivated by the fact that machine learning tasks such as classification often require input that is mathematically and computationally convenient to process. However, real-world data such as images, video, and sensory data has not yielded to attempts to algorithmically define specific features. An alternative is to discover such features or representations through examination, without relying on explicit algorithms.\\n\\n\\n==== Sparse dictionary learning ====\\n\\nSparse dictionary learning is a feature learning method where a training example is represented as a linear combination of basis functions, and is assumed to be a sparse matrix. The method is strongly NP-hard and difficult to solve approximately. A popular heuristic method for sparse dictionary learning is the K-SVD algorithm. Sparse dictionary learning has been applied in several contexts. In classification, the problem is to determine to which classes a previously unseen training example belongs. For a dictionary where each class has already been built, a new training example is associated with the class that is best sparsely represented by the corresponding dictionary. Sparse dictionary learning has also been applied in image de-noising. The key idea is that a clean image patch can be sparsely represented by an image dictionary, but the noise cannot.\\n\\n\\n==== Anomaly detection ====\\n\\nIn data mining, anomaly detection, also known as outlier detection, is the identification of rare items, events or observations which raise suspicions by differing significantly from the majority of the data. Typically, the anomalous items represent an issue such as bank fraud, a structural defect, medical problems or errors in a text. Anomalies are referred to as outliers, novelties, noise, deviations and exceptions.In particular, in the context of abuse and network intrusion detection, the interesting objects are often not rare objects, but unexpected bursts in activity. This pattern does not adhere to the common statistical definition of an outlier as a rare object, and many outlier detection methods (in particular, unsupervised algorithms) will fail on such data, unless it has been aggregated appropriately. Instead, a cluster analysis algorithm may be able to detect the micro-clusters formed by these patterns.Three broad categories of anomaly detection techniques exist. Unsupervised anomaly detection techniques detect anomalies in an unlabeled test data set under the assumption that the majority of the instances in the data set are normal, by looking for instances that seem to fit least to the remainder of the data set. Supervised anomaly detection techniques require a data set that has been labeled as \"normal\" and \"abnormal\" and involves training a classifier (the key difference to many other statistical classification problems is the inherent unbalanced nature of outlier detection). Semi-supervised anomaly detection techniques construct a model representing normal behavior from a given normal training data set, and then test the likelihood of a test instance to be generated by the model.\\n\\n\\n==== Decision trees ====\\n\\nDecision tree learning uses a decision tree as a predictive model to go from observations about an item (represented in the branches) to conclusions about the item\\'s target value (represented in the leaves). It is one of the predictive modeling approaches used in statistics, data mining and machine learning. Tree models where the target variable can take a discrete set of values are called classification trees; in these tree structures, leaves represent class labels and branches represent conjunctions of features that lead to those class labels. Decision trees where the target variable can take continuous values (typically real numbers) are called regression trees. In decision analysis, a decision tree can be used to visually and explicitly represent decisions and decision making. In data mining, a decision tree describes data, but the resulting classification tree can be an input for decision making.\\n\\n\\n==== Association rules ====\\n\\nAssociation rule learning is a rule-based machine learning method for discovering relationships between variables in large databases. It is intended to identify strong rules discovered in databases using some measure of \"interestingness\".Rule-based machine learning is a general term for any machine learning method that identifies, learns, or evolves \"rules\" to store, manipulate or apply knowledge. The defining characteristic of a rule-based machine learning algorithm is the identification and utilization of a set of relational rules that collectively represent the knowledge captured by the system. This is in contrast to other machine learning algorithms that commonly identify a singular model that can be universally applied to any instance in order to make a prediction. Rule-based machine learning approaches include learning classifier systems, association rule learning, and artificial immune systems.\\nBased on the concept of strong rules, Rakesh Agrawal, Tomasz Imieliński and Arun Swami introduced association rules for discovering regularities between products in large-scale transaction data recorded by point-of-sale (POS) systems in supermarkets. For example, the rule \\n  \\n    \\n      \\n        {\\n        \\n          o\\n          n\\n          i\\n          o\\n          n\\n          s\\n          ,\\n          p\\n          o\\n          t\\n          a\\n          t\\n          o\\n          e\\n          s\\n        \\n        }\\n        ⇒\\n        {\\n        \\n          b\\n          u\\n          r\\n          g\\n          e\\n          r\\n        \\n        }\\n      \\n    \\n    {\\\\displaystyle \\\\{\\\\mathrm {onions,potatoes} \\\\}\\\\Rightarrow \\\\{\\\\mathrm {burger} \\\\}}\\n   found in the sales data of a supermarket would indicate that if a customer buys onions and potatoes together, they are likely to also buy hamburger meat. Such information can be used as the basis for decisions about marketing activities such as promotional pricing or product placements. In addition to market basket analysis, association rules are employed today in application areas including Web usage mining, intrusion detection, continuous production, and bioinformatics. In contrast with sequence mining, association rule learning typically does not consider the order of items either within a transaction or across transactions.\\nLearning classifier systems (LCS) are a family of rule-based machine learning algorithms that combine a discovery component, typically a genetic algorithm, with a learning component, performing either supervised learning, reinforcement learning, or unsupervised learning. They seek to identify a set of context-dependent rules that collectively store and apply knowledge in a piecewise manner in order to make predictions.Inductive logic programming (ILP) is an approach to rule-learning using logic programming as a uniform representation for input examples, background knowledge, and hypotheses. Given an encoding of the known background knowledge and a set of examples represented as a logical database of facts, an ILP system will derive a hypothesized logic program that entails all positive and no negative examples. Inductive programming is a related field that considers any kind of programming languages for representing hypotheses (and not only logic programming), such as functional programs.\\nInductive logic programming is particularly useful in bioinformatics and natural language processing. Gordon Plotkin and Ehud Shapiro laid the initial theoretical foundation for inductive machine learning in a logical setting. Shapiro built their first implementation (Model Inference System) in 1981: a Prolog program that inductively inferred logic programs from positive and negative examples. The term inductive here refers to philosophical induction, suggesting a theory to explain observed facts, rather than mathematical induction, proving a property for all members of a well-ordered set.\\n\\n\\n=== Models ===\\n\\n\\n==== Artificial neural networks ====\\n\\nArtificial neural networks (ANNs), or connectionist systems, are computing systems vaguely inspired by the biological neural networks that constitute animal brains. Such systems \"learn\" to perform tasks by considering examples, generally without being programmed with any task-specific rules.\\nAn ANN is a model based on a collection of connected units or nodes called \"artificial neurons\", which loosely model the neurons in a biological brain. Each connection, like the synapses in a biological brain, can transmit information, a \"signal\", from one artificial neuron to another. An artificial neuron that receives a signal can process it and then signal additional artificial neurons connected to it. In common ANN implementations, the signal at a connection between artificial neurons is a real number, and the output of each artificial neuron is computed by some non-linear function of the sum of its inputs. The connections between artificial neurons are called \"edges\". Artificial neurons and edges typically have a weight that adjusts as learning proceeds. The weight increases or decreases the strength of the signal at a connection. Artificial neurons may have a threshold such that the signal is only sent if the aggregate signal crosses that threshold. Typically, artificial neurons are aggregated into layers. Different layers may perform different kinds of transformations on their inputs. Signals travel from the first layer (the input layer), to the last layer (the output layer), possibly after traversing the layers multiple times.\\nThe original goal of the ANN approach was to solve problems in the same way that a human brain would. However, over time, attention moved to performing specific tasks, leading to deviations from biology. Artificial neural networks have been used on a variety of tasks, including computer vision, speech recognition, machine translation, social network filtering, playing board and video games and medical diagnosis.\\nDeep learning consists of multiple hidden layers in an artificial neural network. This approach tries to model the way the human brain processes light and sound into vision and hearing. Some successful applications of deep learning are computer vision and speech recognition.\\n\\n\\n==== Support vector machines ====\\n\\nSupport vector machines (SVMs), also known as support vector networks, are a set of related supervised learning methods used for classification and regression. Given a set of training examples, each marked as belonging to one of two categories, an SVM training algorithm builds a model that predicts whether a new example falls into one category or the other.  An SVM training algorithm is a non-probabilistic, binary, linear classifier, although methods such as Platt scaling exist to use SVM in a probabilistic classification setting. In addition to performing linear classification, SVMs can efficiently perform a non-linear classification using what is called the kernel trick, implicitly mapping their inputs into high-dimensional feature spaces.\\n\\n\\n==== Bayesian networks ====\\n\\nA Bayesian network, belief network or directed acyclic graphical model is a probabilistic graphical model that represents a set of random variables and their conditional independence with a directed acyclic graph (DAG). For example, a Bayesian network could represent the probabilistic relationships between diseases and symptoms. Given symptoms, the network can be used to compute the probabilities of the presence of various diseases. Efficient algorithms exist that perform inference and learning. Bayesian networks that model sequences of variables, like speech signals or protein sequences, are called dynamic Bayesian networks. Generalizations of Bayesian networks that can represent and solve decision problems under uncertainty are called influence diagrams.\\n\\n\\n==== Genetic algorithms ====\\n\\nA genetic algorithm (GA) is a search algorithm and heuristic technique that mimics the process of natural selection, using methods such as mutation and crossover to generate new genotypes in the hope of finding good solutions to a given problem. In machine learning, genetic algorithms were used in the 1980s and 1990s. Conversely, machine learning techniques have been used to improve the performance of genetic and evolutionary algorithms.\\n\\n\\n== Applications ==\\nThere are many applications for machine learning, including:\\n\\nIn 2006, the online movie company Netflix held the first \"Netflix Prize\" competition to find a program to better predict user preferences and improve the accuracy on its existing Cinematch movie recommendation algorithm by at least 10%.  A joint team made up of researchers from AT&T Labs-Research in collaboration with the teams Big Chaos and Pragmatic Theory built an ensemble model to win the Grand Prize in 2009 for $1 million. Shortly after the prize was awarded, Netflix realized that viewers\\' ratings were not the best indicators of their viewing patterns (\"everything is a recommendation\") and they changed their recommendation engine accordingly. In 2010 The Wall Street Journal wrote about the firm Rebellion Research and their use of machine learning to predict the financial crisis. In 2012, co-founder of Sun Microsystems, Vinod Khosla, predicted that 80% of medical doctors jobs would be lost in the next two decades to automated machine learning medical diagnostic software. In 2014, it was reported that a machine learning algorithm had been applied in the field of art history to study fine art paintings, and that it may have revealed previously unrecognized influences between artists.In 2019 Springer Nature published the first research book created using machine learning.\\n\\n\\n== Limitations ==\\nAlthough machine learning has been transformative in some fields, machine-learning programs often fail to deliver expected results. Reasons for this are numerous: lack of (suitable) data, lack of access to the data, data bias, privacy problems, badly chosen tasks and algorithms, wrong tools and people, lack of resources, and evaluation problems.In 2018, a self-driving car from Uber failed to detect a pedestrian, who was killed after a collision. Attempts to use machine learning in healthcare with the IBM Watson system failed to deliver even after years of time and billions of investment.\\n\\n\\n=== Bias ===\\n\\nMachine learning approaches in particular can suffer from different data biases. A machine learning system trained on current customers only may not be able to predict the needs of new customer groups that are not represented in the training data. When trained on man-made data, machine learning is likely to pick up the same constitutional and unconscious biases already present in society. Language models learned from data have been shown to contain human-like biases. Machine learning systems used for criminal risk assessment have been found to be biased against black people. In 2015, Google photos would often tag black people as gorillas, and in 2018 this still was not well resolved, but Google reportedly was still using the workaround to remove all gorilla from the training data, and thus was not able to recognize real gorillas at all. Similar issues with recognizing non-white people have been found in many other systems. In 2016, Microsoft tested a chatbot that learned from Twitter, and it quickly picked up racist and sexist language. Because of such challenges, the effective use of machine learning may take longer to be adopted in other domains. Concern for reducing bias in machine learning and propelling its use for human good is increasingly expressed by artificial intelligence scientists, including Fei-Fei Li, who reminds engineers that \"There’s nothing artificial about AI...It’s inspired by people, it’s created by people, and—most importantly—it impacts people. It is a powerful tool we are only just beginning to understand, and that is a profound responsibility.”\\n\\n\\n== Model assessments ==\\nClassification machine learning models can be validated by accuracy estimation techniques like the Holdout method, which splits the data in a training and test set (conventionally 2/3 training set and 1/3 test set designation) and evaluates the performance of the training model on the test set. In comparison, the K-fold-cross-validation method randomly partitions the data into K subsets and then K experiments are performed each respectively considering 1 subset for evaluation and the remaining K-1 subsets for training the model. In addition to the holdout and cross-validation methods, bootstrap, which samples n instances with replacement from the dataset, can be used to assess model accuracy.In addition to overall accuracy, investigators frequently report sensitivity and specificity meaning True Positive Rate (TPR) and True Negative Rate (TNR) respectively. Similarly, investigators sometimes report the False Positive Rate (FPR) as well as the False Negative Rate (FNR). However, these rates are ratios that fail to reveal their numerators and denominators. The Total Operating Characteristic (TOC) is an effective method to express a model\\'s diagnostic ability. TOC shows the numerators and denominators of the previously mentioned rates, thus TOC provides more information than the commonly used Receiver Operating Characteristic (ROC) and ROC\\'s associated Area Under the Curve (AUC).\\n\\n\\n== Ethics ==\\nMachine learning poses a host of ethical questions. Systems which are trained on datasets collected with biases may exhibit these biases upon use (algorithmic bias), thus digitizing cultural prejudices. For example, using job hiring data from a firm with racist hiring policies may lead to a machine learning system duplicating the bias by scoring job applicants against similarity to previous successful applicants. Responsible collection of data and documentation of algorithmic rules used by a system thus is a critical part of machine learning.\\nBecause language contains biases, machines trained on language corpora will necessarily also learn bias.Other forms of ethical challenges, not related to personal biases, are more seen in health care. There are concerns among health care professionals that these systems might not be designed in the public\\'s interest, but as income generating machines. This is especially true in the United States where there is a perpetual ethical dilemma of improving health care, but also increasing profits. For example, the algorithms could be designed to provide patients with unnecessary tests or medication in which the algorithm\\'s proprietary owners hold stakes in. There is huge potential for machine learning in health care to provide professionals a great tool to diagnose, medicate, and even plan recovery paths for patients, but this will not happen until the personal biases mentioned previously, and these \"greed\" biases are addressed.\\n\\n\\n== Software ==\\nSoftware suites containing a variety of machine learning algorithms include the following:\\n\\n\\n=== Free and open-source software ===\\n\\n\\n=== Proprietary software with free and open-source editions ===\\n\\n\\n=== Proprietary software ===\\n\\n\\n== Journals ==\\nJournal of Machine Learning Research\\nMachine Learning\\nNature Machine Intelligence\\nNeural Computation\\n\\n\\n== Conferences ==\\nConference on Neural Information Processing Systems\\nInternational Conference on Machine Learning\\n\\n\\n== See also ==\\n\\n\\n== References ==\\n\\n\\n== Further reading ==\\n\\n\\n== External links ==\\nInternational Machine Learning Society\\nmloss is an academic database of open-source machine learning software.\\nMachine Learning Crash Course by Google. This is a free course on machine learning through the use of TensorFlow.'"
            ]
          },
          "metadata": {
            "tags": []
          },
          "execution_count": 13
        }
      ]
    },
    {
      "cell_type": "markdown",
      "metadata": {
        "id": "C8ugHUzSRTFH",
        "colab_type": "text"
      },
      "source": [
        "### Create a list with name `documents` and append all the words in the 10 pages' content using the above 10 titles."
      ]
    },
    {
      "cell_type": "code",
      "metadata": {
        "id": "nBKXHtfCRTZw",
        "colab_type": "code",
        "outputId": "3a7325ff-30f6-4144-f7ac-2055c98bd8f6",
        "colab": {
          "base_uri": "https://localhost:8080/",
          "height": 34
        }
      },
      "source": [
        "#List to hold all words in each review\n",
        "documents = []\n",
        "\n",
        "#Iterate over each review\n",
        "for title in titles:\n",
        "    wikipage = page(title)\n",
        "    documents.append(wikipage.content.split(' '))\n",
        "\n",
        "print(len(documents))\n",
        "# print(documents[0])"
      ],
      "execution_count": 14,
      "outputs": [
        {
          "output_type": "stream",
          "text": [
            "10\n"
          ],
          "name": "stdout"
        }
      ]
    },
    {
      "cell_type": "markdown",
      "metadata": {
        "id": "eyo1zvzERVgG",
        "colab_type": "text"
      },
      "source": [
        "### Build the gensim model for word2vec with by considering all the words with frequency >=1 with embedding size=50"
      ]
    },
    {
      "cell_type": "code",
      "metadata": {
        "id": "hMkxm5eHRVts",
        "colab_type": "code",
        "colab": {}
      },
      "source": [
        "#Build the model\n",
        "model = gensim.models.Word2Vec(documents, #Word list\n",
        "                               min_count=1, #Ignore all words with total frequency lower than this                           \n",
        "                               workers=4, #Number of CPUs\n",
        "                               size=50,  #Embedding size\n",
        "                               window=5, #Maximum Distance between current and predicted word\n",
        "                               iter=10   #Number of iterations over the text corpus\n",
        "                              )  "
      ],
      "execution_count": 0,
      "outputs": []
    },
    {
      "cell_type": "markdown",
      "metadata": {
        "id": "FyLV4F6uRYZx",
        "colab_type": "text"
      },
      "source": [
        "### Exploring the model"
      ]
    },
    {
      "cell_type": "code",
      "metadata": {
        "id": "6iuSUoJERYhc",
        "colab_type": "code",
        "outputId": "8e8fcfa0-70f5-406c-c91c-b5e9675c5b80",
        "colab": {
          "base_uri": "https://localhost:8080/",
          "height": 67
        }
      },
      "source": [
        "#Model size\n",
        "model.wv.syn0.shape"
      ],
      "execution_count": 16,
      "outputs": [
        {
          "output_type": "stream",
          "text": [
            "/usr/local/lib/python3.6/dist-packages/ipykernel_launcher.py:1: DeprecationWarning: Call to deprecated `syn0` (Attribute will be removed in 4.0.0, use self.wv.vectors instead).\n",
            "  \"\"\"Entry point for launching an IPython kernel.\n"
          ],
          "name": "stderr"
        },
        {
          "output_type": "execute_result",
          "data": {
            "text/plain": [
              "(8430, 50)"
            ]
          },
          "metadata": {
            "tags": []
          },
          "execution_count": 16
        }
      ]
    },
    {
      "cell_type": "markdown",
      "metadata": {
        "id": "XxUuShBTRaYH",
        "colab_type": "text"
      },
      "source": [
        "#### Check how many words in the model"
      ]
    },
    {
      "cell_type": "code",
      "metadata": {
        "id": "S4lMhzWlRamw",
        "colab_type": "code",
        "outputId": "3a4283ec-8e0f-4c84-ed69-5ded6aeec82e",
        "colab": {
          "base_uri": "https://localhost:8080/",
          "height": 16834
        }
      },
      "source": [
        "# Vocablury of the model\n",
        "model.wv.vocab"
      ],
      "execution_count": 17,
      "outputs": [
        {
          "output_type": "execute_result",
          "data": {
            "text/plain": [
              "{'Machine': <gensim.models.keyedvectors.Vocab at 0x7f6f03c25b70>,\n",
              " 'learning': <gensim.models.keyedvectors.Vocab at 0x7f6f03c25ba8>,\n",
              " '(ML)': <gensim.models.keyedvectors.Vocab at 0x7f6f03c25be0>,\n",
              " 'is': <gensim.models.keyedvectors.Vocab at 0x7f6f03c25c18>,\n",
              " 'the': <gensim.models.keyedvectors.Vocab at 0x7f6f03c25c50>,\n",
              " 'scientific': <gensim.models.keyedvectors.Vocab at 0x7f6f03c25c88>,\n",
              " 'study': <gensim.models.keyedvectors.Vocab at 0x7f6f03c254e0>,\n",
              " 'of': <gensim.models.keyedvectors.Vocab at 0x7f6f03c255f8>,\n",
              " 'algorithms': <gensim.models.keyedvectors.Vocab at 0x7f6f03c25cc0>,\n",
              " 'and': <gensim.models.keyedvectors.Vocab at 0x7f6f03c25cf8>,\n",
              " 'statistical': <gensim.models.keyedvectors.Vocab at 0x7f6f03c25d30>,\n",
              " 'models': <gensim.models.keyedvectors.Vocab at 0x7f6f03c25d68>,\n",
              " 'that': <gensim.models.keyedvectors.Vocab at 0x7f6f03c25da0>,\n",
              " 'computer': <gensim.models.keyedvectors.Vocab at 0x7f6f03c25dd8>,\n",
              " 'systems': <gensim.models.keyedvectors.Vocab at 0x7f6f03c25e10>,\n",
              " 'use': <gensim.models.keyedvectors.Vocab at 0x7f6f03c25e48>,\n",
              " 'to': <gensim.models.keyedvectors.Vocab at 0x7f6f03c25e80>,\n",
              " 'effectively': <gensim.models.keyedvectors.Vocab at 0x7f6f03c25eb8>,\n",
              " 'perform': <gensim.models.keyedvectors.Vocab at 0x7f6f03c25ef0>,\n",
              " 'a': <gensim.models.keyedvectors.Vocab at 0x7f6f03c25f28>,\n",
              " 'specific': <gensim.models.keyedvectors.Vocab at 0x7f6f03c25f60>,\n",
              " 'task': <gensim.models.keyedvectors.Vocab at 0x7f6f03c25f98>,\n",
              " 'without': <gensim.models.keyedvectors.Vocab at 0x7f6f03c25fd0>,\n",
              " 'using': <gensim.models.keyedvectors.Vocab at 0x7f6f03c28048>,\n",
              " 'explicit': <gensim.models.keyedvectors.Vocab at 0x7f6f03c28080>,\n",
              " 'instructions,': <gensim.models.keyedvectors.Vocab at 0x7f6f03c280b8>,\n",
              " 'relying': <gensim.models.keyedvectors.Vocab at 0x7f6f03c280f0>,\n",
              " 'on': <gensim.models.keyedvectors.Vocab at 0x7f6f03c28128>,\n",
              " 'patterns': <gensim.models.keyedvectors.Vocab at 0x7f6f03c28160>,\n",
              " 'inference': <gensim.models.keyedvectors.Vocab at 0x7f6f03c28198>,\n",
              " 'instead.': <gensim.models.keyedvectors.Vocab at 0x7f6f03c281d0>,\n",
              " 'It': <gensim.models.keyedvectors.Vocab at 0x7f6f03c28208>,\n",
              " 'seen': <gensim.models.keyedvectors.Vocab at 0x7f6f03c28240>,\n",
              " 'as': <gensim.models.keyedvectors.Vocab at 0x7f6f03c28278>,\n",
              " 'subset': <gensim.models.keyedvectors.Vocab at 0x7f6f03c282b0>,\n",
              " 'artificial': <gensim.models.keyedvectors.Vocab at 0x7f6f03c282e8>,\n",
              " 'intelligence.': <gensim.models.keyedvectors.Vocab at 0x7f6f03c28320>,\n",
              " 'build': <gensim.models.keyedvectors.Vocab at 0x7f6f03c28358>,\n",
              " 'mathematical': <gensim.models.keyedvectors.Vocab at 0x7f6f03c28390>,\n",
              " 'model': <gensim.models.keyedvectors.Vocab at 0x7f6f03c283c8>,\n",
              " 'based': <gensim.models.keyedvectors.Vocab at 0x7f6f03c28400>,\n",
              " 'sample': <gensim.models.keyedvectors.Vocab at 0x7f6f03c28438>,\n",
              " 'data,': <gensim.models.keyedvectors.Vocab at 0x7f6f03c28470>,\n",
              " 'known': <gensim.models.keyedvectors.Vocab at 0x7f6f03c284a8>,\n",
              " '\"training': <gensim.models.keyedvectors.Vocab at 0x7f6f03c284e0>,\n",
              " 'data\",': <gensim.models.keyedvectors.Vocab at 0x7f6f03c28518>,\n",
              " 'in': <gensim.models.keyedvectors.Vocab at 0x7f6f03c28550>,\n",
              " 'order': <gensim.models.keyedvectors.Vocab at 0x7f6f03c28588>,\n",
              " 'make': <gensim.models.keyedvectors.Vocab at 0x7f6f03c285c0>,\n",
              " 'predictions': <gensim.models.keyedvectors.Vocab at 0x7f6f03c285f8>,\n",
              " 'or': <gensim.models.keyedvectors.Vocab at 0x7f6f03c28630>,\n",
              " 'decisions': <gensim.models.keyedvectors.Vocab at 0x7f6f03c28668>,\n",
              " 'being': <gensim.models.keyedvectors.Vocab at 0x7f6f03c286a0>,\n",
              " 'explicitly': <gensim.models.keyedvectors.Vocab at 0x7f6f03c286d8>,\n",
              " 'programmed': <gensim.models.keyedvectors.Vocab at 0x7f6f03c28710>,\n",
              " 'task.': <gensim.models.keyedvectors.Vocab at 0x7f6f03c28748>,\n",
              " 'are': <gensim.models.keyedvectors.Vocab at 0x7f6f03c28780>,\n",
              " 'used': <gensim.models.keyedvectors.Vocab at 0x7f6f03c287b8>,\n",
              " 'wide': <gensim.models.keyedvectors.Vocab at 0x7f6f03c287f0>,\n",
              " 'variety': <gensim.models.keyedvectors.Vocab at 0x7f6f03c28828>,\n",
              " 'applications,': <gensim.models.keyedvectors.Vocab at 0x7f6f03c28860>,\n",
              " 'such': <gensim.models.keyedvectors.Vocab at 0x7f6f03c28898>,\n",
              " 'email': <gensim.models.keyedvectors.Vocab at 0x7f6f03c288d0>,\n",
              " 'filtering,': <gensim.models.keyedvectors.Vocab at 0x7f6f03c28908>,\n",
              " 'vision,': <gensim.models.keyedvectors.Vocab at 0x7f6f03c28940>,\n",
              " 'where': <gensim.models.keyedvectors.Vocab at 0x7f6f03c28978>,\n",
              " 'it': <gensim.models.keyedvectors.Vocab at 0x7f6f03c289b0>,\n",
              " 'infeasible': <gensim.models.keyedvectors.Vocab at 0x7f6f03c289e8>,\n",
              " 'develop': <gensim.models.keyedvectors.Vocab at 0x7f6f03c28a20>,\n",
              " 'an': <gensim.models.keyedvectors.Vocab at 0x7f6f03c28a58>,\n",
              " 'algorithm': <gensim.models.keyedvectors.Vocab at 0x7f6f03c28a90>,\n",
              " 'instructions': <gensim.models.keyedvectors.Vocab at 0x7f6f03c28ac8>,\n",
              " 'for': <gensim.models.keyedvectors.Vocab at 0x7f6f03c28b00>,\n",
              " 'performing': <gensim.models.keyedvectors.Vocab at 0x7f6f03c28b38>,\n",
              " 'closely': <gensim.models.keyedvectors.Vocab at 0x7f6f03c28b70>,\n",
              " 'related': <gensim.models.keyedvectors.Vocab at 0x7f6f03c28ba8>,\n",
              " 'computational': <gensim.models.keyedvectors.Vocab at 0x7f6f03c28be0>,\n",
              " 'statistics,': <gensim.models.keyedvectors.Vocab at 0x7f6f03c28c18>,\n",
              " 'which': <gensim.models.keyedvectors.Vocab at 0x7f6f03c28c50>,\n",
              " 'focuses': <gensim.models.keyedvectors.Vocab at 0x7f6f03c28c88>,\n",
              " 'making': <gensim.models.keyedvectors.Vocab at 0x7f6f03c28cc0>,\n",
              " 'computers.': <gensim.models.keyedvectors.Vocab at 0x7f6f03c28cf8>,\n",
              " 'The': <gensim.models.keyedvectors.Vocab at 0x7f6f03c28d30>,\n",
              " 'optimization': <gensim.models.keyedvectors.Vocab at 0x7f6f03c28d68>,\n",
              " 'delivers': <gensim.models.keyedvectors.Vocab at 0x7f6f03c28da0>,\n",
              " 'methods,': <gensim.models.keyedvectors.Vocab at 0x7f6f03c28dd8>,\n",
              " 'theory': <gensim.models.keyedvectors.Vocab at 0x7f6f03c28e10>,\n",
              " 'application': <gensim.models.keyedvectors.Vocab at 0x7f6f03c28e48>,\n",
              " 'domains': <gensim.models.keyedvectors.Vocab at 0x7f6f03c28e80>,\n",
              " 'field': <gensim.models.keyedvectors.Vocab at 0x7f6f03c28eb8>,\n",
              " 'machine': <gensim.models.keyedvectors.Vocab at 0x7f6f03c28ef0>,\n",
              " 'learning.': <gensim.models.keyedvectors.Vocab at 0x7f6f03c28f28>,\n",
              " 'Data': <gensim.models.keyedvectors.Vocab at 0x7f6f03c28f60>,\n",
              " 'mining': <gensim.models.keyedvectors.Vocab at 0x7f6f03c28f98>,\n",
              " 'within': <gensim.models.keyedvectors.Vocab at 0x7f6f03c28fd0>,\n",
              " 'learning,': <gensim.models.keyedvectors.Vocab at 0x7f6f03c2b048>,\n",
              " 'exploratory': <gensim.models.keyedvectors.Vocab at 0x7f6f03c2b080>,\n",
              " 'data': <gensim.models.keyedvectors.Vocab at 0x7f6f03c2b0b8>,\n",
              " 'analysis': <gensim.models.keyedvectors.Vocab at 0x7f6f03c2b0f0>,\n",
              " 'through': <gensim.models.keyedvectors.Vocab at 0x7f6f03c2b128>,\n",
              " 'unsupervised': <gensim.models.keyedvectors.Vocab at 0x7f6f03c2b160>,\n",
              " 'In': <gensim.models.keyedvectors.Vocab at 0x7f6f03c2b198>,\n",
              " 'its': <gensim.models.keyedvectors.Vocab at 0x7f6f03c2b1d0>,\n",
              " 'across': <gensim.models.keyedvectors.Vocab at 0x7f6f03c2b208>,\n",
              " 'business': <gensim.models.keyedvectors.Vocab at 0x7f6f03c2b240>,\n",
              " 'problems,': <gensim.models.keyedvectors.Vocab at 0x7f6f03c2b278>,\n",
              " 'also': <gensim.models.keyedvectors.Vocab at 0x7f6f03c2b2b0>,\n",
              " 'referred': <gensim.models.keyedvectors.Vocab at 0x7f6f03c2b2e8>,\n",
              " 'predictive': <gensim.models.keyedvectors.Vocab at 0x7f6f03c2b320>,\n",
              " 'analytics.\\n\\n\\n==': <gensim.models.keyedvectors.Vocab at 0x7f6f03c2b358>,\n",
              " 'Overview': <gensim.models.keyedvectors.Vocab at 0x7f6f03c2b390>,\n",
              " '==\\nThe': <gensim.models.keyedvectors.Vocab at 0x7f6f03c2b3c8>,\n",
              " 'name': <gensim.models.keyedvectors.Vocab at 0x7f6f03c2b400>,\n",
              " 'was': <gensim.models.keyedvectors.Vocab at 0x7f6f03c2b438>,\n",
              " 'coined': <gensim.models.keyedvectors.Vocab at 0x7f6f03c2b470>,\n",
              " '1959': <gensim.models.keyedvectors.Vocab at 0x7f6f03c2b4a8>,\n",
              " 'by': <gensim.models.keyedvectors.Vocab at 0x7f6f03c2b4e0>,\n",
              " 'Arthur': <gensim.models.keyedvectors.Vocab at 0x7f6f03c2b518>,\n",
              " 'Samuel.': <gensim.models.keyedvectors.Vocab at 0x7f6f03c2b550>,\n",
              " 'Tom': <gensim.models.keyedvectors.Vocab at 0x7f6f03c2b588>,\n",
              " 'M.': <gensim.models.keyedvectors.Vocab at 0x7f6f03c2b5c0>,\n",
              " 'Mitchell': <gensim.models.keyedvectors.Vocab at 0x7f6f03c2b5f8>,\n",
              " 'provided': <gensim.models.keyedvectors.Vocab at 0x7f6f03c2b630>,\n",
              " 'widely': <gensim.models.keyedvectors.Vocab at 0x7f6f03c2b668>,\n",
              " 'quoted,': <gensim.models.keyedvectors.Vocab at 0x7f6f03c2b6a0>,\n",
              " 'more': <gensim.models.keyedvectors.Vocab at 0x7f6f03c2b6d8>,\n",
              " 'formal': <gensim.models.keyedvectors.Vocab at 0x7f6f03c2b710>,\n",
              " 'definition': <gensim.models.keyedvectors.Vocab at 0x7f6f03c2b748>,\n",
              " 'studied': <gensim.models.keyedvectors.Vocab at 0x7f6f03c2b780>,\n",
              " 'field:': <gensim.models.keyedvectors.Vocab at 0x7f6f03c2b7b8>,\n",
              " '\"A': <gensim.models.keyedvectors.Vocab at 0x7f6f03c2b7f0>,\n",
              " 'program': <gensim.models.keyedvectors.Vocab at 0x7f6f03c2b828>,\n",
              " 'said': <gensim.models.keyedvectors.Vocab at 0x7f6f03c2b860>,\n",
              " 'learn': <gensim.models.keyedvectors.Vocab at 0x7f6f03c2b898>,\n",
              " 'from': <gensim.models.keyedvectors.Vocab at 0x7f6f03c2b8d0>,\n",
              " 'experience': <gensim.models.keyedvectors.Vocab at 0x7f6f03c2b908>,\n",
              " 'E': <gensim.models.keyedvectors.Vocab at 0x7f6f03c2b940>,\n",
              " 'with': <gensim.models.keyedvectors.Vocab at 0x7f6f03c2b978>,\n",
              " 'respect': <gensim.models.keyedvectors.Vocab at 0x7f6f03c2b9b0>,\n",
              " 'some': <gensim.models.keyedvectors.Vocab at 0x7f6f03c2b9e8>,\n",
              " 'class': <gensim.models.keyedvectors.Vocab at 0x7f6f03c2ba20>,\n",
              " 'tasks': <gensim.models.keyedvectors.Vocab at 0x7f6f03c2ba58>,\n",
              " 'T': <gensim.models.keyedvectors.Vocab at 0x7f6f03c2ba90>,\n",
              " 'performance': <gensim.models.keyedvectors.Vocab at 0x7f6f03c2bac8>,\n",
              " 'measure': <gensim.models.keyedvectors.Vocab at 0x7f6f03c2bb00>,\n",
              " 'P': <gensim.models.keyedvectors.Vocab at 0x7f6f03c2bb38>,\n",
              " 'if': <gensim.models.keyedvectors.Vocab at 0x7f6f03c2bb70>,\n",
              " 'at': <gensim.models.keyedvectors.Vocab at 0x7f6f03c2bba8>,\n",
              " 'T,': <gensim.models.keyedvectors.Vocab at 0x7f6f03c2bbe0>,\n",
              " 'measured': <gensim.models.keyedvectors.Vocab at 0x7f6f03c2bc18>,\n",
              " 'P,': <gensim.models.keyedvectors.Vocab at 0x7f6f03c2bc50>,\n",
              " '': <gensim.models.keyedvectors.Vocab at 0x7f6f03c2bc88>,\n",
              " 'improves': <gensim.models.keyedvectors.Vocab at 0x7f6f03c2bcc0>,\n",
              " 'E.\"': <gensim.models.keyedvectors.Vocab at 0x7f6f03c2bcf8>,\n",
              " 'This': <gensim.models.keyedvectors.Vocab at 0x7f6f03c2bd30>,\n",
              " 'concerned': <gensim.models.keyedvectors.Vocab at 0x7f6f03c2bd68>,\n",
              " 'offers': <gensim.models.keyedvectors.Vocab at 0x7f6f03c2bda0>,\n",
              " 'fundamentally': <gensim.models.keyedvectors.Vocab at 0x7f6f03c2bdd8>,\n",
              " 'operational': <gensim.models.keyedvectors.Vocab at 0x7f6f03c2be10>,\n",
              " 'rather': <gensim.models.keyedvectors.Vocab at 0x7f6f03c2be48>,\n",
              " 'than': <gensim.models.keyedvectors.Vocab at 0x7f6f03c2be80>,\n",
              " 'defining': <gensim.models.keyedvectors.Vocab at 0x7f6f03c2beb8>,\n",
              " 'cognitive': <gensim.models.keyedvectors.Vocab at 0x7f6f03c2bef0>,\n",
              " 'terms.': <gensim.models.keyedvectors.Vocab at 0x7f6f03c2bf28>,\n",
              " 'follows': <gensim.models.keyedvectors.Vocab at 0x7f6f03c2bf60>,\n",
              " 'Alan': <gensim.models.keyedvectors.Vocab at 0x7f6f03c2bf98>,\n",
              " \"Turing's\": <gensim.models.keyedvectors.Vocab at 0x7f6f03c2bfd0>,\n",
              " 'proposal': <gensim.models.keyedvectors.Vocab at 0x7f6f03c2d048>,\n",
              " 'his': <gensim.models.keyedvectors.Vocab at 0x7f6f03c2d080>,\n",
              " 'paper': <gensim.models.keyedvectors.Vocab at 0x7f6f03c2d0b8>,\n",
              " '\"Computing': <gensim.models.keyedvectors.Vocab at 0x7f6f03c2d0f0>,\n",
              " 'Machinery': <gensim.models.keyedvectors.Vocab at 0x7f6f03c2d128>,\n",
              " 'Intelligence\",': <gensim.models.keyedvectors.Vocab at 0x7f6f03c2d160>,\n",
              " 'question': <gensim.models.keyedvectors.Vocab at 0x7f6f03c2d198>,\n",
              " '\"Can': <gensim.models.keyedvectors.Vocab at 0x7f6f03c2d1d0>,\n",
              " 'machines': <gensim.models.keyedvectors.Vocab at 0x7f6f03c2d208>,\n",
              " 'think?\"': <gensim.models.keyedvectors.Vocab at 0x7f6f03c2d240>,\n",
              " 'replaced': <gensim.models.keyedvectors.Vocab at 0x7f6f03c2d278>,\n",
              " 'do': <gensim.models.keyedvectors.Vocab at 0x7f6f03c2d2b0>,\n",
              " 'what': <gensim.models.keyedvectors.Vocab at 0x7f6f03c2d2e8>,\n",
              " 'we': <gensim.models.keyedvectors.Vocab at 0x7f6f03c2d320>,\n",
              " '(as': <gensim.models.keyedvectors.Vocab at 0x7f6f03c2d358>,\n",
              " 'thinking': <gensim.models.keyedvectors.Vocab at 0x7f6f03c2d390>,\n",
              " 'entities)': <gensim.models.keyedvectors.Vocab at 0x7f6f03c2d3c8>,\n",
              " 'can': <gensim.models.keyedvectors.Vocab at 0x7f6f03c2d400>,\n",
              " 'do?\".': <gensim.models.keyedvectors.Vocab at 0x7f6f03c2d438>,\n",
              " 'various': <gensim.models.keyedvectors.Vocab at 0x7f6f03c2d470>,\n",
              " 'characteristics': <gensim.models.keyedvectors.Vocab at 0x7f6f03c2d4a8>,\n",
              " 'could': <gensim.models.keyedvectors.Vocab at 0x7f6f03c2d4e0>,\n",
              " 'be': <gensim.models.keyedvectors.Vocab at 0x7f6f03c2d518>,\n",
              " 'possessed': <gensim.models.keyedvectors.Vocab at 0x7f6f03c2d550>,\n",
              " 'implications': <gensim.models.keyedvectors.Vocab at 0x7f6f03c2d588>,\n",
              " 'constructing': <gensim.models.keyedvectors.Vocab at 0x7f6f03c2d5c0>,\n",
              " 'one': <gensim.models.keyedvectors.Vocab at 0x7f6f03c2d5f8>,\n",
              " 'exposed.\\n\\n\\n===': <gensim.models.keyedvectors.Vocab at 0x7f6f03c2d630>,\n",
              " '===\\n\\nMachine': <gensim.models.keyedvectors.Vocab at 0x7f6f03c2d668>,\n",
              " 'classified': <gensim.models.keyedvectors.Vocab at 0x7f6f03c2d6a0>,\n",
              " 'into': <gensim.models.keyedvectors.Vocab at 0x7f6f03c2d6d8>,\n",
              " 'several': <gensim.models.keyedvectors.Vocab at 0x7f6f03c2d710>,\n",
              " 'broad': <gensim.models.keyedvectors.Vocab at 0x7f6f03c2d748>,\n",
              " 'categories.': <gensim.models.keyedvectors.Vocab at 0x7f6f03c2d780>,\n",
              " 'supervised': <gensim.models.keyedvectors.Vocab at 0x7f6f03c2d7b8>,\n",
              " 'builds': <gensim.models.keyedvectors.Vocab at 0x7f6f03c2d7f0>,\n",
              " 'set': <gensim.models.keyedvectors.Vocab at 0x7f6f03c2d828>,\n",
              " 'contains': <gensim.models.keyedvectors.Vocab at 0x7f6f03c2d860>,\n",
              " 'both': <gensim.models.keyedvectors.Vocab at 0x7f6f03c2d898>,\n",
              " 'inputs': <gensim.models.keyedvectors.Vocab at 0x7f6f03c2d8d0>,\n",
              " 'desired': <gensim.models.keyedvectors.Vocab at 0x7f6f03c2d908>,\n",
              " 'outputs.': <gensim.models.keyedvectors.Vocab at 0x7f6f03c2d940>,\n",
              " 'For': <gensim.models.keyedvectors.Vocab at 0x7f6f03c2d978>,\n",
              " 'example,': <gensim.models.keyedvectors.Vocab at 0x7f6f03c2d9b0>,\n",
              " 'were': <gensim.models.keyedvectors.Vocab at 0x7f6f03c2d9e8>,\n",
              " 'determining': <gensim.models.keyedvectors.Vocab at 0x7f6f03c2da20>,\n",
              " 'whether': <gensim.models.keyedvectors.Vocab at 0x7f6f03c2da58>,\n",
              " 'image': <gensim.models.keyedvectors.Vocab at 0x7f6f03c2da90>,\n",
              " 'contained': <gensim.models.keyedvectors.Vocab at 0x7f6f03c2dac8>,\n",
              " 'certain': <gensim.models.keyedvectors.Vocab at 0x7f6f03c2db00>,\n",
              " 'object,': <gensim.models.keyedvectors.Vocab at 0x7f6f03c2db38>,\n",
              " 'training': <gensim.models.keyedvectors.Vocab at 0x7f6f03c2db70>,\n",
              " 'would': <gensim.models.keyedvectors.Vocab at 0x7f6f03c2dba8>,\n",
              " 'include': <gensim.models.keyedvectors.Vocab at 0x7f6f03c2dbe0>,\n",
              " 'images': <gensim.models.keyedvectors.Vocab at 0x7f6f03c2dc18>,\n",
              " 'object': <gensim.models.keyedvectors.Vocab at 0x7f6f03c2dc50>,\n",
              " '(the': <gensim.models.keyedvectors.Vocab at 0x7f6f03c2dc88>,\n",
              " 'input),': <gensim.models.keyedvectors.Vocab at 0x7f6f03c2dcc0>,\n",
              " 'each': <gensim.models.keyedvectors.Vocab at 0x7f6f03c2dcf8>,\n",
              " 'have': <gensim.models.keyedvectors.Vocab at 0x7f6f03c2dd30>,\n",
              " 'label': <gensim.models.keyedvectors.Vocab at 0x7f6f03c2dd68>,\n",
              " 'output)': <gensim.models.keyedvectors.Vocab at 0x7f6f03c2dda0>,\n",
              " 'designating': <gensim.models.keyedvectors.Vocab at 0x7f6f03c2ddd8>,\n",
              " 'object.': <gensim.models.keyedvectors.Vocab at 0x7f6f03c2de10>,\n",
              " 'special': <gensim.models.keyedvectors.Vocab at 0x7f6f03c2de48>,\n",
              " 'cases,': <gensim.models.keyedvectors.Vocab at 0x7f6f03c2de80>,\n",
              " 'input': <gensim.models.keyedvectors.Vocab at 0x7f6f03c2deb8>,\n",
              " 'may': <gensim.models.keyedvectors.Vocab at 0x7f6f03c2def0>,\n",
              " 'only': <gensim.models.keyedvectors.Vocab at 0x7f6f03c2df28>,\n",
              " 'partially': <gensim.models.keyedvectors.Vocab at 0x7f6f03c2df60>,\n",
              " 'available,': <gensim.models.keyedvectors.Vocab at 0x7f6f03c2df98>,\n",
              " 'restricted': <gensim.models.keyedvectors.Vocab at 0x7f6f03c2dfd0>,\n",
              " 'feedback.': <gensim.models.keyedvectors.Vocab at 0x7f6f03c31048>,\n",
              " 'Semi-supervised': <gensim.models.keyedvectors.Vocab at 0x7f6f03c31080>,\n",
              " 'incomplete': <gensim.models.keyedvectors.Vocab at 0x7f6f03c310b8>,\n",
              " 'portion': <gensim.models.keyedvectors.Vocab at 0x7f6f03c310f0>,\n",
              " \"doesn't\": <gensim.models.keyedvectors.Vocab at 0x7f6f03c31128>,\n",
              " 'labels.\\nClassification': <gensim.models.keyedvectors.Vocab at 0x7f6f03c31160>,\n",
              " 'regression': <gensim.models.keyedvectors.Vocab at 0x7f6f03c31198>,\n",
              " 'types': <gensim.models.keyedvectors.Vocab at 0x7f6f03c311d0>,\n",
              " 'Classification': <gensim.models.keyedvectors.Vocab at 0x7f6f03c31208>,\n",
              " 'when': <gensim.models.keyedvectors.Vocab at 0x7f6f03c31240>,\n",
              " 'outputs': <gensim.models.keyedvectors.Vocab at 0x7f6f03c31278>,\n",
              " 'limited': <gensim.models.keyedvectors.Vocab at 0x7f6f03c312b0>,\n",
              " 'values.': <gensim.models.keyedvectors.Vocab at 0x7f6f03c312e8>,\n",
              " 'classification': <gensim.models.keyedvectors.Vocab at 0x7f6f03c31320>,\n",
              " 'filters': <gensim.models.keyedvectors.Vocab at 0x7f6f03c31358>,\n",
              " 'emails,': <gensim.models.keyedvectors.Vocab at 0x7f6f03c31390>,\n",
              " 'incoming': <gensim.models.keyedvectors.Vocab at 0x7f6f03c313c8>,\n",
              " 'email,': <gensim.models.keyedvectors.Vocab at 0x7f6f03c31400>,\n",
              " 'output': <gensim.models.keyedvectors.Vocab at 0x7f6f03c31438>,\n",
              " 'folder': <gensim.models.keyedvectors.Vocab at 0x7f6f03c31470>,\n",
              " 'file': <gensim.models.keyedvectors.Vocab at 0x7f6f03c314a8>,\n",
              " 'email.': <gensim.models.keyedvectors.Vocab at 0x7f6f03c314e0>,\n",
              " 'identifies': <gensim.models.keyedvectors.Vocab at 0x7f6f03c31518>,\n",
              " 'spam': <gensim.models.keyedvectors.Vocab at 0x7f6f03c31550>,\n",
              " 'prediction': <gensim.models.keyedvectors.Vocab at 0x7f6f03c31588>,\n",
              " 'either': <gensim.models.keyedvectors.Vocab at 0x7f6f03c315c0>,\n",
              " '\"spam\"': <gensim.models.keyedvectors.Vocab at 0x7f6f03c315f8>,\n",
              " '\"not': <gensim.models.keyedvectors.Vocab at 0x7f6f104ccba8>,\n",
              " 'spam\",': <gensim.models.keyedvectors.Vocab at 0x7f6f4050d0b8>,\n",
              " 'represented': <gensim.models.keyedvectors.Vocab at 0x7f6f4050d160>,\n",
              " 'Boolean': <gensim.models.keyedvectors.Vocab at 0x7f6f4050d0f0>,\n",
              " 'values': <gensim.models.keyedvectors.Vocab at 0x7f6f049d2470>,\n",
              " 'true': <gensim.models.keyedvectors.Vocab at 0x7f6f049d2438>,\n",
              " 'false.': <gensim.models.keyedvectors.Vocab at 0x7f6f04e6c6d8>,\n",
              " 'Regression': <gensim.models.keyedvectors.Vocab at 0x7f6f03e35a90>,\n",
              " 'named': <gensim.models.keyedvectors.Vocab at 0x7f6f03e35eb8>,\n",
              " 'their': <gensim.models.keyedvectors.Vocab at 0x7f6f03e35198>,\n",
              " 'continuous': <gensim.models.keyedvectors.Vocab at 0x7f6f03e35ac8>,\n",
              " 'outputs,': <gensim.models.keyedvectors.Vocab at 0x7f6f03e35358>,\n",
              " 'meaning': <gensim.models.keyedvectors.Vocab at 0x7f6f03e35c50>,\n",
              " 'they': <gensim.models.keyedvectors.Vocab at 0x7f6f03e35da0>,\n",
              " 'any': <gensim.models.keyedvectors.Vocab at 0x7f6f03e35438>,\n",
              " 'value': <gensim.models.keyedvectors.Vocab at 0x7f6f03e35208>,\n",
              " 'range.': <gensim.models.keyedvectors.Vocab at 0x7f6f03e35cc0>,\n",
              " 'Examples': <gensim.models.keyedvectors.Vocab at 0x7f6f03e35e48>,\n",
              " 'temperature,': <gensim.models.keyedvectors.Vocab at 0x7f6f03e35400>,\n",
              " 'length,': <gensim.models.keyedvectors.Vocab at 0x7f6f03e352e8>,\n",
              " 'price': <gensim.models.keyedvectors.Vocab at 0x7f6f03e35b70>,\n",
              " 'object.\\nIn': <gensim.models.keyedvectors.Vocab at 0x7f6f03e35978>,\n",
              " 'no': <gensim.models.keyedvectors.Vocab at 0x7f6f03e35320>,\n",
              " 'labels.': <gensim.models.keyedvectors.Vocab at 0x7f6f03e35e10>,\n",
              " 'Unsupervised': <gensim.models.keyedvectors.Vocab at 0x7f6f03e35940>,\n",
              " 'find': <gensim.models.keyedvectors.Vocab at 0x7f6f03e35278>,\n",
              " 'structure': <gensim.models.keyedvectors.Vocab at 0x7f6f03e35390>,\n",
              " 'like': <gensim.models.keyedvectors.Vocab at 0x7f6f03e35f60>,\n",
              " 'grouping': <gensim.models.keyedvectors.Vocab at 0x7f6f03e35be0>,\n",
              " 'clustering': <gensim.models.keyedvectors.Vocab at 0x7f6f03e35860>,\n",
              " 'points.': <gensim.models.keyedvectors.Vocab at 0x7f6f03e359b0>,\n",
              " 'discover': <gensim.models.keyedvectors.Vocab at 0x7f6f0f0b9cc0>,\n",
              " 'group': <gensim.models.keyedvectors.Vocab at 0x7f6f0f0b9c88>,\n",
              " 'categories,': <gensim.models.keyedvectors.Vocab at 0x7f6f0f0b9e80>,\n",
              " 'feature': <gensim.models.keyedvectors.Vocab at 0x7f6f0f0b9470>,\n",
              " 'Dimensionality': <gensim.models.keyedvectors.Vocab at 0x7f6f0f0b9f98>,\n",
              " 'reduction': <gensim.models.keyedvectors.Vocab at 0x7f6f0f0b9b38>,\n",
              " 'process': <gensim.models.keyedvectors.Vocab at 0x7f6f0f0b9cf8>,\n",
              " 'reducing': <gensim.models.keyedvectors.Vocab at 0x7f6f03c31630>,\n",
              " 'number': <gensim.models.keyedvectors.Vocab at 0x7f6f03c31668>,\n",
              " '\"features\",': <gensim.models.keyedvectors.Vocab at 0x7f6f03c316a0>,\n",
              " 'inputs,': <gensim.models.keyedvectors.Vocab at 0x7f6f03c316d8>,\n",
              " 'data.': <gensim.models.keyedvectors.Vocab at 0x7f6f03c31710>,\n",
              " '\\nActive': <gensim.models.keyedvectors.Vocab at 0x7f6f03c31748>,\n",
              " 'access': <gensim.models.keyedvectors.Vocab at 0x7f6f03c31780>,\n",
              " '(training': <gensim.models.keyedvectors.Vocab at 0x7f6f03c317b8>,\n",
              " 'labels)': <gensim.models.keyedvectors.Vocab at 0x7f6f03c317f0>,\n",
              " 'budget,': <gensim.models.keyedvectors.Vocab at 0x7f6f03c31828>,\n",
              " 'optimize': <gensim.models.keyedvectors.Vocab at 0x7f6f03c31860>,\n",
              " 'choice': <gensim.models.keyedvectors.Vocab at 0x7f6f03c31898>,\n",
              " 'will': <gensim.models.keyedvectors.Vocab at 0x7f6f03c318d0>,\n",
              " 'acquire': <gensim.models.keyedvectors.Vocab at 0x7f6f03c31908>,\n",
              " 'When': <gensim.models.keyedvectors.Vocab at 0x7f6f03c31940>,\n",
              " 'interactively,': <gensim.models.keyedvectors.Vocab at 0x7f6f03c31978>,\n",
              " 'these': <gensim.models.keyedvectors.Vocab at 0x7f6f03c319b0>,\n",
              " 'presented': <gensim.models.keyedvectors.Vocab at 0x7f6f03c319e8>,\n",
              " 'human': <gensim.models.keyedvectors.Vocab at 0x7f6f03c31a20>,\n",
              " 'user': <gensim.models.keyedvectors.Vocab at 0x7f6f03c31a58>,\n",
              " 'labeling.': <gensim.models.keyedvectors.Vocab at 0x7f6f03c31a90>,\n",
              " 'Reinforcement': <gensim.models.keyedvectors.Vocab at 0x7f6f03c31ac8>,\n",
              " 'given': <gensim.models.keyedvectors.Vocab at 0x7f6f03c31b00>,\n",
              " 'feedback': <gensim.models.keyedvectors.Vocab at 0x7f6f03c31b38>,\n",
              " 'form': <gensim.models.keyedvectors.Vocab at 0x7f6f03c31b70>,\n",
              " 'positive': <gensim.models.keyedvectors.Vocab at 0x7f6f03c31ba8>,\n",
              " 'negative': <gensim.models.keyedvectors.Vocab at 0x7f6f03c31be0>,\n",
              " 'reinforcement': <gensim.models.keyedvectors.Vocab at 0x7f6f03c31c18>,\n",
              " 'dynamic': <gensim.models.keyedvectors.Vocab at 0x7f6f03c31c50>,\n",
              " 'environment,': <gensim.models.keyedvectors.Vocab at 0x7f6f03c31c88>,\n",
              " 'autonomous': <gensim.models.keyedvectors.Vocab at 0x7f6f03c31cc0>,\n",
              " 'vehicles': <gensim.models.keyedvectors.Vocab at 0x7f6f03c31cf8>,\n",
              " 'play': <gensim.models.keyedvectors.Vocab at 0x7f6f03c31d30>,\n",
              " 'game': <gensim.models.keyedvectors.Vocab at 0x7f6f03c31d68>,\n",
              " 'against': <gensim.models.keyedvectors.Vocab at 0x7f6f03c31da0>,\n",
              " 'opponent.': <gensim.models.keyedvectors.Vocab at 0x7f6f03c31dd8>,\n",
              " 'Other': <gensim.models.keyedvectors.Vocab at 0x7f6f03c31e10>,\n",
              " 'specialized': <gensim.models.keyedvectors.Vocab at 0x7f6f03c31e48>,\n",
              " 'topic': <gensim.models.keyedvectors.Vocab at 0x7f6f03c31e80>,\n",
              " 'modeling,': <gensim.models.keyedvectors.Vocab at 0x7f6f03c31eb8>,\n",
              " 'natural': <gensim.models.keyedvectors.Vocab at 0x7f6f03c31ef0>,\n",
              " 'language': <gensim.models.keyedvectors.Vocab at 0x7f6f03c31f28>,\n",
              " 'documents': <gensim.models.keyedvectors.Vocab at 0x7f6f03c31f60>,\n",
              " 'finds': <gensim.models.keyedvectors.Vocab at 0x7f6f03c31f98>,\n",
              " 'other': <gensim.models.keyedvectors.Vocab at 0x7f6f03c31fd0>,\n",
              " 'cover': <gensim.models.keyedvectors.Vocab at 0x7f6f03c34048>,\n",
              " 'similar': <gensim.models.keyedvectors.Vocab at 0x7f6f03c34080>,\n",
              " 'topics.': <gensim.models.keyedvectors.Vocab at 0x7f6f03c340b8>,\n",
              " 'unobservable': <gensim.models.keyedvectors.Vocab at 0x7f6f03c340f0>,\n",
              " 'probability': <gensim.models.keyedvectors.Vocab at 0x7f6f03c34128>,\n",
              " 'density': <gensim.models.keyedvectors.Vocab at 0x7f6f03c34160>,\n",
              " 'function': <gensim.models.keyedvectors.Vocab at 0x7f6f03c34198>,\n",
              " 'estimation': <gensim.models.keyedvectors.Vocab at 0x7f6f03c341d0>,\n",
              " 'problems.': <gensim.models.keyedvectors.Vocab at 0x7f6f03c34208>,\n",
              " 'Meta': <gensim.models.keyedvectors.Vocab at 0x7f6f03c34240>,\n",
              " 'own': <gensim.models.keyedvectors.Vocab at 0x7f6f03c34278>,\n",
              " 'inductive': <gensim.models.keyedvectors.Vocab at 0x7f6f03c342b0>,\n",
              " 'bias': <gensim.models.keyedvectors.Vocab at 0x7f6f03c342e8>,\n",
              " 'previous': <gensim.models.keyedvectors.Vocab at 0x7f6f03c34320>,\n",
              " 'experience.': <gensim.models.keyedvectors.Vocab at 0x7f6f03c34358>,\n",
              " 'developmental': <gensim.models.keyedvectors.Vocab at 0x7f6f03c34390>,\n",
              " 'robotics,': <gensim.models.keyedvectors.Vocab at 0x7f6f03c343c8>,\n",
              " 'robot': <gensim.models.keyedvectors.Vocab at 0x7f6f03c34400>,\n",
              " 'generate': <gensim.models.keyedvectors.Vocab at 0x7f6f03c34438>,\n",
              " 'sequences': <gensim.models.keyedvectors.Vocab at 0x7f6f03c34470>,\n",
              " 'experiences,': <gensim.models.keyedvectors.Vocab at 0x7f6f03c344a8>,\n",
              " 'curriculum,': <gensim.models.keyedvectors.Vocab at 0x7f6f03c344e0>,\n",
              " 'cumulatively': <gensim.models.keyedvectors.Vocab at 0x7f6f03c34518>,\n",
              " 'new': <gensim.models.keyedvectors.Vocab at 0x7f6f03c34550>,\n",
              " 'skills': <gensim.models.keyedvectors.Vocab at 0x7f6f03c34588>,\n",
              " 'self-guided': <gensim.models.keyedvectors.Vocab at 0x7f6f03c345c0>,\n",
              " 'exploration': <gensim.models.keyedvectors.Vocab at 0x7f6f03c345f8>,\n",
              " 'social': <gensim.models.keyedvectors.Vocab at 0x7f6f03c34630>,\n",
              " 'interaction': <gensim.models.keyedvectors.Vocab at 0x7f6f03c34668>,\n",
              " 'humans.': <gensim.models.keyedvectors.Vocab at 0x7f6f03c346a0>,\n",
              " 'These': <gensim.models.keyedvectors.Vocab at 0x7f6f03c346d8>,\n",
              " 'robots': <gensim.models.keyedvectors.Vocab at 0x7f6f03c34710>,\n",
              " 'guidance': <gensim.models.keyedvectors.Vocab at 0x7f6f03c34748>,\n",
              " 'mechanisms': <gensim.models.keyedvectors.Vocab at 0x7f6f03c34780>,\n",
              " 'active': <gensim.models.keyedvectors.Vocab at 0x7f6f03c347b8>,\n",
              " 'maturation,': <gensim.models.keyedvectors.Vocab at 0x7f6f03c347f0>,\n",
              " 'motor': <gensim.models.keyedvectors.Vocab at 0x7f6f03c34828>,\n",
              " 'synergies,': <gensim.models.keyedvectors.Vocab at 0x7f6f03c34860>,\n",
              " 'imitation.\\n\\n\\n==': <gensim.models.keyedvectors.Vocab at 0x7f6f03c34898>,\n",
              " 'History': <gensim.models.keyedvectors.Vocab at 0x7f6f03c348d0>,\n",
              " 'relationships': <gensim.models.keyedvectors.Vocab at 0x7f6f03c34908>,\n",
              " 'fields': <gensim.models.keyedvectors.Vocab at 0x7f6f03c34940>,\n",
              " '==\\n\\nArthur': <gensim.models.keyedvectors.Vocab at 0x7f6f03c34978>,\n",
              " 'Samuel,': <gensim.models.keyedvectors.Vocab at 0x7f6f03c349b0>,\n",
              " 'American': <gensim.models.keyedvectors.Vocab at 0x7f6f03c349e8>,\n",
              " 'pioneer': <gensim.models.keyedvectors.Vocab at 0x7f6f03c34a20>,\n",
              " 'gaming': <gensim.models.keyedvectors.Vocab at 0x7f6f03c34a58>,\n",
              " 'intelligence,': <gensim.models.keyedvectors.Vocab at 0x7f6f03c34a90>,\n",
              " 'term': <gensim.models.keyedvectors.Vocab at 0x7f6f03c34ac8>,\n",
              " '\"Machine': <gensim.models.keyedvectors.Vocab at 0x7f6f03c34b00>,\n",
              " 'Learning\"': <gensim.models.keyedvectors.Vocab at 0x7f6f03c34b38>,\n",
              " 'while': <gensim.models.keyedvectors.Vocab at 0x7f6f03c34b70>,\n",
              " 'IBM.': <gensim.models.keyedvectors.Vocab at 0x7f6f03c34ba8>,\n",
              " '\\nAs': <gensim.models.keyedvectors.Vocab at 0x7f6f03c34be0>,\n",
              " 'endeavour,': <gensim.models.keyedvectors.Vocab at 0x7f6f03c34c18>,\n",
              " 'grew': <gensim.models.keyedvectors.Vocab at 0x7f6f03c34c50>,\n",
              " 'out': <gensim.models.keyedvectors.Vocab at 0x7f6f03c34c88>,\n",
              " 'quest': <gensim.models.keyedvectors.Vocab at 0x7f6f03c34cc0>,\n",
              " 'Already': <gensim.models.keyedvectors.Vocab at 0x7f6f03c34cf8>,\n",
              " 'early': <gensim.models.keyedvectors.Vocab at 0x7f6f03c34d30>,\n",
              " 'days': <gensim.models.keyedvectors.Vocab at 0x7f6f03c34d68>,\n",
              " 'AI': <gensim.models.keyedvectors.Vocab at 0x7f6f03c34da0>,\n",
              " 'academic': <gensim.models.keyedvectors.Vocab at 0x7f6f03c34dd8>,\n",
              " 'discipline,': <gensim.models.keyedvectors.Vocab at 0x7f6f03c34e10>,\n",
              " 'researchers': <gensim.models.keyedvectors.Vocab at 0x7f6f03c34e48>,\n",
              " 'interested': <gensim.models.keyedvectors.Vocab at 0x7f6f03c34e80>,\n",
              " 'having': <gensim.models.keyedvectors.Vocab at 0x7f6f03c34eb8>,\n",
              " 'They': <gensim.models.keyedvectors.Vocab at 0x7f6f03c34ef0>,\n",
              " 'attempted': <gensim.models.keyedvectors.Vocab at 0x7f6f03c34f28>,\n",
              " 'approach': <gensim.models.keyedvectors.Vocab at 0x7f6f03c34f60>,\n",
              " 'problem': <gensim.models.keyedvectors.Vocab at 0x7f6f03c34f98>,\n",
              " 'symbolic': <gensim.models.keyedvectors.Vocab at 0x7f6f03c34fd0>,\n",
              " 'well': <gensim.models.keyedvectors.Vocab at 0x7f6f03c37048>,\n",
              " 'then': <gensim.models.keyedvectors.Vocab at 0x7f6f03c37080>,\n",
              " 'termed': <gensim.models.keyedvectors.Vocab at 0x7f6f03c370b8>,\n",
              " '\"neural': <gensim.models.keyedvectors.Vocab at 0x7f6f03c370f0>,\n",
              " 'networks\";': <gensim.models.keyedvectors.Vocab at 0x7f6f03c37128>,\n",
              " 'mostly': <gensim.models.keyedvectors.Vocab at 0x7f6f03c37160>,\n",
              " 'perceptrons': <gensim.models.keyedvectors.Vocab at 0x7f6f03c37198>,\n",
              " 'later': <gensim.models.keyedvectors.Vocab at 0x7f6f03c371d0>,\n",
              " 'found': <gensim.models.keyedvectors.Vocab at 0x7f6f03c37208>,\n",
              " 'reinventions': <gensim.models.keyedvectors.Vocab at 0x7f6f03c37240>,\n",
              " 'generalized': <gensim.models.keyedvectors.Vocab at 0x7f6f03c37278>,\n",
              " 'linear': <gensim.models.keyedvectors.Vocab at 0x7f6f03c372b0>,\n",
              " 'statistics.': <gensim.models.keyedvectors.Vocab at 0x7f6f03c372e8>,\n",
              " 'Probabilistic': <gensim.models.keyedvectors.Vocab at 0x7f6f03c37320>,\n",
              " 'reasoning': <gensim.models.keyedvectors.Vocab at 0x7f6f03c37358>,\n",
              " 'employed,': <gensim.models.keyedvectors.Vocab at 0x7f6f03c37390>,\n",
              " 'especially': <gensim.models.keyedvectors.Vocab at 0x7f6f03c373c8>,\n",
              " 'automated': <gensim.models.keyedvectors.Vocab at 0x7f6f03c37400>,\n",
              " 'medical': <gensim.models.keyedvectors.Vocab at 0x7f6f03c37438>,\n",
              " 'diagnosis.However,': <gensim.models.keyedvectors.Vocab at 0x7f6f03c37470>,\n",
              " 'increasing': <gensim.models.keyedvectors.Vocab at 0x7f6f03c374a8>,\n",
              " 'emphasis': <gensim.models.keyedvectors.Vocab at 0x7f6f03c374e0>,\n",
              " 'logical,': <gensim.models.keyedvectors.Vocab at 0x7f6f03c37518>,\n",
              " 'knowledge-based': <gensim.models.keyedvectors.Vocab at 0x7f6f03c37550>,\n",
              " 'caused': <gensim.models.keyedvectors.Vocab at 0x7f6f03c37588>,\n",
              " 'rift': <gensim.models.keyedvectors.Vocab at 0x7f6f03c375c0>,\n",
              " 'between': <gensim.models.keyedvectors.Vocab at 0x7f6f03c375f8>,\n",
              " 'plagued': <gensim.models.keyedvectors.Vocab at 0x7f6f03c37630>,\n",
              " 'theoretical': <gensim.models.keyedvectors.Vocab at 0x7f6f03c37668>,\n",
              " 'practical': <gensim.models.keyedvectors.Vocab at 0x7f6f03c376a0>,\n",
              " 'problems': <gensim.models.keyedvectors.Vocab at 0x7f6f03c376d8>,\n",
              " 'acquisition': <gensim.models.keyedvectors.Vocab at 0x7f6f03c37710>,\n",
              " 'representation.': <gensim.models.keyedvectors.Vocab at 0x7f6f03c37748>,\n",
              " 'By': <gensim.models.keyedvectors.Vocab at 0x7f6f03c37780>,\n",
              " '1980,': <gensim.models.keyedvectors.Vocab at 0x7f6f03c377b8>,\n",
              " 'expert': <gensim.models.keyedvectors.Vocab at 0x7f6f03c377f0>,\n",
              " 'had': <gensim.models.keyedvectors.Vocab at 0x7f6f03c37828>,\n",
              " 'come': <gensim.models.keyedvectors.Vocab at 0x7f6f03c37860>,\n",
              " 'dominate': <gensim.models.keyedvectors.Vocab at 0x7f6f03c37898>,\n",
              " 'AI,': <gensim.models.keyedvectors.Vocab at 0x7f6f03c378d0>,\n",
              " 'statistics': <gensim.models.keyedvectors.Vocab at 0x7f6f03c37908>,\n",
              " 'favor.': <gensim.models.keyedvectors.Vocab at 0x7f6f03c37940>,\n",
              " 'Work': <gensim.models.keyedvectors.Vocab at 0x7f6f03c37978>,\n",
              " 'symbolic/knowledge-based': <gensim.models.keyedvectors.Vocab at 0x7f6f03c379b0>,\n",
              " 'did': <gensim.models.keyedvectors.Vocab at 0x7f6f03c379e8>,\n",
              " 'continue': <gensim.models.keyedvectors.Vocab at 0x7f6f03c37a20>,\n",
              " 'leading': <gensim.models.keyedvectors.Vocab at 0x7f6f03c37a58>,\n",
              " 'logic': <gensim.models.keyedvectors.Vocab at 0x7f6f03c37a90>,\n",
              " 'programming,': <gensim.models.keyedvectors.Vocab at 0x7f6f03c37ac8>,\n",
              " 'but': <gensim.models.keyedvectors.Vocab at 0x7f6f03c37b00>,\n",
              " 'line': <gensim.models.keyedvectors.Vocab at 0x7f6f03c37b38>,\n",
              " 'research': <gensim.models.keyedvectors.Vocab at 0x7f6f03c37b70>,\n",
              " 'now': <gensim.models.keyedvectors.Vocab at 0x7f6f03c37ba8>,\n",
              " 'outside': <gensim.models.keyedvectors.Vocab at 0x7f6f03c37be0>,\n",
              " 'proper,': <gensim.models.keyedvectors.Vocab at 0x7f6f03c37c18>,\n",
              " 'pattern': <gensim.models.keyedvectors.Vocab at 0x7f6f03c37c50>,\n",
              " 'recognition': <gensim.models.keyedvectors.Vocab at 0x7f6f03c37c88>,\n",
              " 'information': <gensim.models.keyedvectors.Vocab at 0x7f6f03c37cc0>,\n",
              " 'retrieval.': <gensim.models.keyedvectors.Vocab at 0x7f6f03c37cf8>,\n",
              " 'Neural': <gensim.models.keyedvectors.Vocab at 0x7f6f03c37d30>,\n",
              " 'networks': <gensim.models.keyedvectors.Vocab at 0x7f6f03c37d68>,\n",
              " 'been': <gensim.models.keyedvectors.Vocab at 0x7f6f03c37da0>,\n",
              " 'abandoned': <gensim.models.keyedvectors.Vocab at 0x7f6f03c37dd8>,\n",
              " 'science': <gensim.models.keyedvectors.Vocab at 0x7f6f03c37e10>,\n",
              " 'around': <gensim.models.keyedvectors.Vocab at 0x7f6f03c37e48>,\n",
              " 'same': <gensim.models.keyedvectors.Vocab at 0x7f6f03c37e80>,\n",
              " 'time.': <gensim.models.keyedvectors.Vocab at 0x7f6f03c37eb8>,\n",
              " 'line,': <gensim.models.keyedvectors.Vocab at 0x7f6f03c37ef0>,\n",
              " 'too,': <gensim.models.keyedvectors.Vocab at 0x7f6f03c37f28>,\n",
              " 'continued': <gensim.models.keyedvectors.Vocab at 0x7f6f03c37f60>,\n",
              " 'AI/CS': <gensim.models.keyedvectors.Vocab at 0x7f6f03c37f98>,\n",
              " 'field,': <gensim.models.keyedvectors.Vocab at 0x7f6f03c37fd0>,\n",
              " '\"connectionism\",': <gensim.models.keyedvectors.Vocab at 0x7f6f03c3a048>,\n",
              " 'disciplines': <gensim.models.keyedvectors.Vocab at 0x7f6f03c3a080>,\n",
              " 'including': <gensim.models.keyedvectors.Vocab at 0x7f6f03c3a0b8>,\n",
              " 'Hopfield,': <gensim.models.keyedvectors.Vocab at 0x7f6f03c3a0f0>,\n",
              " 'Rumelhart': <gensim.models.keyedvectors.Vocab at 0x7f6f03c3a128>,\n",
              " 'Hinton.': <gensim.models.keyedvectors.Vocab at 0x7f6f03c3a160>,\n",
              " 'Their': <gensim.models.keyedvectors.Vocab at 0x7f6f03c3a198>,\n",
              " 'main': <gensim.models.keyedvectors.Vocab at 0x7f6f03c3a1d0>,\n",
              " 'success': <gensim.models.keyedvectors.Vocab at 0x7f6f03c3a208>,\n",
              " 'came': <gensim.models.keyedvectors.Vocab at 0x7f6f03c3a240>,\n",
              " 'mid-1980s': <gensim.models.keyedvectors.Vocab at 0x7f6f03c3a278>,\n",
              " 'reinvention': <gensim.models.keyedvectors.Vocab at 0x7f6f03c3a2b0>,\n",
              " 'backpropagation.Machine': <gensim.models.keyedvectors.Vocab at 0x7f6f03c3a2e8>,\n",
              " 'reorganized': <gensim.models.keyedvectors.Vocab at 0x7f6f03c3a320>,\n",
              " 'separate': <gensim.models.keyedvectors.Vocab at 0x7f6f03c3a358>,\n",
              " 'started': <gensim.models.keyedvectors.Vocab at 0x7f6f03c3a390>,\n",
              " 'flourish': <gensim.models.keyedvectors.Vocab at 0x7f6f03c3a3c8>,\n",
              " '1990s.': <gensim.models.keyedvectors.Vocab at 0x7f6f03c3a400>,\n",
              " 'changed': <gensim.models.keyedvectors.Vocab at 0x7f6f03c3a438>,\n",
              " 'goal': <gensim.models.keyedvectors.Vocab at 0x7f6f03c3a470>,\n",
              " 'achieving': <gensim.models.keyedvectors.Vocab at 0x7f6f03c3a4a8>,\n",
              " 'intelligence': <gensim.models.keyedvectors.Vocab at 0x7f6f03c3a4e0>,\n",
              " 'tackling': <gensim.models.keyedvectors.Vocab at 0x7f6f03c3a518>,\n",
              " 'solvable': <gensim.models.keyedvectors.Vocab at 0x7f6f03c3a550>,\n",
              " 'nature.': <gensim.models.keyedvectors.Vocab at 0x7f6f03c3a588>,\n",
              " 'shifted': <gensim.models.keyedvectors.Vocab at 0x7f6f03c3a5c0>,\n",
              " 'focus': <gensim.models.keyedvectors.Vocab at 0x7f6f03c3a5f8>,\n",
              " 'away': <gensim.models.keyedvectors.Vocab at 0x7f6f03c3a630>,\n",
              " 'approaches': <gensim.models.keyedvectors.Vocab at 0x7f6f03c3a668>,\n",
              " 'inherited': <gensim.models.keyedvectors.Vocab at 0x7f6f03c3a6a0>,\n",
              " 'toward': <gensim.models.keyedvectors.Vocab at 0x7f6f03c3a6d8>,\n",
              " 'methods': <gensim.models.keyedvectors.Vocab at 0x7f6f03c3a710>,\n",
              " 'borrowed': <gensim.models.keyedvectors.Vocab at 0x7f6f03c3a748>,\n",
              " 'theory.': <gensim.models.keyedvectors.Vocab at 0x7f6f03c3a780>,\n",
              " 'benefited': <gensim.models.keyedvectors.Vocab at 0x7f6f03c3a7b8>,\n",
              " 'availability': <gensim.models.keyedvectors.Vocab at 0x7f6f03c3a7f0>,\n",
              " 'digitized': <gensim.models.keyedvectors.Vocab at 0x7f6f03c3a828>,\n",
              " 'information,': <gensim.models.keyedvectors.Vocab at 0x7f6f03c3a860>,\n",
              " 'ability': <gensim.models.keyedvectors.Vocab at 0x7f6f03c3a898>,\n",
              " 'distribute': <gensim.models.keyedvectors.Vocab at 0x7f6f03c3a8d0>,\n",
              " 'via': <gensim.models.keyedvectors.Vocab at 0x7f6f03c3a908>,\n",
              " 'Internet.\\n\\n\\n===': <gensim.models.keyedvectors.Vocab at 0x7f6f03c3a940>,\n",
              " 'Relation': <gensim.models.keyedvectors.Vocab at 0x7f6f03c3a978>,\n",
              " '===\\nMachine': <gensim.models.keyedvectors.Vocab at 0x7f6f03c3a9b0>,\n",
              " 'often': <gensim.models.keyedvectors.Vocab at 0x7f6f03c3a9e8>,\n",
              " 'employ': <gensim.models.keyedvectors.Vocab at 0x7f6f03c3aa20>,\n",
              " 'overlap': <gensim.models.keyedvectors.Vocab at 0x7f6f03c3aa58>,\n",
              " 'significantly,': <gensim.models.keyedvectors.Vocab at 0x7f6f03c3aa90>,\n",
              " 'prediction,': <gensim.models.keyedvectors.Vocab at 0x7f6f03c3aac8>,\n",
              " 'properties': <gensim.models.keyedvectors.Vocab at 0x7f6f03c3ab00>,\n",
              " 'learned': <gensim.models.keyedvectors.Vocab at 0x7f6f03c3ab38>,\n",
              " 'discovery': <gensim.models.keyedvectors.Vocab at 0x7f6f03c3ab70>,\n",
              " '(previously)': <gensim.models.keyedvectors.Vocab at 0x7f6f03c3aba8>,\n",
              " 'unknown': <gensim.models.keyedvectors.Vocab at 0x7f6f03c3abe0>,\n",
              " '(this': <gensim.models.keyedvectors.Vocab at 0x7f6f03c3ac18>,\n",
              " 'step': <gensim.models.keyedvectors.Vocab at 0x7f6f03c3ac50>,\n",
              " 'knowledge': <gensim.models.keyedvectors.Vocab at 0x7f6f03c3ac88>,\n",
              " 'databases).': <gensim.models.keyedvectors.Vocab at 0x7f6f03c3acc0>,\n",
              " 'uses': <gensim.models.keyedvectors.Vocab at 0x7f6f03c3acf8>,\n",
              " 'many': <gensim.models.keyedvectors.Vocab at 0x7f6f03c3ad30>,\n",
              " 'different': <gensim.models.keyedvectors.Vocab at 0x7f6f03c3ad68>,\n",
              " 'goals;': <gensim.models.keyedvectors.Vocab at 0x7f6f03c3ada0>,\n",
              " 'hand,': <gensim.models.keyedvectors.Vocab at 0x7f6f03c3add8>,\n",
              " 'employs': <gensim.models.keyedvectors.Vocab at 0x7f6f03c3ae10>,\n",
              " '\"unsupervised': <gensim.models.keyedvectors.Vocab at 0x7f6f03c3ae48>,\n",
              " 'learning\"': <gensim.models.keyedvectors.Vocab at 0x7f6f03c3ae80>,\n",
              " 'preprocessing': <gensim.models.keyedvectors.Vocab at 0x7f6f03c3aeb8>,\n",
              " 'improve': <gensim.models.keyedvectors.Vocab at 0x7f6f03c3aef0>,\n",
              " 'learner': <gensim.models.keyedvectors.Vocab at 0x7f6f03c3af28>,\n",
              " 'accuracy.': <gensim.models.keyedvectors.Vocab at 0x7f6f03c3af60>,\n",
              " 'Much': <gensim.models.keyedvectors.Vocab at 0x7f6f03c3af98>,\n",
              " 'confusion': <gensim.models.keyedvectors.Vocab at 0x7f6f03c3afd0>,\n",
              " 'two': <gensim.models.keyedvectors.Vocab at 0x7f6f03c3f048>,\n",
              " 'communities': <gensim.models.keyedvectors.Vocab at 0x7f6f03c3f080>,\n",
              " '(which': <gensim.models.keyedvectors.Vocab at 0x7f6f03c3f0b8>,\n",
              " 'conferences': <gensim.models.keyedvectors.Vocab at 0x7f6f03c3f0f0>,\n",
              " 'journals,': <gensim.models.keyedvectors.Vocab at 0x7f6f03c3f128>,\n",
              " 'ECML': <gensim.models.keyedvectors.Vocab at 0x7f6f03c3f160>,\n",
              " 'PKDD': <gensim.models.keyedvectors.Vocab at 0x7f6f03c3f198>,\n",
              " 'major': <gensim.models.keyedvectors.Vocab at 0x7f6f03c3f1d0>,\n",
              " 'exception)': <gensim.models.keyedvectors.Vocab at 0x7f6f03c3f208>,\n",
              " 'comes': <gensim.models.keyedvectors.Vocab at 0x7f6f03c3f240>,\n",
              " 'basic': <gensim.models.keyedvectors.Vocab at 0x7f6f03c3f278>,\n",
              " 'assumptions': <gensim.models.keyedvectors.Vocab at 0x7f6f03c3f2b0>,\n",
              " 'work': <gensim.models.keyedvectors.Vocab at 0x7f6f03c3f2e8>,\n",
              " 'with:': <gensim.models.keyedvectors.Vocab at 0x7f6f03c3f320>,\n",
              " 'usually': <gensim.models.keyedvectors.Vocab at 0x7f6f03c3f358>,\n",
              " 'evaluated': <gensim.models.keyedvectors.Vocab at 0x7f6f03c3f390>,\n",
              " 'reproduce': <gensim.models.keyedvectors.Vocab at 0x7f6f03c3f3c8>,\n",
              " 'knowledge,': <gensim.models.keyedvectors.Vocab at 0x7f6f03c3f400>,\n",
              " '(KDD)': <gensim.models.keyedvectors.Vocab at 0x7f6f03c3f438>,\n",
              " 'key': <gensim.models.keyedvectors.Vocab at 0x7f6f03c3f470>,\n",
              " 'previously': <gensim.models.keyedvectors.Vocab at 0x7f6f03c3f4a8>,\n",
              " 'knowledge.': <gensim.models.keyedvectors.Vocab at 0x7f6f03c3f4e0>,\n",
              " 'Evaluated': <gensim.models.keyedvectors.Vocab at 0x7f6f03c3f518>,\n",
              " 'uninformed': <gensim.models.keyedvectors.Vocab at 0x7f6f03c3f550>,\n",
              " '(unsupervised)': <gensim.models.keyedvectors.Vocab at 0x7f6f03c3f588>,\n",
              " 'method': <gensim.models.keyedvectors.Vocab at 0x7f6f03c3f5c0>,\n",
              " 'easily': <gensim.models.keyedvectors.Vocab at 0x7f6f03c3f5f8>,\n",
              " 'outperformed': <gensim.models.keyedvectors.Vocab at 0x7f6f03c3f630>,\n",
              " 'typical': <gensim.models.keyedvectors.Vocab at 0x7f6f03c3f668>,\n",
              " 'KDD': <gensim.models.keyedvectors.Vocab at 0x7f6f03c3f6a0>,\n",
              " 'task,': <gensim.models.keyedvectors.Vocab at 0x7f6f03c3f6d8>,\n",
              " 'cannot': <gensim.models.keyedvectors.Vocab at 0x7f6f03c3f710>,\n",
              " 'due': <gensim.models.keyedvectors.Vocab at 0x7f6f03c3f748>,\n",
              " 'unavailability': <gensim.models.keyedvectors.Vocab at 0x7f6f03c3f780>,\n",
              " 'data.\\n\\n\\n===': <gensim.models.keyedvectors.Vocab at 0x7f6f03c3f7b8>,\n",
              " 'has': <gensim.models.keyedvectors.Vocab at 0x7f6f03c3f7f0>,\n",
              " 'intimate': <gensim.models.keyedvectors.Vocab at 0x7f6f03c3f828>,\n",
              " 'ties': <gensim.models.keyedvectors.Vocab at 0x7f6f03c3f860>,\n",
              " 'optimization:': <gensim.models.keyedvectors.Vocab at 0x7f6f03c3f898>,\n",
              " 'formulated': <gensim.models.keyedvectors.Vocab at 0x7f6f03c3f8d0>,\n",
              " 'minimization': <gensim.models.keyedvectors.Vocab at 0x7f6f03c3f908>,\n",
              " 'loss': <gensim.models.keyedvectors.Vocab at 0x7f6f03c3f940>,\n",
              " 'examples.': <gensim.models.keyedvectors.Vocab at 0x7f6f03c3f978>,\n",
              " 'Loss': <gensim.models.keyedvectors.Vocab at 0x7f6f03c3f9b0>,\n",
              " 'functions': <gensim.models.keyedvectors.Vocab at 0x7f6f03c3f9e8>,\n",
              " 'express': <gensim.models.keyedvectors.Vocab at 0x7f6f03c3fa20>,\n",
              " 'discrepancy': <gensim.models.keyedvectors.Vocab at 0x7f6f03c3fa58>,\n",
              " 'trained': <gensim.models.keyedvectors.Vocab at 0x7f6f03c3fa90>,\n",
              " 'actual': <gensim.models.keyedvectors.Vocab at 0x7f6f03c3fac8>,\n",
              " 'instances': <gensim.models.keyedvectors.Vocab at 0x7f6f03c3fb00>,\n",
              " '(for': <gensim.models.keyedvectors.Vocab at 0x7f6f03c3fb38>,\n",
              " 'classification,': <gensim.models.keyedvectors.Vocab at 0x7f6f03c3fb70>,\n",
              " 'wants': <gensim.models.keyedvectors.Vocab at 0x7f6f03c3fba8>,\n",
              " 'assign': <gensim.models.keyedvectors.Vocab at 0x7f6f03c3fbe0>,\n",
              " 'instances,': <gensim.models.keyedvectors.Vocab at 0x7f6f03c3fc18>,\n",
              " 'correctly': <gensim.models.keyedvectors.Vocab at 0x7f6f03c3fc50>,\n",
              " 'predict': <gensim.models.keyedvectors.Vocab at 0x7f6f03c3fc88>,\n",
              " 'pre-assigned': <gensim.models.keyedvectors.Vocab at 0x7f6f03c3fcc0>,\n",
              " 'labels': <gensim.models.keyedvectors.Vocab at 0x7f6f03c3fcf8>,\n",
              " 'examples).': <gensim.models.keyedvectors.Vocab at 0x7f6f03c3fd30>,\n",
              " 'difference': <gensim.models.keyedvectors.Vocab at 0x7f6f03c3fd68>,\n",
              " 'arises': <gensim.models.keyedvectors.Vocab at 0x7f6f03c3fda0>,\n",
              " 'generalization:': <gensim.models.keyedvectors.Vocab at 0x7f6f03c3fdd8>,\n",
              " 'minimize': <gensim.models.keyedvectors.Vocab at 0x7f6f03c3fe10>,\n",
              " 'set,': <gensim.models.keyedvectors.Vocab at 0x7f6f03c3fe48>,\n",
              " 'minimizing': <gensim.models.keyedvectors.Vocab at 0x7f6f03c3fe80>,\n",
              " 'unseen': <gensim.models.keyedvectors.Vocab at 0x7f6f03c3feb8>,\n",
              " 'samples.\\n\\n\\n===': <gensim.models.keyedvectors.Vocab at 0x7f6f03c3fef0>,\n",
              " 'fields.': <gensim.models.keyedvectors.Vocab at 0x7f6f03c3ff28>,\n",
              " 'According': <gensim.models.keyedvectors.Vocab at 0x7f6f03c3ff60>,\n",
              " 'Michael': <gensim.models.keyedvectors.Vocab at 0x7f6f03c3ff98>,\n",
              " 'I.': <gensim.models.keyedvectors.Vocab at 0x7f6f03c3ffd0>,\n",
              " 'Jordan,': <gensim.models.keyedvectors.Vocab at 0x7f6f03c42048>,\n",
              " 'ideas': <gensim.models.keyedvectors.Vocab at 0x7f6f03c42080>,\n",
              " 'methodological': <gensim.models.keyedvectors.Vocab at 0x7f6f03c420b8>,\n",
              " 'principles': <gensim.models.keyedvectors.Vocab at 0x7f6f03c420f0>,\n",
              " 'tools,': <gensim.models.keyedvectors.Vocab at 0x7f6f03c42128>,\n",
              " 'long': <gensim.models.keyedvectors.Vocab at 0x7f6f03c42160>,\n",
              " 'pre-history': <gensim.models.keyedvectors.Vocab at 0x7f6f03c42198>,\n",
              " 'He': <gensim.models.keyedvectors.Vocab at 0x7f6f03c421d0>,\n",
              " 'suggested': <gensim.models.keyedvectors.Vocab at 0x7f6f03c42208>,\n",
              " 'placeholder': <gensim.models.keyedvectors.Vocab at 0x7f6f03c42240>,\n",
              " 'call': <gensim.models.keyedvectors.Vocab at 0x7f6f03c42278>,\n",
              " 'overall': <gensim.models.keyedvectors.Vocab at 0x7f6f03c422b0>,\n",
              " 'field.Leo': <gensim.models.keyedvectors.Vocab at 0x7f6f03c422e8>,\n",
              " 'Breiman': <gensim.models.keyedvectors.Vocab at 0x7f6f03c42320>,\n",
              " 'distinguished': <gensim.models.keyedvectors.Vocab at 0x7f6f03c42358>,\n",
              " 'modelling': <gensim.models.keyedvectors.Vocab at 0x7f6f03c42390>,\n",
              " 'paradigms:': <gensim.models.keyedvectors.Vocab at 0x7f6f03c423c8>,\n",
              " 'algorithmic': <gensim.models.keyedvectors.Vocab at 0x7f6f03c42400>,\n",
              " 'model,': <gensim.models.keyedvectors.Vocab at 0x7f6f03c42438>,\n",
              " 'wherein': <gensim.models.keyedvectors.Vocab at 0x7f6f03c42470>,\n",
              " '\"algorithmic': <gensim.models.keyedvectors.Vocab at 0x7f6f03c424a8>,\n",
              " 'model\"': <gensim.models.keyedvectors.Vocab at 0x7f6f03c424e0>,\n",
              " 'means': <gensim.models.keyedvectors.Vocab at 0x7f6f03c42518>,\n",
              " 'less': <gensim.models.keyedvectors.Vocab at 0x7f6f03c42550>,\n",
              " 'Random': <gensim.models.keyedvectors.Vocab at 0x7f6f03c42588>,\n",
              " 'forest.\\nSome': <gensim.models.keyedvectors.Vocab at 0x7f6f03c425c0>,\n",
              " 'statisticians': <gensim.models.keyedvectors.Vocab at 0x7f6f03c425f8>,\n",
              " 'adopted': <gensim.models.keyedvectors.Vocab at 0x7f6f03c42630>,\n",
              " 'combined': <gensim.models.keyedvectors.Vocab at 0x7f6f03c42668>,\n",
              " 'learning.\\n\\n\\n==': <gensim.models.keyedvectors.Vocab at 0x7f6f03c426a0>,\n",
              " 'Theory': <gensim.models.keyedvectors.Vocab at 0x7f6f03c426d8>,\n",
              " '==\\n\\nA': <gensim.models.keyedvectors.Vocab at 0x7f6f03c42710>,\n",
              " 'core': <gensim.models.keyedvectors.Vocab at 0x7f6f03c42748>,\n",
              " 'objective': <gensim.models.keyedvectors.Vocab at 0x7f6f03c42780>,\n",
              " 'generalize': <gensim.models.keyedvectors.Vocab at 0x7f6f03c427b8>,\n",
              " 'Generalization': <gensim.models.keyedvectors.Vocab at 0x7f6f03c427f0>,\n",
              " 'this': <gensim.models.keyedvectors.Vocab at 0x7f6f03c42828>,\n",
              " 'context': <gensim.models.keyedvectors.Vocab at 0x7f6f03c42860>,\n",
              " 'accurately': <gensim.models.keyedvectors.Vocab at 0x7f6f03c42898>,\n",
              " 'new,': <gensim.models.keyedvectors.Vocab at 0x7f6f03c428d0>,\n",
              " 'examples/tasks': <gensim.models.keyedvectors.Vocab at 0x7f6f03c42908>,\n",
              " 'after': <gensim.models.keyedvectors.Vocab at 0x7f6f03c42940>,\n",
              " 'experienced': <gensim.models.keyedvectors.Vocab at 0x7f6f03c42978>,\n",
              " 'set.': <gensim.models.keyedvectors.Vocab at 0x7f6f03c429b0>,\n",
              " 'examples': <gensim.models.keyedvectors.Vocab at 0x7f6f03c429e8>,\n",
              " 'generally': <gensim.models.keyedvectors.Vocab at 0x7f6f03c42a20>,\n",
              " 'distribution': <gensim.models.keyedvectors.Vocab at 0x7f6f03c42a58>,\n",
              " '(considered': <gensim.models.keyedvectors.Vocab at 0x7f6f03c42a90>,\n",
              " 'representative': <gensim.models.keyedvectors.Vocab at 0x7f6f03c42ac8>,\n",
              " 'space': <gensim.models.keyedvectors.Vocab at 0x7f6f03c42b00>,\n",
              " 'occurrences)': <gensim.models.keyedvectors.Vocab at 0x7f6f03c42b38>,\n",
              " 'general': <gensim.models.keyedvectors.Vocab at 0x7f6f03c42b70>,\n",
              " 'about': <gensim.models.keyedvectors.Vocab at 0x7f6f03c42ba8>,\n",
              " 'enables': <gensim.models.keyedvectors.Vocab at 0x7f6f03c42be0>,\n",
              " 'produce': <gensim.models.keyedvectors.Vocab at 0x7f6f03c42c18>,\n",
              " 'sufficiently': <gensim.models.keyedvectors.Vocab at 0x7f6f03c42c50>,\n",
              " 'accurate': <gensim.models.keyedvectors.Vocab at 0x7f6f03c42c88>,\n",
              " 'cases.\\nThe': <gensim.models.keyedvectors.Vocab at 0x7f6f03c42cc0>,\n",
              " 'branch': <gensim.models.keyedvectors.Vocab at 0x7f6f03c42cf8>,\n",
              " 'Because': <gensim.models.keyedvectors.Vocab at 0x7f6f03c42d30>,\n",
              " 'sets': <gensim.models.keyedvectors.Vocab at 0x7f6f03c42d68>,\n",
              " 'finite': <gensim.models.keyedvectors.Vocab at 0x7f6f03c42da0>,\n",
              " 'future': <gensim.models.keyedvectors.Vocab at 0x7f6f03c42dd8>,\n",
              " 'uncertain,': <gensim.models.keyedvectors.Vocab at 0x7f6f03c42e10>,\n",
              " 'does': <gensim.models.keyedvectors.Vocab at 0x7f6f03c42e48>,\n",
              " 'not': <gensim.models.keyedvectors.Vocab at 0x7f6f03c42e80>,\n",
              " 'yield': <gensim.models.keyedvectors.Vocab at 0x7f6f03c42eb8>,\n",
              " 'guarantees': <gensim.models.keyedvectors.Vocab at 0x7f6f03c42ef0>,\n",
              " 'algorithms.': <gensim.models.keyedvectors.Vocab at 0x7f6f03c42f28>,\n",
              " 'Instead,': <gensim.models.keyedvectors.Vocab at 0x7f6f03c42f60>,\n",
              " 'probabilistic': <gensim.models.keyedvectors.Vocab at 0x7f6f03c42f98>,\n",
              " 'bounds': <gensim.models.keyedvectors.Vocab at 0x7f6f03c42fd0>,\n",
              " 'quite': <gensim.models.keyedvectors.Vocab at 0x7f6f03c45048>,\n",
              " 'common.': <gensim.models.keyedvectors.Vocab at 0x7f6f03c45080>,\n",
              " 'bias–variance': <gensim.models.keyedvectors.Vocab at 0x7f6f03c450b8>,\n",
              " 'decomposition': <gensim.models.keyedvectors.Vocab at 0x7f6f03c450f0>,\n",
              " 'way': <gensim.models.keyedvectors.Vocab at 0x7f6f03c45128>,\n",
              " 'quantify': <gensim.models.keyedvectors.Vocab at 0x7f6f03c45160>,\n",
              " 'generalization': <gensim.models.keyedvectors.Vocab at 0x7f6f03c45198>,\n",
              " 'error.\\nFor': <gensim.models.keyedvectors.Vocab at 0x7f6f03c451d0>,\n",
              " 'best': <gensim.models.keyedvectors.Vocab at 0x7f6f03c45208>,\n",
              " 'generalization,': <gensim.models.keyedvectors.Vocab at 0x7f6f03c45240>,\n",
              " 'complexity': <gensim.models.keyedvectors.Vocab at 0x7f6f03c45278>,\n",
              " 'hypothesis': <gensim.models.keyedvectors.Vocab at 0x7f6f03c452b0>,\n",
              " 'should': <gensim.models.keyedvectors.Vocab at 0x7f6f03c452e8>,\n",
              " 'match': <gensim.models.keyedvectors.Vocab at 0x7f6f03c45320>,\n",
              " 'underlying': <gensim.models.keyedvectors.Vocab at 0x7f6f03c45358>,\n",
              " 'If': <gensim.models.keyedvectors.Vocab at 0x7f6f03c45390>,\n",
              " 'complex': <gensim.models.keyedvectors.Vocab at 0x7f6f03c453c8>,\n",
              " 'function,': <gensim.models.keyedvectors.Vocab at 0x7f6f03c45400>,\n",
              " 'underfit': <gensim.models.keyedvectors.Vocab at 0x7f6f03c45438>,\n",
              " 'increased': <gensim.models.keyedvectors.Vocab at 0x7f6f03c45470>,\n",
              " 'response,': <gensim.models.keyedvectors.Vocab at 0x7f6f03c454a8>,\n",
              " 'error': <gensim.models.keyedvectors.Vocab at 0x7f6f03c454e0>,\n",
              " 'decreases.': <gensim.models.keyedvectors.Vocab at 0x7f6f03c45518>,\n",
              " 'But': <gensim.models.keyedvectors.Vocab at 0x7f6f03c45550>,\n",
              " 'too': <gensim.models.keyedvectors.Vocab at 0x7f6f03c45588>,\n",
              " 'complex,': <gensim.models.keyedvectors.Vocab at 0x7f6f03c455c0>,\n",
              " 'subject': <gensim.models.keyedvectors.Vocab at 0x7f6f03c455f8>,\n",
              " 'overfitting': <gensim.models.keyedvectors.Vocab at 0x7f6f03c45630>,\n",
              " 'poorer.In': <gensim.models.keyedvectors.Vocab at 0x7f6f03c45668>,\n",
              " 'addition': <gensim.models.keyedvectors.Vocab at 0x7f6f03c456a0>,\n",
              " 'bounds,': <gensim.models.keyedvectors.Vocab at 0x7f6f03c456d8>,\n",
              " 'theorists': <gensim.models.keyedvectors.Vocab at 0x7f6f03c45710>,\n",
              " 'time': <gensim.models.keyedvectors.Vocab at 0x7f6f03c45748>,\n",
              " 'feasibility': <gensim.models.keyedvectors.Vocab at 0x7f6f03c45780>,\n",
              " 'theory,': <gensim.models.keyedvectors.Vocab at 0x7f6f03c457b8>,\n",
              " 'computation': <gensim.models.keyedvectors.Vocab at 0x7f6f03c457f0>,\n",
              " 'considered': <gensim.models.keyedvectors.Vocab at 0x7f6f03c45828>,\n",
              " 'feasible': <gensim.models.keyedvectors.Vocab at 0x7f6f03c45860>,\n",
              " 'done': <gensim.models.keyedvectors.Vocab at 0x7f6f03c45898>,\n",
              " 'polynomial': <gensim.models.keyedvectors.Vocab at 0x7f6f03c458d0>,\n",
              " 'There': <gensim.models.keyedvectors.Vocab at 0x7f6f03c45908>,\n",
              " 'kinds': <gensim.models.keyedvectors.Vocab at 0x7f6f03c45940>,\n",
              " 'results.': <gensim.models.keyedvectors.Vocab at 0x7f6f03c45978>,\n",
              " 'Positive': <gensim.models.keyedvectors.Vocab at 0x7f6f03c459b0>,\n",
              " 'results': <gensim.models.keyedvectors.Vocab at 0x7f6f03c459e8>,\n",
              " 'show': <gensim.models.keyedvectors.Vocab at 0x7f6f03c45a20>,\n",
              " 'Negative': <gensim.models.keyedvectors.Vocab at 0x7f6f03c45a58>,\n",
              " 'classes': <gensim.models.keyedvectors.Vocab at 0x7f6f03c45a90>,\n",
              " 'time.\\n\\n\\n==': <gensim.models.keyedvectors.Vocab at 0x7f6f03c45ac8>,\n",
              " 'Approaches': <gensim.models.keyedvectors.Vocab at 0x7f6f03c45b00>,\n",
              " '==\\n\\n\\n===': <gensim.models.keyedvectors.Vocab at 0x7f6f03c45b38>,\n",
              " 'Types': <gensim.models.keyedvectors.Vocab at 0x7f6f03c45b70>,\n",
              " '===\\nThe': <gensim.models.keyedvectors.Vocab at 0x7f6f03c45ba8>,\n",
              " 'differ': <gensim.models.keyedvectors.Vocab at 0x7f6f03c45be0>,\n",
              " 'approach,': <gensim.models.keyedvectors.Vocab at 0x7f6f03c45c18>,\n",
              " 'type': <gensim.models.keyedvectors.Vocab at 0x7f6f03c45c50>,\n",
              " 'output,': <gensim.models.keyedvectors.Vocab at 0x7f6f03c45c88>,\n",
              " 'intended': <gensim.models.keyedvectors.Vocab at 0x7f6f03c45cc0>,\n",
              " 'solve.\\n\\n\\n====': <gensim.models.keyedvectors.Vocab at 0x7f6f03c45cf8>,\n",
              " 'Supervised': <gensim.models.keyedvectors.Vocab at 0x7f6f03c45d30>,\n",
              " 'semi-supervised': <gensim.models.keyedvectors.Vocab at 0x7f6f03c45d68>,\n",
              " '====\\n\\nSupervised': <gensim.models.keyedvectors.Vocab at 0x7f6f03c45da0>,\n",
              " 'consists': <gensim.models.keyedvectors.Vocab at 0x7f6f03c45dd8>,\n",
              " 'Each': <gensim.models.keyedvectors.Vocab at 0x7f6f03c45e10>,\n",
              " 'example': <gensim.models.keyedvectors.Vocab at 0x7f6f03c45e48>,\n",
              " 'supervisory': <gensim.models.keyedvectors.Vocab at 0x7f6f03c45e80>,\n",
              " 'signal.': <gensim.models.keyedvectors.Vocab at 0x7f6f03c45eb8>,\n",
              " 'case': <gensim.models.keyedvectors.Vocab at 0x7f6f03c45ef0>,\n",
              " 'algorithms,': <gensim.models.keyedvectors.Vocab at 0x7f6f03c45f28>,\n",
              " 'missing': <gensim.models.keyedvectors.Vocab at 0x7f6f03c45f60>,\n",
              " 'output.': <gensim.models.keyedvectors.Vocab at 0x7f6f03c45f98>,\n",
              " 'array': <gensim.models.keyedvectors.Vocab at 0x7f6f03c45fd0>,\n",
              " 'vector,': <gensim.models.keyedvectors.Vocab at 0x7f6f03c49048>,\n",
              " 'matrix.': <gensim.models.keyedvectors.Vocab at 0x7f6f03c49080>,\n",
              " 'Through': <gensim.models.keyedvectors.Vocab at 0x7f6f03c490b8>,\n",
              " 'iterative': <gensim.models.keyedvectors.Vocab at 0x7f6f03c490f0>,\n",
              " 'associated': <gensim.models.keyedvectors.Vocab at 0x7f6f03c49128>,\n",
              " 'inputs.': <gensim.models.keyedvectors.Vocab at 0x7f6f03c49160>,\n",
              " 'An': <gensim.models.keyedvectors.Vocab at 0x7f6f03c49198>,\n",
              " 'optimal': <gensim.models.keyedvectors.Vocab at 0x7f6f03c491d0>,\n",
              " 'allow': <gensim.models.keyedvectors.Vocab at 0x7f6f03c49208>,\n",
              " 'determine': <gensim.models.keyedvectors.Vocab at 0x7f6f03c49240>,\n",
              " 'part': <gensim.models.keyedvectors.Vocab at 0x7f6f03c49278>,\n",
              " 'accuracy': <gensim.models.keyedvectors.Vocab at 0x7f6f03c492b0>,\n",
              " 'over': <gensim.models.keyedvectors.Vocab at 0x7f6f03c492e8>,\n",
              " 'task.Supervised': <gensim.models.keyedvectors.Vocab at 0x7f6f03c49320>,\n",
              " 'regression.': <gensim.models.keyedvectors.Vocab at 0x7f6f03c49358>,\n",
              " 'values,': <gensim.models.keyedvectors.Vocab at 0x7f6f03c49390>,\n",
              " 'numerical': <gensim.models.keyedvectors.Vocab at 0x7f6f03c493c8>,\n",
              " 'Similarity': <gensim.models.keyedvectors.Vocab at 0x7f6f03c49400>,\n",
              " 'area': <gensim.models.keyedvectors.Vocab at 0x7f6f03c49438>,\n",
              " 'similarity': <gensim.models.keyedvectors.Vocab at 0x7f6f03c49470>,\n",
              " 'measures': <gensim.models.keyedvectors.Vocab at 0x7f6f03c494a8>,\n",
              " 'how': <gensim.models.keyedvectors.Vocab at 0x7f6f03c494e0>,\n",
              " 'objects': <gensim.models.keyedvectors.Vocab at 0x7f6f03c49518>,\n",
              " 'are.': <gensim.models.keyedvectors.Vocab at 0x7f6f03c49550>,\n",
              " 'applications': <gensim.models.keyedvectors.Vocab at 0x7f6f03c49588>,\n",
              " 'ranking,': <gensim.models.keyedvectors.Vocab at 0x7f6f03c495c0>,\n",
              " 'recommendation': <gensim.models.keyedvectors.Vocab at 0x7f6f03c495f8>,\n",
              " 'systems,': <gensim.models.keyedvectors.Vocab at 0x7f6f03c49630>,\n",
              " 'visual': <gensim.models.keyedvectors.Vocab at 0x7f6f03c49668>,\n",
              " 'identity': <gensim.models.keyedvectors.Vocab at 0x7f6f03c496a0>,\n",
              " 'tracking,': <gensim.models.keyedvectors.Vocab at 0x7f6f03c496d8>,\n",
              " 'face': <gensim.models.keyedvectors.Vocab at 0x7f6f03c49710>,\n",
              " 'verification,': <gensim.models.keyedvectors.Vocab at 0x7f6f03c49748>,\n",
              " 'speaker': <gensim.models.keyedvectors.Vocab at 0x7f6f03c49780>,\n",
              " 'verification.\\n\\n\\n====': <gensim.models.keyedvectors.Vocab at 0x7f6f03c497b8>,\n",
              " '====\\n\\nUnsupervised': <gensim.models.keyedvectors.Vocab at 0x7f6f03c497f0>,\n",
              " 'take': <gensim.models.keyedvectors.Vocab at 0x7f6f03c49828>,\n",
              " 'therefore': <gensim.models.keyedvectors.Vocab at 0x7f6f03c49860>,\n",
              " 'test': <gensim.models.keyedvectors.Vocab at 0x7f6f03c49898>,\n",
              " 'labeled,': <gensim.models.keyedvectors.Vocab at 0x7f6f03c498d0>,\n",
              " 'categorized.': <gensim.models.keyedvectors.Vocab at 0x7f6f03c49908>,\n",
              " 'Instead': <gensim.models.keyedvectors.Vocab at 0x7f6f03c49940>,\n",
              " 'responding': <gensim.models.keyedvectors.Vocab at 0x7f6f03c49978>,\n",
              " 'feedback,': <gensim.models.keyedvectors.Vocab at 0x7f6f03c499b0>,\n",
              " 'identify': <gensim.models.keyedvectors.Vocab at 0x7f6f03c499e8>,\n",
              " 'commonalities': <gensim.models.keyedvectors.Vocab at 0x7f6f03c49a20>,\n",
              " 'react': <gensim.models.keyedvectors.Vocab at 0x7f6f03c49a58>,\n",
              " 'presence': <gensim.models.keyedvectors.Vocab at 0x7f6f03c49a90>,\n",
              " 'absence': <gensim.models.keyedvectors.Vocab at 0x7f6f03c49ac8>,\n",
              " 'piece': <gensim.models.keyedvectors.Vocab at 0x7f6f03c49b00>,\n",
              " 'A': <gensim.models.keyedvectors.Vocab at 0x7f6f03c49b38>,\n",
              " 'central': <gensim.models.keyedvectors.Vocab at 0x7f6f03c49b70>,\n",
              " 'though': <gensim.models.keyedvectors.Vocab at 0x7f6f03c49ba8>,\n",
              " 'encompasses': <gensim.models.keyedvectors.Vocab at 0x7f6f03c49be0>,\n",
              " 'involving': <gensim.models.keyedvectors.Vocab at 0x7f6f03c49c18>,\n",
              " 'summarizing': <gensim.models.keyedvectors.Vocab at 0x7f6f03c49c50>,\n",
              " 'explaining': <gensim.models.keyedvectors.Vocab at 0x7f6f03c49c88>,\n",
              " 'features.\\nCluster': <gensim.models.keyedvectors.Vocab at 0x7f6f03c49cc0>,\n",
              " 'assignment': <gensim.models.keyedvectors.Vocab at 0x7f6f03c49cf8>,\n",
              " 'observations': <gensim.models.keyedvectors.Vocab at 0x7f6f03c49d30>,\n",
              " 'subsets': <gensim.models.keyedvectors.Vocab at 0x7f6f03c49d68>,\n",
              " '(called': <gensim.models.keyedvectors.Vocab at 0x7f6f03c49da0>,\n",
              " 'clusters)': <gensim.models.keyedvectors.Vocab at 0x7f6f03c49dd8>,\n",
              " 'so': <gensim.models.keyedvectors.Vocab at 0x7f6f03c49e10>,\n",
              " 'cluster': <gensim.models.keyedvectors.Vocab at 0x7f6f03c49e48>,\n",
              " 'according': <gensim.models.keyedvectors.Vocab at 0x7f6f03c49e80>,\n",
              " 'predesignated': <gensim.models.keyedvectors.Vocab at 0x7f6f03c49eb8>,\n",
              " 'criteria,': <gensim.models.keyedvectors.Vocab at 0x7f6f03c49ef0>,\n",
              " 'drawn': <gensim.models.keyedvectors.Vocab at 0x7f6f03c49f28>,\n",
              " 'clusters': <gensim.models.keyedvectors.Vocab at 0x7f6f03c49f60>,\n",
              " 'dissimilar.': <gensim.models.keyedvectors.Vocab at 0x7f6f03c49f98>,\n",
              " 'Different': <gensim.models.keyedvectors.Vocab at 0x7f6f03c49fd0>,\n",
              " 'techniques': <gensim.models.keyedvectors.Vocab at 0x7f6f03c4d048>,\n",
              " 'defined': <gensim.models.keyedvectors.Vocab at 0x7f6f03c4d080>,\n",
              " 'metric': <gensim.models.keyedvectors.Vocab at 0x7f6f03c4d0b8>,\n",
              " 'evaluated,': <gensim.models.keyedvectors.Vocab at 0x7f6f03c4d0f0>,\n",
              " 'internal': <gensim.models.keyedvectors.Vocab at 0x7f6f03c4d128>,\n",
              " 'compactness,': <gensim.models.keyedvectors.Vocab at 0x7f6f03c4d160>,\n",
              " 'members': <gensim.models.keyedvectors.Vocab at 0x7f6f03c4d198>,\n",
              " 'cluster,': <gensim.models.keyedvectors.Vocab at 0x7f6f03c4d1d0>,\n",
              " 'separation,': <gensim.models.keyedvectors.Vocab at 0x7f6f03c4d208>,\n",
              " 'clusters.': <gensim.models.keyedvectors.Vocab at 0x7f6f03c4d240>,\n",
              " 'estimated': <gensim.models.keyedvectors.Vocab at 0x7f6f03c4d278>,\n",
              " 'graph': <gensim.models.keyedvectors.Vocab at 0x7f6f03c4d2b0>,\n",
              " 'connectivity.\\n\\n\\n====': <gensim.models.keyedvectors.Vocab at 0x7f6f03c4d2e8>,\n",
              " '====\\n\\nReinforcement': <gensim.models.keyedvectors.Vocab at 0x7f6f03c4d320>,\n",
              " 'software': <gensim.models.keyedvectors.Vocab at 0x7f6f03c4d358>,\n",
              " 'agents': <gensim.models.keyedvectors.Vocab at 0x7f6f03c4d390>,\n",
              " 'ought': <gensim.models.keyedvectors.Vocab at 0x7f6f03c4d3c8>,\n",
              " 'actions': <gensim.models.keyedvectors.Vocab at 0x7f6f03c4d400>,\n",
              " 'environment': <gensim.models.keyedvectors.Vocab at 0x7f6f03c4d438>,\n",
              " 'maximize': <gensim.models.keyedvectors.Vocab at 0x7f6f03c4d470>,\n",
              " 'notion': <gensim.models.keyedvectors.Vocab at 0x7f6f03c4d4a8>,\n",
              " 'cumulative': <gensim.models.keyedvectors.Vocab at 0x7f6f03c4d4e0>,\n",
              " 'reward.': <gensim.models.keyedvectors.Vocab at 0x7f6f03c4d518>,\n",
              " 'Due': <gensim.models.keyedvectors.Vocab at 0x7f6f03c4d550>,\n",
              " 'generality,': <gensim.models.keyedvectors.Vocab at 0x7f6f03c4d588>,\n",
              " 'disciplines,': <gensim.models.keyedvectors.Vocab at 0x7f6f03c4d5c0>,\n",
              " 'control': <gensim.models.keyedvectors.Vocab at 0x7f6f03c4d5f8>,\n",
              " 'operations': <gensim.models.keyedvectors.Vocab at 0x7f6f03c4d630>,\n",
              " 'research,': <gensim.models.keyedvectors.Vocab at 0x7f6f03c4d668>,\n",
              " 'simulation-based': <gensim.models.keyedvectors.Vocab at 0x7f6f03c4d6a0>,\n",
              " 'optimization,': <gensim.models.keyedvectors.Vocab at 0x7f6f03c4d6d8>,\n",
              " 'multi-agent': <gensim.models.keyedvectors.Vocab at 0x7f6f03c4d710>,\n",
              " 'swarm': <gensim.models.keyedvectors.Vocab at 0x7f6f03c4d748>,\n",
              " 'genetic': <gensim.models.keyedvectors.Vocab at 0x7f6f03c4d780>,\n",
              " 'typically': <gensim.models.keyedvectors.Vocab at 0x7f6f03c4d7b8>,\n",
              " 'Markov': <gensim.models.keyedvectors.Vocab at 0x7f6f03c4d7f0>,\n",
              " 'Decision': <gensim.models.keyedvectors.Vocab at 0x7f6f03c4d828>,\n",
              " 'Process': <gensim.models.keyedvectors.Vocab at 0x7f6f03c4d860>,\n",
              " '(MDP).': <gensim.models.keyedvectors.Vocab at 0x7f6f03c4d898>,\n",
              " 'Many': <gensim.models.keyedvectors.Vocab at 0x7f6f03c4d8d0>,\n",
              " 'programming': <gensim.models.keyedvectors.Vocab at 0x7f6f03c4d908>,\n",
              " 'techniques.': <gensim.models.keyedvectors.Vocab at 0x7f6f03c4d940>,\n",
              " 'assume': <gensim.models.keyedvectors.Vocab at 0x7f6f03c4d978>,\n",
              " 'exact': <gensim.models.keyedvectors.Vocab at 0x7f6f03c4d9b0>,\n",
              " 'MDP,': <gensim.models.keyedvectors.Vocab at 0x7f6f03c4d9e8>,\n",
              " 'infeasible.': <gensim.models.keyedvectors.Vocab at 0x7f6f03c4da20>,\n",
              " 'opponent.\\n\\n\\n===': <gensim.models.keyedvectors.Vocab at 0x7f6f03c4da58>,\n",
              " 'Processes': <gensim.models.keyedvectors.Vocab at 0x7f6f03c4da90>,\n",
              " '===\\nVarious': <gensim.models.keyedvectors.Vocab at 0x7f6f03c4dac8>,\n",
              " 'processes,': <gensim.models.keyedvectors.Vocab at 0x7f6f03c4db00>,\n",
              " 'applied': <gensim.models.keyedvectors.Vocab at 0x7f6f03c4db38>,\n",
              " 'enhance': <gensim.models.keyedvectors.Vocab at 0x7f6f03c4db70>,\n",
              " 'performance.\\n\\n\\n====': <gensim.models.keyedvectors.Vocab at 0x7f6f03c4dba8>,\n",
              " 'Feature': <gensim.models.keyedvectors.Vocab at 0x7f6f03c4dbe0>,\n",
              " '====\\n\\nSeveral': <gensim.models.keyedvectors.Vocab at 0x7f6f03c4dc18>,\n",
              " 'aim': <gensim.models.keyedvectors.Vocab at 0x7f6f03c4dc50>,\n",
              " 'discovering': <gensim.models.keyedvectors.Vocab at 0x7f6f03c4dc88>,\n",
              " 'better': <gensim.models.keyedvectors.Vocab at 0x7f6f03c4dcc0>,\n",
              " 'representations': <gensim.models.keyedvectors.Vocab at 0x7f6f03c4dcf8>,\n",
              " 'during': <gensim.models.keyedvectors.Vocab at 0x7f6f03c4dd30>,\n",
              " 'training.': <gensim.models.keyedvectors.Vocab at 0x7f6f03c4dd68>,\n",
              " 'Classic': <gensim.models.keyedvectors.Vocab at 0x7f6f03c4dda0>,\n",
              " 'principal': <gensim.models.keyedvectors.Vocab at 0x7f6f03c4ddd8>,\n",
              " 'components': <gensim.models.keyedvectors.Vocab at 0x7f6f03c4de10>,\n",
              " 'analysis.': <gensim.models.keyedvectors.Vocab at 0x7f6f03c4de48>,\n",
              " 'called': <gensim.models.keyedvectors.Vocab at 0x7f6f03c4de80>,\n",
              " 'representation': <gensim.models.keyedvectors.Vocab at 0x7f6f03c4deb8>,\n",
              " 'attempt': <gensim.models.keyedvectors.Vocab at 0x7f6f03c4def0>,\n",
              " 'preserve': <gensim.models.keyedvectors.Vocab at 0x7f6f03c4df28>,\n",
              " 'transform': <gensim.models.keyedvectors.Vocab at 0x7f6f03c4df60>,\n",
              " 'makes': <gensim.models.keyedvectors.Vocab at 0x7f6f03c4df98>,\n",
              " 'useful,': <gensim.models.keyedvectors.Vocab at 0x7f6f03c4dfd0>,\n",
              " 'pre-processing': <gensim.models.keyedvectors.Vocab at 0x7f6f03c50048>,\n",
              " 'before': <gensim.models.keyedvectors.Vocab at 0x7f6f03c50080>,\n",
              " 'predictions.': <gensim.models.keyedvectors.Vocab at 0x7f6f03c500b8>,\n",
              " 'technique': <gensim.models.keyedvectors.Vocab at 0x7f6f03c500f0>,\n",
              " 'allows': <gensim.models.keyedvectors.Vocab at 0x7f6f03c50128>,\n",
              " 'reconstruction': <gensim.models.keyedvectors.Vocab at 0x7f6f03c50160>,\n",
              " 'coming': <gensim.models.keyedvectors.Vocab at 0x7f6f03c50198>,\n",
              " 'data-generating': <gensim.models.keyedvectors.Vocab at 0x7f6f03c501d0>,\n",
              " 'distribution,': <gensim.models.keyedvectors.Vocab at 0x7f6f03c50208>,\n",
              " 'necessarily': <gensim.models.keyedvectors.Vocab at 0x7f6f03c50240>,\n",
              " 'faithful': <gensim.models.keyedvectors.Vocab at 0x7f6f03c50278>,\n",
              " 'configurations': <gensim.models.keyedvectors.Vocab at 0x7f6f03c502b0>,\n",
              " 'implausible': <gensim.models.keyedvectors.Vocab at 0x7f6f03c502e8>,\n",
              " 'under': <gensim.models.keyedvectors.Vocab at 0x7f6f03c50320>,\n",
              " 'distribution.': <gensim.models.keyedvectors.Vocab at 0x7f6f03c50358>,\n",
              " 'replaces': <gensim.models.keyedvectors.Vocab at 0x7f6f03c50390>,\n",
              " 'manual': <gensim.models.keyedvectors.Vocab at 0x7f6f03c503c8>,\n",
              " 'engineering,': <gensim.models.keyedvectors.Vocab at 0x7f6f03c50400>,\n",
              " 'features': <gensim.models.keyedvectors.Vocab at 0x7f6f03c50438>,\n",
              " 'them': <gensim.models.keyedvectors.Vocab at 0x7f6f03c50470>,\n",
              " 'task.\\nFeature': <gensim.models.keyedvectors.Vocab at 0x7f6f03c504a8>,\n",
              " 'unsupervised.': <gensim.models.keyedvectors.Vocab at 0x7f6f03c504e0>,\n",
              " 'labeled': <gensim.models.keyedvectors.Vocab at 0x7f6f03c50518>,\n",
              " 'neural': <gensim.models.keyedvectors.Vocab at 0x7f6f03c50550>,\n",
              " 'networks,': <gensim.models.keyedvectors.Vocab at 0x7f6f03c50588>,\n",
              " 'multilayer': <gensim.models.keyedvectors.Vocab at 0x7f6f03c505c0>,\n",
              " 'perceptrons,': <gensim.models.keyedvectors.Vocab at 0x7f6f03c505f8>,\n",
              " 'dictionary': <gensim.models.keyedvectors.Vocab at 0x7f6f03c50630>,\n",
              " 'unlabeled': <gensim.models.keyedvectors.Vocab at 0x7f6f03c50668>,\n",
              " 'independent': <gensim.models.keyedvectors.Vocab at 0x7f6f03c506a0>,\n",
              " 'component': <gensim.models.keyedvectors.Vocab at 0x7f6f03c506d8>,\n",
              " 'analysis,': <gensim.models.keyedvectors.Vocab at 0x7f6f03c50710>,\n",
              " 'autoencoders,': <gensim.models.keyedvectors.Vocab at 0x7f6f03c50748>,\n",
              " 'matrix': <gensim.models.keyedvectors.Vocab at 0x7f6f03c50780>,\n",
              " 'factorization': <gensim.models.keyedvectors.Vocab at 0x7f6f03c507b8>,\n",
              " 'forms': <gensim.models.keyedvectors.Vocab at 0x7f6f03c507f0>,\n",
              " 'clustering.Manifold': <gensim.models.keyedvectors.Vocab at 0x7f6f03c50828>,\n",
              " 'constraint': <gensim.models.keyedvectors.Vocab at 0x7f6f03c50860>,\n",
              " 'low-dimensional.': <gensim.models.keyedvectors.Vocab at 0x7f6f03c50898>,\n",
              " 'Sparse': <gensim.models.keyedvectors.Vocab at 0x7f6f03c508d0>,\n",
              " 'coding': <gensim.models.keyedvectors.Vocab at 0x7f6f03c50908>,\n",
              " 'sparse,': <gensim.models.keyedvectors.Vocab at 0x7f6f03c50940>,\n",
              " 'zeros.': <gensim.models.keyedvectors.Vocab at 0x7f6f03c50978>,\n",
              " 'Multilinear': <gensim.models.keyedvectors.Vocab at 0x7f6f03c509b0>,\n",
              " 'subspace': <gensim.models.keyedvectors.Vocab at 0x7f6f03c509e8>,\n",
              " 'low-dimensional': <gensim.models.keyedvectors.Vocab at 0x7f6f03c50a20>,\n",
              " 'directly': <gensim.models.keyedvectors.Vocab at 0x7f6f03c50a58>,\n",
              " 'tensor': <gensim.models.keyedvectors.Vocab at 0x7f6f03c50a90>,\n",
              " 'multidimensional': <gensim.models.keyedvectors.Vocab at 0x7f6f03c50ac8>,\n",
              " 'reshaping': <gensim.models.keyedvectors.Vocab at 0x7f6f03c50b00>,\n",
              " 'higher-dimensional': <gensim.models.keyedvectors.Vocab at 0x7f6f03c50b38>,\n",
              " 'vectors.': <gensim.models.keyedvectors.Vocab at 0x7f6f03c50b70>,\n",
              " 'Deep': <gensim.models.keyedvectors.Vocab at 0x7f6f03c50ba8>,\n",
              " 'multiple': <gensim.models.keyedvectors.Vocab at 0x7f6f03c50be0>,\n",
              " 'levels': <gensim.models.keyedvectors.Vocab at 0x7f6f03c50c18>,\n",
              " 'representation,': <gensim.models.keyedvectors.Vocab at 0x7f6f03c50c50>,\n",
              " 'hierarchy': <gensim.models.keyedvectors.Vocab at 0x7f6f03c50c88>,\n",
              " 'features,': <gensim.models.keyedvectors.Vocab at 0x7f6f03c50cc0>,\n",
              " 'higher-level,': <gensim.models.keyedvectors.Vocab at 0x7f6f03c50cf8>,\n",
              " 'abstract': <gensim.models.keyedvectors.Vocab at 0x7f6f03c50d30>,\n",
              " 'terms': <gensim.models.keyedvectors.Vocab at 0x7f6f03c50d68>,\n",
              " '(or': <gensim.models.keyedvectors.Vocab at 0x7f6f03c50da0>,\n",
              " 'generating)': <gensim.models.keyedvectors.Vocab at 0x7f6f03c50dd8>,\n",
              " 'lower-level': <gensim.models.keyedvectors.Vocab at 0x7f6f03c50e10>,\n",
              " 'features.': <gensim.models.keyedvectors.Vocab at 0x7f6f03c50e48>,\n",
              " 'argued': <gensim.models.keyedvectors.Vocab at 0x7f6f03c50e80>,\n",
              " 'intelligent': <gensim.models.keyedvectors.Vocab at 0x7f6f03c50eb8>,\n",
              " 'learns': <gensim.models.keyedvectors.Vocab at 0x7f6f03c50ef0>,\n",
              " 'disentangles': <gensim.models.keyedvectors.Vocab at 0x7f6f03c50f28>,\n",
              " 'factors': <gensim.models.keyedvectors.Vocab at 0x7f6f03c50f60>,\n",
              " 'variation': <gensim.models.keyedvectors.Vocab at 0x7f6f03c50f98>,\n",
              " 'explain': <gensim.models.keyedvectors.Vocab at 0x7f6f03c50fd0>,\n",
              " 'observed': <gensim.models.keyedvectors.Vocab at 0x7f6f03c53048>,\n",
              " 'data.Feature': <gensim.models.keyedvectors.Vocab at 0x7f6f03c53080>,\n",
              " 'motivated': <gensim.models.keyedvectors.Vocab at 0x7f6f03c530b8>,\n",
              " ...}"
            ]
          },
          "metadata": {
            "tags": []
          },
          "execution_count": 17
        }
      ]
    },
    {
      "cell_type": "markdown",
      "metadata": {
        "id": "KshrfDklReIl",
        "colab_type": "text"
      },
      "source": [
        "### Get an embedding for word `SVM`"
      ]
    },
    {
      "cell_type": "code",
      "metadata": {
        "id": "YiwT1OjARg6e",
        "colab_type": "code",
        "outputId": "48e32b84-4f33-4add-bf16-16e7b4049f3f",
        "colab": {
          "base_uri": "https://localhost:8080/",
          "height": 202
        }
      },
      "source": [
        "model.wv['SVM']"
      ],
      "execution_count": 18,
      "outputs": [
        {
          "output_type": "execute_result",
          "data": {
            "text/plain": [
              "array([-0.11147016,  0.7009398 ,  0.72818124,  1.7822976 ,  0.6411494 ,\n",
              "        0.3452001 , -0.05995334,  0.8140099 , -0.3797853 ,  0.3166234 ,\n",
              "       -0.71597356,  0.12336544, -0.06295379,  0.0738177 ,  0.55682886,\n",
              "       -0.06830621, -0.4623229 ,  0.61136514, -0.5585408 , -0.15185885,\n",
              "       -0.4807359 , -0.81657344,  0.50333554,  0.7786398 , -0.33683318,\n",
              "        0.16909143,  0.5213303 , -0.79882103,  0.6659902 ,  1.1696696 ,\n",
              "        0.08202843, -0.3425487 ,  1.7838373 ,  0.2760251 ,  0.10822981,\n",
              "        0.9365173 ,  0.2779633 , -0.23974812, -0.7772426 ,  0.20304373,\n",
              "       -0.03263509, -0.5770012 , -0.90844387,  0.03966242, -0.4126161 ,\n",
              "       -0.95961905,  0.0488852 , -0.49298295, -1.2846265 ,  0.7754028 ],\n",
              "      dtype=float32)"
            ]
          },
          "metadata": {
            "tags": []
          },
          "execution_count": 18
        }
      ]
    },
    {
      "cell_type": "markdown",
      "metadata": {
        "id": "7COLA1LzRhTj",
        "colab_type": "text"
      },
      "source": [
        "### Finding most similar words for word `learning`"
      ]
    },
    {
      "cell_type": "code",
      "metadata": {
        "id": "tEsMKWY6Ri3n",
        "colab_type": "code",
        "outputId": "9cf3cfa3-3525-4a7e-fda4-82fd058cdf9a",
        "colab": {
          "base_uri": "https://localhost:8080/",
          "height": 238
        }
      },
      "source": [
        "model.wv.most_similar('learning')"
      ],
      "execution_count": 19,
      "outputs": [
        {
          "output_type": "stream",
          "text": [
            "/usr/local/lib/python3.6/dist-packages/gensim/matutils.py:737: FutureWarning: Conversion of the second argument of issubdtype from `int` to `np.signedinteger` is deprecated. In future, it will be treated as `np.int64 == np.dtype(int).type`.\n",
            "  if np.issubdtype(vec.dtype, np.int):\n"
          ],
          "name": "stderr"
        },
        {
          "output_type": "execute_result",
          "data": {
            "text/plain": [
              "[('machine', 0.9996310472488403),\n",
              " ('algorithms', 0.9993427395820618),\n",
              " ('field', 0.9992608428001404),\n",
              " ('{1}{2}}\\\\sum', 0.9992415904998779),\n",
              " ('usually', 0.9990450143814087),\n",
              " ('_{i=1}^{n}\\\\sum', 0.9989975690841675),\n",
              " ('===\\nMachine', 0.9989721775054932),\n",
              " ('increasing', 0.9988956451416016),\n",
              " ('unsupervised', 0.9988889694213867),\n",
              " (';', 0.9988709688186646)]"
            ]
          },
          "metadata": {
            "tags": []
          },
          "execution_count": 19
        }
      ]
    },
    {
      "cell_type": "markdown",
      "metadata": {
        "id": "K8QjNuDKRlvt",
        "colab_type": "text"
      },
      "source": [
        "### Find the word which is not like others from `machine, svm, ball, learning`"
      ]
    },
    {
      "cell_type": "code",
      "metadata": {
        "id": "oBudwDHtRl3u",
        "colab_type": "code",
        "outputId": "87761ddc-a64f-404a-f529-5ad4405b442f",
        "colab": {
          "base_uri": "https://localhost:8080/",
          "height": 154
        }
      },
      "source": [
        "model.doesnt_match(\"machine svm ball learning\".split())"
      ],
      "execution_count": 20,
      "outputs": [
        {
          "output_type": "stream",
          "text": [
            "/usr/local/lib/python3.6/dist-packages/ipykernel_launcher.py:1: DeprecationWarning: Call to deprecated `doesnt_match` (Method will be removed in 4.0.0, use self.wv.doesnt_match() instead).\n",
            "  \"\"\"Entry point for launching an IPython kernel.\n",
            "/usr/local/lib/python3.6/dist-packages/gensim/models/keyedvectors.py:895: FutureWarning: arrays to stack must be passed as a \"sequence\" type such as list or tuple. Support for non-sequence iterables such as generators is deprecated as of NumPy 1.16 and will raise an error in the future.\n",
            "  vectors = vstack(self.word_vec(word, use_norm=True) for word in used_words).astype(REAL)\n",
            "/usr/local/lib/python3.6/dist-packages/gensim/matutils.py:737: FutureWarning: Conversion of the second argument of issubdtype from `int` to `np.signedinteger` is deprecated. In future, it will be treated as `np.int64 == np.dtype(int).type`.\n",
            "  if np.issubdtype(vec.dtype, np.int):\n"
          ],
          "name": "stderr"
        },
        {
          "output_type": "execute_result",
          "data": {
            "text/plain": [
              "'ball'"
            ]
          },
          "metadata": {
            "tags": []
          },
          "execution_count": 20
        }
      ]
    },
    {
      "cell_type": "markdown",
      "metadata": {
        "id": "cjNQ0yMNRn6D",
        "colab_type": "text"
      },
      "source": [
        "### Save the model with name `word2vec-wiki-10`"
      ]
    },
    {
      "cell_type": "code",
      "metadata": {
        "id": "bynMebY5RoLn",
        "colab_type": "code",
        "colab": {}
      },
      "source": [
        "model.save('word2vec-wiki-10')"
      ],
      "execution_count": 0,
      "outputs": []
    },
    {
      "cell_type": "markdown",
      "metadata": {
        "id": "cDeem0T5RqTn",
        "colab_type": "text"
      },
      "source": [
        "### Load the model `word2vec-wiki-10`"
      ]
    },
    {
      "cell_type": "code",
      "metadata": {
        "id": "VJJk04KfRqen",
        "colab_type": "code",
        "colab": {}
      },
      "source": [
        "#Load model from memory\n",
        "model = gensim.models.Word2Vec.load('word2vec-wiki-10')"
      ],
      "execution_count": 0,
      "outputs": []
    },
    {
      "cell_type": "code",
      "metadata": {
        "id": "xcrTglsQud1W",
        "colab_type": "code",
        "colab": {}
      },
      "source": [
        ""
      ],
      "execution_count": 0,
      "outputs": []
    }
  ]
}