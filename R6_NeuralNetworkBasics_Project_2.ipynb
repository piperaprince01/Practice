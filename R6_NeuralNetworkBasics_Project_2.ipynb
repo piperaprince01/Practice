{
  "nbformat": 4,
  "nbformat_minor": 0,
  "metadata": {
    "colab": {
      "name": "R6_NeuralNetworkBasics_Project1.ipynb",
      "version": "0.3.2",
      "provenance": [],
      "collapsed_sections": []
    },
    "kernelspec": {
      "name": "python3",
      "display_name": "Python 3"
    }
  },
  "cells": [
    {
      "metadata": {
        "id": "zXC57rTDqU08",
        "colab_type": "code",
        "colab": {}
      },
      "cell_type": "code",
      "source": [
        "import pandas as pd \n",
        "import numpy as np"
      ],
      "execution_count": 0,
      "outputs": []
    },
    {
      "metadata": {
        "id": "ivmtNTvHrrcG",
        "colab_type": "code",
        "colab": {}
      },
      "cell_type": "code",
      "source": [
        "df_bank = pd.read_csv('bank.csv')"
      ],
      "execution_count": 0,
      "outputs": []
    },
    {
      "metadata": {
        "id": "keVjTQfVrw_C",
        "colab_type": "code",
        "outputId": "f846bca6-64d7-4d48-ad26-74344e0b3e38",
        "colab": {
          "base_uri": "https://localhost:8080/",
          "height": 204
        }
      },
      "cell_type": "code",
      "source": [
        "df_bank.head()"
      ],
      "execution_count": 234,
      "outputs": [
        {
          "output_type": "execute_result",
          "data": {
            "text/html": [
              "<div>\n",
              "<style scoped>\n",
              "    .dataframe tbody tr th:only-of-type {\n",
              "        vertical-align: middle;\n",
              "    }\n",
              "\n",
              "    .dataframe tbody tr th {\n",
              "        vertical-align: top;\n",
              "    }\n",
              "\n",
              "    .dataframe thead th {\n",
              "        text-align: right;\n",
              "    }\n",
              "</style>\n",
              "<table border=\"1\" class=\"dataframe\">\n",
              "  <thead>\n",
              "    <tr style=\"text-align: right;\">\n",
              "      <th></th>\n",
              "      <th>RowNumber</th>\n",
              "      <th>CustomerId</th>\n",
              "      <th>Surname</th>\n",
              "      <th>CreditScore</th>\n",
              "      <th>Geography</th>\n",
              "      <th>Gender</th>\n",
              "      <th>Age</th>\n",
              "      <th>Tenure</th>\n",
              "      <th>Balance</th>\n",
              "      <th>NumOfProducts</th>\n",
              "      <th>HasCrCard</th>\n",
              "      <th>IsActiveMember</th>\n",
              "      <th>EstimatedSalary</th>\n",
              "      <th>Exited</th>\n",
              "    </tr>\n",
              "  </thead>\n",
              "  <tbody>\n",
              "    <tr>\n",
              "      <th>0</th>\n",
              "      <td>1</td>\n",
              "      <td>15634602</td>\n",
              "      <td>Hargrave</td>\n",
              "      <td>619</td>\n",
              "      <td>France</td>\n",
              "      <td>Female</td>\n",
              "      <td>42</td>\n",
              "      <td>2</td>\n",
              "      <td>0.00</td>\n",
              "      <td>1</td>\n",
              "      <td>1</td>\n",
              "      <td>1</td>\n",
              "      <td>101348.88</td>\n",
              "      <td>1</td>\n",
              "    </tr>\n",
              "    <tr>\n",
              "      <th>1</th>\n",
              "      <td>2</td>\n",
              "      <td>15647311</td>\n",
              "      <td>Hill</td>\n",
              "      <td>608</td>\n",
              "      <td>Spain</td>\n",
              "      <td>Female</td>\n",
              "      <td>41</td>\n",
              "      <td>1</td>\n",
              "      <td>83807.86</td>\n",
              "      <td>1</td>\n",
              "      <td>0</td>\n",
              "      <td>1</td>\n",
              "      <td>112542.58</td>\n",
              "      <td>0</td>\n",
              "    </tr>\n",
              "    <tr>\n",
              "      <th>2</th>\n",
              "      <td>3</td>\n",
              "      <td>15619304</td>\n",
              "      <td>Onio</td>\n",
              "      <td>502</td>\n",
              "      <td>France</td>\n",
              "      <td>Female</td>\n",
              "      <td>42</td>\n",
              "      <td>8</td>\n",
              "      <td>159660.80</td>\n",
              "      <td>3</td>\n",
              "      <td>1</td>\n",
              "      <td>0</td>\n",
              "      <td>113931.57</td>\n",
              "      <td>1</td>\n",
              "    </tr>\n",
              "    <tr>\n",
              "      <th>3</th>\n",
              "      <td>4</td>\n",
              "      <td>15701354</td>\n",
              "      <td>Boni</td>\n",
              "      <td>699</td>\n",
              "      <td>France</td>\n",
              "      <td>Female</td>\n",
              "      <td>39</td>\n",
              "      <td>1</td>\n",
              "      <td>0.00</td>\n",
              "      <td>2</td>\n",
              "      <td>0</td>\n",
              "      <td>0</td>\n",
              "      <td>93826.63</td>\n",
              "      <td>0</td>\n",
              "    </tr>\n",
              "    <tr>\n",
              "      <th>4</th>\n",
              "      <td>5</td>\n",
              "      <td>15737888</td>\n",
              "      <td>Mitchell</td>\n",
              "      <td>850</td>\n",
              "      <td>Spain</td>\n",
              "      <td>Female</td>\n",
              "      <td>43</td>\n",
              "      <td>2</td>\n",
              "      <td>125510.82</td>\n",
              "      <td>1</td>\n",
              "      <td>1</td>\n",
              "      <td>1</td>\n",
              "      <td>79084.10</td>\n",
              "      <td>0</td>\n",
              "    </tr>\n",
              "  </tbody>\n",
              "</table>\n",
              "</div>"
            ],
            "text/plain": [
              "   RowNumber  CustomerId   Surname  CreditScore Geography  Gender  Age  \\\n",
              "0          1    15634602  Hargrave          619    France  Female   42   \n",
              "1          2    15647311      Hill          608     Spain  Female   41   \n",
              "2          3    15619304      Onio          502    France  Female   42   \n",
              "3          4    15701354      Boni          699    France  Female   39   \n",
              "4          5    15737888  Mitchell          850     Spain  Female   43   \n",
              "\n",
              "   Tenure    Balance  NumOfProducts  HasCrCard  IsActiveMember  \\\n",
              "0       2       0.00              1          1               1   \n",
              "1       1   83807.86              1          0               1   \n",
              "2       8  159660.80              3          1               0   \n",
              "3       1       0.00              2          0               0   \n",
              "4       2  125510.82              1          1               1   \n",
              "\n",
              "   EstimatedSalary  Exited  \n",
              "0        101348.88       1  \n",
              "1        112542.58       0  \n",
              "2        113931.57       1  \n",
              "3         93826.63       0  \n",
              "4         79084.10       0  "
            ]
          },
          "metadata": {
            "tags": []
          },
          "execution_count": 234
        }
      ]
    },
    {
      "metadata": {
        "id": "aS4LZDk9rzZS",
        "colab_type": "code",
        "outputId": "6d83d954-c710-4af5-9d9b-a8e8e5febdf4",
        "colab": {
          "base_uri": "https://localhost:8080/",
          "height": 340
        }
      },
      "cell_type": "code",
      "source": [
        "df_bank.info()"
      ],
      "execution_count": 235,
      "outputs": [
        {
          "output_type": "stream",
          "text": [
            "<class 'pandas.core.frame.DataFrame'>\n",
            "RangeIndex: 10000 entries, 0 to 9999\n",
            "Data columns (total 14 columns):\n",
            "RowNumber          10000 non-null int64\n",
            "CustomerId         10000 non-null int64\n",
            "Surname            10000 non-null object\n",
            "CreditScore        10000 non-null int64\n",
            "Geography          10000 non-null object\n",
            "Gender             10000 non-null object\n",
            "Age                10000 non-null int64\n",
            "Tenure             10000 non-null int64\n",
            "Balance            10000 non-null float64\n",
            "NumOfProducts      10000 non-null int64\n",
            "HasCrCard          10000 non-null int64\n",
            "IsActiveMember     10000 non-null int64\n",
            "EstimatedSalary    10000 non-null float64\n",
            "Exited             10000 non-null int64\n",
            "dtypes: float64(2), int64(9), object(3)\n",
            "memory usage: 1.1+ MB\n"
          ],
          "name": "stdout"
        }
      ]
    },
    {
      "metadata": {
        "id": "vROzoRZ0r1ui",
        "colab_type": "code",
        "colab": {}
      },
      "cell_type": "code",
      "source": [
        "df_bank.drop(columns='RowNumber',axis=0,inplace=True)"
      ],
      "execution_count": 0,
      "outputs": []
    },
    {
      "metadata": {
        "id": "L7Q8tPeANYR_",
        "colab_type": "code",
        "colab": {
          "base_uri": "https://localhost:8080/",
          "height": 34
        },
        "outputId": "1df10d71-244c-4521-de15-363bf0e2382d"
      },
      "cell_type": "code",
      "source": [
        "print(any(df_bank['CustomerId'].duplicated()))  "
      ],
      "execution_count": 237,
      "outputs": [
        {
          "output_type": "stream",
          "text": [
            "False\n"
          ],
          "name": "stdout"
        }
      ]
    },
    {
      "metadata": {
        "id": "DI9DG_IbMhfA",
        "colab_type": "code",
        "colab": {}
      },
      "cell_type": "code",
      "source": [
        "df_bank.drop(columns='CustomerId',axis=0,inplace=True)"
      ],
      "execution_count": 0,
      "outputs": []
    },
    {
      "metadata": {
        "id": "ftSuRZO2Nnhg",
        "colab_type": "code",
        "colab": {}
      },
      "cell_type": "code",
      "source": [
        "df_bank.drop(columns='Surname',axis=0,inplace=True)"
      ],
      "execution_count": 0,
      "outputs": []
    },
    {
      "metadata": {
        "id": "nZyFS1zQMWXG",
        "colab_type": "code",
        "colab": {
          "base_uri": "https://localhost:8080/",
          "height": 34
        },
        "outputId": "25899db4-dbb9-47d6-e46a-d04bd41e1b88"
      },
      "cell_type": "code",
      "source": [
        "df_bank.shape"
      ],
      "execution_count": 240,
      "outputs": [
        {
          "output_type": "execute_result",
          "data": {
            "text/plain": [
              "(10000, 11)"
            ]
          },
          "metadata": {
            "tags": []
          },
          "execution_count": 240
        }
      ]
    },
    {
      "metadata": {
        "id": "V9mklXFGRNqO",
        "colab_type": "code",
        "colab": {}
      },
      "cell_type": "code",
      "source": [
        "from sklearn.preprocessing import LabelEncoder"
      ],
      "execution_count": 0,
      "outputs": []
    },
    {
      "metadata": {
        "id": "DS7w4poeRNtX",
        "colab_type": "code",
        "colab": {}
      },
      "cell_type": "code",
      "source": [
        "labelgeog = LabelEncoder()"
      ],
      "execution_count": 0,
      "outputs": []
    },
    {
      "metadata": {
        "id": "Cz6vFY8XRNwv",
        "colab_type": "code",
        "colab": {}
      },
      "cell_type": "code",
      "source": [
        "df_bank['Geography'] = labelgeog.fit_transform(df_bank['Geography'])"
      ],
      "execution_count": 0,
      "outputs": []
    },
    {
      "metadata": {
        "id": "AAeFW27kTTFh",
        "colab_type": "code",
        "colab": {}
      },
      "cell_type": "code",
      "source": [
        "labelgen = LabelEncoder()"
      ],
      "execution_count": 0,
      "outputs": []
    },
    {
      "metadata": {
        "id": "xpnqvPSgTTIn",
        "colab_type": "code",
        "colab": {}
      },
      "cell_type": "code",
      "source": [
        "df_bank['Gender'] = labelgen.fit_transform(df_bank['Gender'])"
      ],
      "execution_count": 0,
      "outputs": []
    },
    {
      "metadata": {
        "id": "DpGCNioWTlNT",
        "colab_type": "code",
        "colab": {
          "base_uri": "https://localhost:8080/",
          "height": 34
        },
        "outputId": "bd3a9e8e-71fe-487f-b2b0-4dc66816db88"
      },
      "cell_type": "code",
      "source": [
        "pd.unique(df_bank['Gender'])"
      ],
      "execution_count": 246,
      "outputs": [
        {
          "output_type": "execute_result",
          "data": {
            "text/plain": [
              "array([0, 1])"
            ]
          },
          "metadata": {
            "tags": []
          },
          "execution_count": 246
        }
      ]
    },
    {
      "metadata": {
        "id": "9izWSq0FTlQf",
        "colab_type": "code",
        "colab": {
          "base_uri": "https://localhost:8080/",
          "height": 34
        },
        "outputId": "4b19a608-b7e5-4fa2-b735-2f2e39860072"
      },
      "cell_type": "code",
      "source": [
        "pd.unique(df_bank['Geography'])"
      ],
      "execution_count": 247,
      "outputs": [
        {
          "output_type": "execute_result",
          "data": {
            "text/plain": [
              "array([0, 2, 1])"
            ]
          },
          "metadata": {
            "tags": []
          },
          "execution_count": 247
        }
      ]
    },
    {
      "metadata": {
        "id": "OlTs5vjLTTL3",
        "colab_type": "code",
        "colab": {
          "base_uri": "https://localhost:8080/",
          "height": 204
        },
        "outputId": "bcbeb716-d024-42a2-ec09-6f8eed996597"
      },
      "cell_type": "code",
      "source": [
        "df_bank.head()"
      ],
      "execution_count": 248,
      "outputs": [
        {
          "output_type": "execute_result",
          "data": {
            "text/html": [
              "<div>\n",
              "<style scoped>\n",
              "    .dataframe tbody tr th:only-of-type {\n",
              "        vertical-align: middle;\n",
              "    }\n",
              "\n",
              "    .dataframe tbody tr th {\n",
              "        vertical-align: top;\n",
              "    }\n",
              "\n",
              "    .dataframe thead th {\n",
              "        text-align: right;\n",
              "    }\n",
              "</style>\n",
              "<table border=\"1\" class=\"dataframe\">\n",
              "  <thead>\n",
              "    <tr style=\"text-align: right;\">\n",
              "      <th></th>\n",
              "      <th>CreditScore</th>\n",
              "      <th>Geography</th>\n",
              "      <th>Gender</th>\n",
              "      <th>Age</th>\n",
              "      <th>Tenure</th>\n",
              "      <th>Balance</th>\n",
              "      <th>NumOfProducts</th>\n",
              "      <th>HasCrCard</th>\n",
              "      <th>IsActiveMember</th>\n",
              "      <th>EstimatedSalary</th>\n",
              "      <th>Exited</th>\n",
              "    </tr>\n",
              "  </thead>\n",
              "  <tbody>\n",
              "    <tr>\n",
              "      <th>0</th>\n",
              "      <td>619</td>\n",
              "      <td>0</td>\n",
              "      <td>0</td>\n",
              "      <td>42</td>\n",
              "      <td>2</td>\n",
              "      <td>0.00</td>\n",
              "      <td>1</td>\n",
              "      <td>1</td>\n",
              "      <td>1</td>\n",
              "      <td>101348.88</td>\n",
              "      <td>1</td>\n",
              "    </tr>\n",
              "    <tr>\n",
              "      <th>1</th>\n",
              "      <td>608</td>\n",
              "      <td>2</td>\n",
              "      <td>0</td>\n",
              "      <td>41</td>\n",
              "      <td>1</td>\n",
              "      <td>83807.86</td>\n",
              "      <td>1</td>\n",
              "      <td>0</td>\n",
              "      <td>1</td>\n",
              "      <td>112542.58</td>\n",
              "      <td>0</td>\n",
              "    </tr>\n",
              "    <tr>\n",
              "      <th>2</th>\n",
              "      <td>502</td>\n",
              "      <td>0</td>\n",
              "      <td>0</td>\n",
              "      <td>42</td>\n",
              "      <td>8</td>\n",
              "      <td>159660.80</td>\n",
              "      <td>3</td>\n",
              "      <td>1</td>\n",
              "      <td>0</td>\n",
              "      <td>113931.57</td>\n",
              "      <td>1</td>\n",
              "    </tr>\n",
              "    <tr>\n",
              "      <th>3</th>\n",
              "      <td>699</td>\n",
              "      <td>0</td>\n",
              "      <td>0</td>\n",
              "      <td>39</td>\n",
              "      <td>1</td>\n",
              "      <td>0.00</td>\n",
              "      <td>2</td>\n",
              "      <td>0</td>\n",
              "      <td>0</td>\n",
              "      <td>93826.63</td>\n",
              "      <td>0</td>\n",
              "    </tr>\n",
              "    <tr>\n",
              "      <th>4</th>\n",
              "      <td>850</td>\n",
              "      <td>2</td>\n",
              "      <td>0</td>\n",
              "      <td>43</td>\n",
              "      <td>2</td>\n",
              "      <td>125510.82</td>\n",
              "      <td>1</td>\n",
              "      <td>1</td>\n",
              "      <td>1</td>\n",
              "      <td>79084.10</td>\n",
              "      <td>0</td>\n",
              "    </tr>\n",
              "  </tbody>\n",
              "</table>\n",
              "</div>"
            ],
            "text/plain": [
              "   CreditScore  Geography  Gender  Age  Tenure    Balance  NumOfProducts  \\\n",
              "0          619          0       0   42       2       0.00              1   \n",
              "1          608          2       0   41       1   83807.86              1   \n",
              "2          502          0       0   42       8  159660.80              3   \n",
              "3          699          0       0   39       1       0.00              2   \n",
              "4          850          2       0   43       2  125510.82              1   \n",
              "\n",
              "   HasCrCard  IsActiveMember  EstimatedSalary  Exited  \n",
              "0          1               1        101348.88       1  \n",
              "1          0               1        112542.58       0  \n",
              "2          1               0        113931.57       1  \n",
              "3          0               0         93826.63       0  \n",
              "4          1               1         79084.10       0  "
            ]
          },
          "metadata": {
            "tags": []
          },
          "execution_count": 248
        }
      ]
    },
    {
      "metadata": {
        "id": "-214ZyNzMZTc",
        "colab_type": "code",
        "colab": {}
      },
      "cell_type": "code",
      "source": [
        "X = df_bank.drop(columns='Exited',axis=0)"
      ],
      "execution_count": 0,
      "outputs": []
    },
    {
      "metadata": {
        "id": "jlSkjqNQOaqW",
        "colab_type": "code",
        "colab": {}
      },
      "cell_type": "code",
      "source": [
        "Y = df_bank['Exited']"
      ],
      "execution_count": 0,
      "outputs": []
    },
    {
      "metadata": {
        "id": "XAs5qF_TOepW",
        "colab_type": "code",
        "colab": {
          "base_uri": "https://localhost:8080/",
          "height": 51
        },
        "outputId": "7dbeab33-7bc9-4d7c-f8a1-acedb2d5937e"
      },
      "cell_type": "code",
      "source": [
        "print(X.shape)\n",
        "print(Y.shape)"
      ],
      "execution_count": 251,
      "outputs": [
        {
          "output_type": "stream",
          "text": [
            "(10000, 10)\n",
            "(10000,)\n"
          ],
          "name": "stdout"
        }
      ]
    },
    {
      "metadata": {
        "id": "zv-WmiPcOirn",
        "colab_type": "code",
        "colab": {}
      },
      "cell_type": "code",
      "source": [
        "from sklearn.model_selection import train_test_split"
      ],
      "execution_count": 0,
      "outputs": []
    },
    {
      "metadata": {
        "id": "vP25D4qeVZnm",
        "colab_type": "code",
        "colab": {}
      },
      "cell_type": "code",
      "source": [
        "X_train,X_test, y_train, y_test = train_test_split(X,Y,test_size=0.3, random_state = 1)"
      ],
      "execution_count": 0,
      "outputs": []
    },
    {
      "metadata": {
        "id": "aRmUp-jbVprI",
        "colab_type": "code",
        "colab": {
          "base_uri": "https://localhost:8080/",
          "height": 85
        },
        "outputId": "d793275d-cc81-4e51-c089-6eb21ee15afe"
      },
      "cell_type": "code",
      "source": [
        "print(X_train.shape)\n",
        "print(y_train.shape)\n",
        "print(X_test.shape)\n",
        "print(y_test.shape)"
      ],
      "execution_count": 254,
      "outputs": [
        {
          "output_type": "stream",
          "text": [
            "(7000, 10)\n",
            "(7000,)\n",
            "(3000, 10)\n",
            "(3000,)\n"
          ],
          "name": "stdout"
        }
      ]
    },
    {
      "metadata": {
        "id": "9r7OVJruWIPZ",
        "colab_type": "code",
        "colab": {}
      },
      "cell_type": "code",
      "source": [
        "from sklearn.preprocessing import StandardScaler"
      ],
      "execution_count": 0,
      "outputs": []
    },
    {
      "metadata": {
        "id": "87vTkS8WXclP",
        "colab_type": "code",
        "colab": {}
      },
      "cell_type": "code",
      "source": [
        "Scale = StandardScaler()"
      ],
      "execution_count": 0,
      "outputs": []
    },
    {
      "metadata": {
        "id": "ykyt8JHUYSrZ",
        "colab_type": "code",
        "colab": {
          "base_uri": "https://localhost:8080/",
          "height": 85
        },
        "outputId": "7d0ca0b3-9255-4f2d-c46f-3154d628767d"
      },
      "cell_type": "code",
      "source": [
        "X_train = Scale.fit_transform(X_train)"
      ],
      "execution_count": 257,
      "outputs": [
        {
          "output_type": "stream",
          "text": [
            "/usr/local/lib/python3.6/dist-packages/sklearn/preprocessing/data.py:625: DataConversionWarning: Data with input dtype int64, float64 were all converted to float64 by StandardScaler.\n",
            "  return self.partial_fit(X, y)\n",
            "/usr/local/lib/python3.6/dist-packages/sklearn/base.py:462: DataConversionWarning: Data with input dtype int64, float64 were all converted to float64 by StandardScaler.\n",
            "  return self.fit(X, **fit_params).transform(X)\n"
          ],
          "name": "stderr"
        }
      ]
    },
    {
      "metadata": {
        "id": "MOwuwj-YYbfq",
        "colab_type": "code",
        "colab": {
          "base_uri": "https://localhost:8080/",
          "height": 51
        },
        "outputId": "7f185279-a06d-475b-8162-f9d58b7c9991"
      },
      "cell_type": "code",
      "source": [
        "X_test = Scale.transform(X_test)"
      ],
      "execution_count": 258,
      "outputs": [
        {
          "output_type": "stream",
          "text": [
            "/usr/local/lib/python3.6/dist-packages/ipykernel_launcher.py:1: DataConversionWarning: Data with input dtype int64, float64 were all converted to float64 by StandardScaler.\n",
            "  \"\"\"Entry point for launching an IPython kernel.\n"
          ],
          "name": "stderr"
        }
      ]
    },
    {
      "metadata": {
        "id": "Do8FnLMVYjRo",
        "colab_type": "code",
        "colab": {}
      },
      "cell_type": "code",
      "source": [
        "import keras\n",
        "from keras.models import Sequential,Input,Model\n",
        "from keras.layers import Dense, Dropout, Flatten\n",
        "from keras.layers import Conv2D, MaxPooling2D\n",
        "from keras.layers.normalization import BatchNormalization\n",
        "from keras.layers.advanced_activations import LeakyReLU"
      ],
      "execution_count": 0,
      "outputs": []
    },
    {
      "metadata": {
        "id": "ne3QQRMweW-5",
        "colab_type": "code",
        "colab": {}
      },
      "cell_type": "code",
      "source": [
        "model = Sequential()"
      ],
      "execution_count": 0,
      "outputs": []
    },
    {
      "metadata": {
        "id": "PLk_bP7zk1VL",
        "colab_type": "code",
        "colab": {}
      },
      "cell_type": "code",
      "source": [
        "model.add(Dense(activation='relu',input_dim=10,units=6,kernel_initializer='uniform'))"
      ],
      "execution_count": 0,
      "outputs": []
    },
    {
      "metadata": {
        "id": "oAGDRKuoomUs",
        "colab_type": "code",
        "colab": {}
      },
      "cell_type": "code",
      "source": [
        "model.add(Dense(activation='relu',units=6,kernel_initializer='uniform'))"
      ],
      "execution_count": 0,
      "outputs": []
    },
    {
      "metadata": {
        "id": "7Z5pvhWD67tg",
        "colab_type": "code",
        "colab": {}
      },
      "cell_type": "code",
      "source": [
        "model.add(Dense(activation = 'sigmoid', units=1, kernel_initializer='uniform'))"
      ],
      "execution_count": 0,
      "outputs": []
    },
    {
      "metadata": {
        "id": "9mSHznfl7B1S",
        "colab_type": "code",
        "colab": {}
      },
      "cell_type": "code",
      "source": [
        "model.compile(optimizer='adam', loss = 'binary_crossentropy', metrics=['accuracy'])"
      ],
      "execution_count": 0,
      "outputs": []
    },
    {
      "metadata": {
        "id": "ZqHWcD4e7Giu",
        "colab_type": "code",
        "colab": {
          "base_uri": "https://localhost:8080/",
          "height": 3434
        },
        "outputId": "82d2c8c3-2749-4ee9-d024-482565bc517a"
      },
      "cell_type": "code",
      "source": [
        "model.fit(X_train, y_train, batch_size=10, epochs=100)"
      ],
      "execution_count": 265,
      "outputs": [
        {
          "output_type": "stream",
          "text": [
            "Epoch 1/100\n",
            "7000/7000 [==============================] - 1s 206us/step - loss: 0.5026 - acc: 0.7979\n",
            "Epoch 2/100\n",
            "7000/7000 [==============================] - 1s 117us/step - loss: 0.4323 - acc: 0.7986\n",
            "Epoch 3/100\n",
            "7000/7000 [==============================] - 1s 116us/step - loss: 0.4293 - acc: 0.7986\n",
            "Epoch 4/100\n",
            "7000/7000 [==============================] - 1s 114us/step - loss: 0.4255 - acc: 0.7986\n",
            "Epoch 5/100\n",
            "7000/7000 [==============================] - 1s 115us/step - loss: 0.4217 - acc: 0.8026\n",
            "Epoch 6/100\n",
            "7000/7000 [==============================] - 1s 115us/step - loss: 0.4192 - acc: 0.8236\n",
            "Epoch 7/100\n",
            "7000/7000 [==============================] - 1s 115us/step - loss: 0.4170 - acc: 0.8276\n",
            "Epoch 8/100\n",
            "7000/7000 [==============================] - 1s 116us/step - loss: 0.4155 - acc: 0.8289\n",
            "Epoch 9/100\n",
            "7000/7000 [==============================] - 1s 116us/step - loss: 0.4138 - acc: 0.8311\n",
            "Epoch 10/100\n",
            "7000/7000 [==============================] - 1s 116us/step - loss: 0.4121 - acc: 0.8319\n",
            "Epoch 11/100\n",
            "7000/7000 [==============================] - 1s 115us/step - loss: 0.4114 - acc: 0.8323\n",
            "Epoch 12/100\n",
            "7000/7000 [==============================] - 1s 115us/step - loss: 0.4104 - acc: 0.8331\n",
            "Epoch 13/100\n",
            "7000/7000 [==============================] - 1s 115us/step - loss: 0.4095 - acc: 0.8351\n",
            "Epoch 14/100\n",
            "7000/7000 [==============================] - 1s 114us/step - loss: 0.4085 - acc: 0.8356\n",
            "Epoch 15/100\n",
            "7000/7000 [==============================] - 1s 113us/step - loss: 0.4078 - acc: 0.8357\n",
            "Epoch 16/100\n",
            "7000/7000 [==============================] - 1s 113us/step - loss: 0.4072 - acc: 0.8350\n",
            "Epoch 17/100\n",
            "7000/7000 [==============================] - 1s 110us/step - loss: 0.4066 - acc: 0.8367\n",
            "Epoch 18/100\n",
            "7000/7000 [==============================] - 1s 112us/step - loss: 0.4057 - acc: 0.8366\n",
            "Epoch 19/100\n",
            "7000/7000 [==============================] - 1s 112us/step - loss: 0.4054 - acc: 0.8360\n",
            "Epoch 20/100\n",
            "7000/7000 [==============================] - 1s 115us/step - loss: 0.4051 - acc: 0.8349\n",
            "Epoch 21/100\n",
            "7000/7000 [==============================] - 1s 113us/step - loss: 0.4046 - acc: 0.8356\n",
            "Epoch 22/100\n",
            "7000/7000 [==============================] - 1s 112us/step - loss: 0.4043 - acc: 0.8357\n",
            "Epoch 23/100\n",
            "7000/7000 [==============================] - 1s 114us/step - loss: 0.4040 - acc: 0.8360\n",
            "Epoch 24/100\n",
            "7000/7000 [==============================] - 1s 113us/step - loss: 0.4035 - acc: 0.8366\n",
            "Epoch 25/100\n",
            "7000/7000 [==============================] - 1s 114us/step - loss: 0.4029 - acc: 0.8374\n",
            "Epoch 26/100\n",
            "7000/7000 [==============================] - 1s 113us/step - loss: 0.4032 - acc: 0.8354\n",
            "Epoch 27/100\n",
            "7000/7000 [==============================] - 1s 115us/step - loss: 0.4029 - acc: 0.8361\n",
            "Epoch 28/100\n",
            "7000/7000 [==============================] - 1s 115us/step - loss: 0.4024 - acc: 0.8350\n",
            "Epoch 29/100\n",
            "7000/7000 [==============================] - 1s 112us/step - loss: 0.4024 - acc: 0.8364\n",
            "Epoch 30/100\n",
            "7000/7000 [==============================] - 1s 113us/step - loss: 0.4022 - acc: 0.8366\n",
            "Epoch 31/100\n",
            "7000/7000 [==============================] - 1s 114us/step - loss: 0.4013 - acc: 0.8356\n",
            "Epoch 32/100\n",
            "7000/7000 [==============================] - 1s 113us/step - loss: 0.4017 - acc: 0.8369\n",
            "Epoch 33/100\n",
            "7000/7000 [==============================] - 1s 115us/step - loss: 0.4016 - acc: 0.8347\n",
            "Epoch 34/100\n",
            "7000/7000 [==============================] - 1s 113us/step - loss: 0.4014 - acc: 0.8373\n",
            "Epoch 35/100\n",
            "7000/7000 [==============================] - 1s 112us/step - loss: 0.4013 - acc: 0.8361\n",
            "Epoch 36/100\n",
            "7000/7000 [==============================] - 1s 112us/step - loss: 0.4006 - acc: 0.8346\n",
            "Epoch 37/100\n",
            "7000/7000 [==============================] - 1s 111us/step - loss: 0.4009 - acc: 0.8367\n",
            "Epoch 38/100\n",
            "7000/7000 [==============================] - 1s 111us/step - loss: 0.4007 - acc: 0.8370\n",
            "Epoch 39/100\n",
            "7000/7000 [==============================] - 1s 110us/step - loss: 0.4006 - acc: 0.8366\n",
            "Epoch 40/100\n",
            "7000/7000 [==============================] - 1s 112us/step - loss: 0.4007 - acc: 0.8363\n",
            "Epoch 41/100\n",
            "7000/7000 [==============================] - 1s 113us/step - loss: 0.4002 - acc: 0.8347\n",
            "Epoch 42/100\n",
            "7000/7000 [==============================] - 1s 114us/step - loss: 0.4005 - acc: 0.8349\n",
            "Epoch 43/100\n",
            "7000/7000 [==============================] - 1s 119us/step - loss: 0.4002 - acc: 0.8359\n",
            "Epoch 44/100\n",
            "7000/7000 [==============================] - 1s 116us/step - loss: 0.3996 - acc: 0.8361\n",
            "Epoch 45/100\n",
            "7000/7000 [==============================] - 1s 116us/step - loss: 0.3999 - acc: 0.8364\n",
            "Epoch 46/100\n",
            "7000/7000 [==============================] - 1s 114us/step - loss: 0.4001 - acc: 0.8346\n",
            "Epoch 47/100\n",
            "7000/7000 [==============================] - 1s 114us/step - loss: 0.3998 - acc: 0.8354\n",
            "Epoch 48/100\n",
            "7000/7000 [==============================] - 1s 116us/step - loss: 0.3993 - acc: 0.8359\n",
            "Epoch 49/100\n",
            "7000/7000 [==============================] - 1s 118us/step - loss: 0.3992 - acc: 0.8381\n",
            "Epoch 50/100\n",
            "7000/7000 [==============================] - 1s 116us/step - loss: 0.3995 - acc: 0.8367\n",
            "Epoch 51/100\n",
            "7000/7000 [==============================] - 1s 115us/step - loss: 0.3992 - acc: 0.8374\n",
            "Epoch 52/100\n",
            "7000/7000 [==============================] - 1s 117us/step - loss: 0.3992 - acc: 0.8371\n",
            "Epoch 53/100\n",
            "7000/7000 [==============================] - 1s 115us/step - loss: 0.3994 - acc: 0.8343\n",
            "Epoch 54/100\n",
            "7000/7000 [==============================] - 1s 118us/step - loss: 0.3992 - acc: 0.8353\n",
            "Epoch 55/100\n",
            "7000/7000 [==============================] - 1s 115us/step - loss: 0.3989 - acc: 0.8340\n",
            "Epoch 56/100\n",
            "7000/7000 [==============================] - 1s 115us/step - loss: 0.3989 - acc: 0.8360\n",
            "Epoch 57/100\n",
            "7000/7000 [==============================] - 1s 116us/step - loss: 0.3988 - acc: 0.8364\n",
            "Epoch 58/100\n",
            "7000/7000 [==============================] - 1s 120us/step - loss: 0.3984 - acc: 0.8339\n",
            "Epoch 59/100\n",
            "7000/7000 [==============================] - 1s 111us/step - loss: 0.3986 - acc: 0.8357\n",
            "Epoch 60/100\n",
            "7000/7000 [==============================] - 1s 113us/step - loss: 0.3986 - acc: 0.8360\n",
            "Epoch 61/100\n",
            "7000/7000 [==============================] - 1s 116us/step - loss: 0.3979 - acc: 0.8344\n",
            "Epoch 62/100\n",
            "7000/7000 [==============================] - 1s 115us/step - loss: 0.3976 - acc: 0.8373\n",
            "Epoch 63/100\n",
            "7000/7000 [==============================] - 1s 118us/step - loss: 0.3977 - acc: 0.8369\n",
            "Epoch 64/100\n",
            "7000/7000 [==============================] - 1s 119us/step - loss: 0.3974 - acc: 0.8361\n",
            "Epoch 65/100\n",
            "7000/7000 [==============================] - 1s 115us/step - loss: 0.3977 - acc: 0.8357\n",
            "Epoch 66/100\n",
            "7000/7000 [==============================] - 1s 115us/step - loss: 0.3974 - acc: 0.8369\n",
            "Epoch 67/100\n",
            "7000/7000 [==============================] - 1s 118us/step - loss: 0.3980 - acc: 0.8366\n",
            "Epoch 68/100\n",
            "7000/7000 [==============================] - 1s 116us/step - loss: 0.3975 - acc: 0.8360\n",
            "Epoch 69/100\n",
            "7000/7000 [==============================] - 1s 115us/step - loss: 0.3974 - acc: 0.8366\n",
            "Epoch 70/100\n",
            "7000/7000 [==============================] - 1s 114us/step - loss: 0.3975 - acc: 0.8371\n",
            "Epoch 71/100\n",
            "7000/7000 [==============================] - 1s 114us/step - loss: 0.3974 - acc: 0.8356\n",
            "Epoch 72/100\n",
            "7000/7000 [==============================] - 1s 112us/step - loss: 0.3968 - acc: 0.8367\n",
            "Epoch 73/100\n",
            "7000/7000 [==============================] - 1s 115us/step - loss: 0.3976 - acc: 0.8364\n",
            "Epoch 74/100\n",
            "7000/7000 [==============================] - 1s 117us/step - loss: 0.3974 - acc: 0.8357\n",
            "Epoch 75/100\n",
            "7000/7000 [==============================] - 1s 119us/step - loss: 0.3974 - acc: 0.8377\n",
            "Epoch 76/100\n",
            "7000/7000 [==============================] - 1s 115us/step - loss: 0.3975 - acc: 0.8350\n",
            "Epoch 77/100\n",
            "7000/7000 [==============================] - 1s 116us/step - loss: 0.3970 - acc: 0.8377\n",
            "Epoch 78/100\n",
            "7000/7000 [==============================] - 1s 114us/step - loss: 0.3972 - acc: 0.8383\n",
            "Epoch 79/100\n",
            "7000/7000 [==============================] - 1s 115us/step - loss: 0.3970 - acc: 0.8373\n",
            "Epoch 80/100\n",
            "7000/7000 [==============================] - 1s 113us/step - loss: 0.3975 - acc: 0.8369\n",
            "Epoch 81/100\n",
            "7000/7000 [==============================] - 1s 114us/step - loss: 0.3973 - acc: 0.8370\n",
            "Epoch 82/100\n",
            "7000/7000 [==============================] - 1s 118us/step - loss: 0.3973 - acc: 0.8366\n",
            "Epoch 83/100\n",
            "7000/7000 [==============================] - 1s 114us/step - loss: 0.3973 - acc: 0.8373\n",
            "Epoch 84/100\n",
            "7000/7000 [==============================] - 1s 119us/step - loss: 0.3975 - acc: 0.8374\n",
            "Epoch 85/100\n",
            "7000/7000 [==============================] - 1s 115us/step - loss: 0.3970 - acc: 0.8363\n",
            "Epoch 86/100\n",
            "7000/7000 [==============================] - 1s 116us/step - loss: 0.3971 - acc: 0.8364\n",
            "Epoch 87/100\n",
            "7000/7000 [==============================] - 1s 118us/step - loss: 0.3973 - acc: 0.8366\n",
            "Epoch 88/100\n",
            "7000/7000 [==============================] - 1s 112us/step - loss: 0.3975 - acc: 0.8366\n",
            "Epoch 89/100\n",
            "7000/7000 [==============================] - 1s 111us/step - loss: 0.3970 - acc: 0.8359\n",
            "Epoch 90/100\n",
            "7000/7000 [==============================] - 1s 114us/step - loss: 0.3974 - acc: 0.8374\n",
            "Epoch 91/100\n",
            "7000/7000 [==============================] - 1s 117us/step - loss: 0.3973 - acc: 0.8353\n",
            "Epoch 92/100\n",
            "7000/7000 [==============================] - 1s 117us/step - loss: 0.3966 - acc: 0.8373\n",
            "Epoch 93/100\n",
            "7000/7000 [==============================] - 1s 113us/step - loss: 0.3969 - acc: 0.8370\n",
            "Epoch 94/100\n",
            "7000/7000 [==============================] - 1s 113us/step - loss: 0.3974 - acc: 0.8379\n",
            "Epoch 95/100\n",
            "7000/7000 [==============================] - 1s 114us/step - loss: 0.3972 - acc: 0.8380\n",
            "Epoch 96/100\n",
            "7000/7000 [==============================] - 1s 116us/step - loss: 0.3970 - acc: 0.8367\n",
            "Epoch 97/100\n",
            "7000/7000 [==============================] - 1s 114us/step - loss: 0.3968 - acc: 0.8380\n",
            "Epoch 98/100\n",
            "7000/7000 [==============================] - 1s 115us/step - loss: 0.3971 - acc: 0.8369\n",
            "Epoch 99/100\n",
            "7000/7000 [==============================] - 1s 117us/step - loss: 0.3970 - acc: 0.8367\n",
            "Epoch 100/100\n",
            "7000/7000 [==============================] - 1s 114us/step - loss: 0.3970 - acc: 0.8383\n"
          ],
          "name": "stdout"
        },
        {
          "output_type": "execute_result",
          "data": {
            "text/plain": [
              "<keras.callbacks.History at 0x7fc7831c4320>"
            ]
          },
          "metadata": {
            "tags": []
          },
          "execution_count": 265
        }
      ]
    },
    {
      "metadata": {
        "id": "ThisNLPS7Mow",
        "colab_type": "code",
        "colab": {}
      },
      "cell_type": "code",
      "source": [
        "y_predict = model.predict(X_test)"
      ],
      "execution_count": 0,
      "outputs": []
    },
    {
      "metadata": {
        "id": "MViyEtH479zw",
        "colab_type": "code",
        "colab": {}
      },
      "cell_type": "code",
      "source": [
        "final_prediction = y_predict > 0.5"
      ],
      "execution_count": 0,
      "outputs": []
    },
    {
      "metadata": {
        "id": "GL8pnVPZ8GAA",
        "colab_type": "code",
        "colab": {
          "base_uri": "https://localhost:8080/",
          "height": 136
        },
        "outputId": "3ce1600c-6e7a-462d-a3c6-a27ff5877cfe"
      },
      "cell_type": "code",
      "source": [
        "print(final_prediction)"
      ],
      "execution_count": 268,
      "outputs": [
        {
          "output_type": "stream",
          "text": [
            "[[False]\n",
            " [False]\n",
            " [False]\n",
            " ...\n",
            " [False]\n",
            " [False]\n",
            " [False]]\n"
          ],
          "name": "stdout"
        }
      ]
    },
    {
      "metadata": {
        "id": "9pW2AJi58IYA",
        "colab_type": "code",
        "colab": {}
      },
      "cell_type": "code",
      "source": [
        "from sklearn.metrics import confusion_matrix,accuracy_score"
      ],
      "execution_count": 0,
      "outputs": []
    },
    {
      "metadata": {
        "id": "urhIjj6M8Q-x",
        "colab_type": "code",
        "colab": {}
      },
      "cell_type": "code",
      "source": [
        "conmat = confusion_matrix(y_test,final_prediction)"
      ],
      "execution_count": 0,
      "outputs": []
    },
    {
      "metadata": {
        "id": "4_AtWlxO8elR",
        "colab_type": "code",
        "colab": {
          "base_uri": "https://localhost:8080/",
          "height": 51
        },
        "outputId": "1dd1cfde-e674-43d3-dfb1-6d06b379a0e1"
      },
      "cell_type": "code",
      "source": [
        "print(conmat)"
      ],
      "execution_count": 271,
      "outputs": [
        {
          "output_type": "stream",
          "text": [
            "[[2304   69]\n",
            " [ 434  193]]\n"
          ],
          "name": "stdout"
        }
      ]
    },
    {
      "metadata": {
        "id": "lwUrBSlr8nry",
        "colab_type": "code",
        "colab": {}
      },
      "cell_type": "code",
      "source": [
        "acc = accuracy_score(y_test,final_prediction)"
      ],
      "execution_count": 0,
      "outputs": []
    },
    {
      "metadata": {
        "id": "S9QmIXrd-pIh",
        "colab_type": "code",
        "colab": {
          "base_uri": "https://localhost:8080/",
          "height": 34
        },
        "outputId": "94ad53c7-ff57-486a-9d73-6e1c5349e442"
      },
      "cell_type": "code",
      "source": [
        "print(acc)"
      ],
      "execution_count": 273,
      "outputs": [
        {
          "output_type": "stream",
          "text": [
            "0.8323333333333334\n"
          ],
          "name": "stdout"
        }
      ]
    },
    {
      "metadata": {
        "id": "noOlWuOi-tNg",
        "colab_type": "code",
        "colab": {}
      },
      "cell_type": "code",
      "source": [
        ""
      ],
      "execution_count": 0,
      "outputs": []
    }
  ]
}