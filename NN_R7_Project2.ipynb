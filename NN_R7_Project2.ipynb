{
  "nbformat": 4,
  "nbformat_minor": 0,
  "metadata": {
    "colab": {
      "name": "NN_R7_Project2.ipynb",
      "version": "0.3.2",
      "provenance": []
    },
    "kernelspec": {
      "name": "python3",
      "display_name": "Python 3"
    },
    "accelerator": "TPU"
  },
  "cells": [
    {
      "cell_type": "code",
      "metadata": {
        "id": "VZ61trzsR7JO",
        "colab_type": "code",
        "colab": {}
      },
      "source": [
        "from __future__ import print_function\n",
        "from sklearn import datasets\n",
        "from skimage import exposure\n",
        "import numpy as np\n",
        "import pandas as pd\n",
        "import h5py\n",
        "import cv2\n",
        "import matplotlib.pyplot as plt"
      ],
      "execution_count": 0,
      "outputs": []
    },
    {
      "cell_type": "code",
      "metadata": {
        "id": "tTzyc9ozSPYP",
        "colab_type": "code",
        "outputId": "1034efbb-43e7-4355-b0e2-5fcc8958f21a",
        "colab": {
          "base_uri": "https://localhost:8080/",
          "height": 122
        }
      },
      "source": [
        "from google.colab import drive\n",
        "drive.mount('/content/gdrive')"
      ],
      "execution_count": 2,
      "outputs": [
        {
          "output_type": "stream",
          "text": [
            "Go to this URL in a browser: https://accounts.google.com/o/oauth2/auth?client_id=947318989803-6bn6qk8qdgf4n4g3pfee6491hc0brc4i.apps.googleusercontent.com&redirect_uri=urn%3Aietf%3Awg%3Aoauth%3A2.0%3Aoob&scope=email%20https%3A%2F%2Fwww.googleapis.com%2Fauth%2Fdocs.test%20https%3A%2F%2Fwww.googleapis.com%2Fauth%2Fdrive%20https%3A%2F%2Fwww.googleapis.com%2Fauth%2Fdrive.photos.readonly%20https%3A%2F%2Fwww.googleapis.com%2Fauth%2Fpeopleapi.readonly&response_type=code\n",
            "\n",
            "Enter your authorization code:\n",
            "··········\n",
            "Mounted at /content/gdrive\n"
          ],
          "name": "stdout"
        }
      ]
    },
    {
      "cell_type": "code",
      "metadata": {
        "id": "lrlvcALbUkvH",
        "colab_type": "code",
        "colab": {}
      },
      "source": [
        "file=\"/content/gdrive/My Drive/SVHN_single_grey1.h5\""
      ],
      "execution_count": 0,
      "outputs": []
    },
    {
      "cell_type": "code",
      "metadata": {
        "id": "JVpImuo6Umy6",
        "colab_type": "code",
        "colab": {}
      },
      "source": [
        "h5f = h5py.File(file, 'r')"
      ],
      "execution_count": 0,
      "outputs": []
    },
    {
      "cell_type": "code",
      "metadata": {
        "id": "tEoer-CYOVU8",
        "colab_type": "code",
        "colab": {}
      },
      "source": [
        "trainX = h5f['X_train'][:]\n",
        "trainy = h5f['y_train'][:]\n",
        "testx = h5f['X_test'][:]\n",
        "testy = h5f['y_test'][:]\n",
        "valx = h5f['X_val'][:]\n",
        "valy = h5f['y_val'][:]"
      ],
      "execution_count": 0,
      "outputs": []
    },
    {
      "cell_type": "code",
      "metadata": {
        "id": "EWjDUqtahJD0",
        "colab_type": "code",
        "colab": {
          "base_uri": "https://localhost:8080/",
          "height": 119
        },
        "outputId": "107fa1c9-ccc4-4802-f7ad-2b53aa15871a"
      },
      "source": [
        "print(trainX.shape)\n",
        "print(trainy.shape)\n",
        "print(testx.shape)\n",
        "print(testy.shape)\n",
        "print(valx.shape)\n",
        "print(valy.shape)"
      ],
      "execution_count": 47,
      "outputs": [
        {
          "output_type": "stream",
          "text": [
            "(42000, 32, 32)\n",
            "(42000,)\n",
            "(18000, 32, 32)\n",
            "(18000,)\n",
            "(60000, 32, 32)\n",
            "(60000,)\n"
          ],
          "name": "stdout"
        }
      ]
    },
    {
      "cell_type": "code",
      "metadata": {
        "id": "kLlLEvperEJr",
        "colab_type": "code",
        "colab": {}
      },
      "source": [
        "trainx_k = np.reshape(trainX,(trainX.shape[0],-1))"
      ],
      "execution_count": 0,
      "outputs": []
    },
    {
      "cell_type": "code",
      "metadata": {
        "id": "n7yHxH2uweg4",
        "colab_type": "code",
        "colab": {
          "base_uri": "https://localhost:8080/",
          "height": 34
        },
        "outputId": "427f9e90-b671-4cde-8043-faf87c5d8925"
      },
      "source": [
        "trainx_k.shape"
      ],
      "execution_count": 49,
      "outputs": [
        {
          "output_type": "execute_result",
          "data": {
            "text/plain": [
              "(42000, 1024)"
            ]
          },
          "metadata": {
            "tags": []
          },
          "execution_count": 49
        }
      ]
    },
    {
      "cell_type": "code",
      "metadata": {
        "id": "TavKwBzVwttX",
        "colab_type": "code",
        "colab": {}
      },
      "source": [
        "testx_k = np.reshape(testx,(testx.shape[0],-1))\n",
        "valx_k = np.reshape(valx,(valx.shape[0],-1))"
      ],
      "execution_count": 0,
      "outputs": []
    },
    {
      "cell_type": "code",
      "metadata": {
        "id": "VoFP8-XaxGJ3",
        "colab_type": "code",
        "colab": {
          "base_uri": "https://localhost:8080/",
          "height": 51
        },
        "outputId": "b96a09be-78be-4698-fba2-e257177f2ca6"
      },
      "source": [
        "print(testx_k.shape)\n",
        "print(valx_k.shape)"
      ],
      "execution_count": 51,
      "outputs": [
        {
          "output_type": "stream",
          "text": [
            "(18000, 1024)\n",
            "(60000, 1024)\n"
          ],
          "name": "stdout"
        }
      ]
    },
    {
      "cell_type": "code",
      "metadata": {
        "id": "71iqImNvxNhn",
        "colab_type": "code",
        "colab": {}
      },
      "source": [
        "from sklearn.model_selection import train_test_split\n",
        "from sklearn.neighbors import KNeighborsClassifier\n",
        "from sklearn.metrics import confusion_matrix\n",
        "from sklearn.metrics import classification_report"
      ],
      "execution_count": 0,
      "outputs": []
    },
    {
      "cell_type": "code",
      "metadata": {
        "id": "8MUYjEthxZ_T",
        "colab_type": "code",
        "colab": {
          "base_uri": "https://localhost:8080/",
          "height": 34
        },
        "outputId": "ff2a717d-1671-41aa-b78d-8e92fb524d1b"
      },
      "source": [
        "accuracy = []\n",
        "\n",
        "model = KNeighborsClassifier(n_neighbors=1)\n",
        "model.fit(trainx_k, trainy)\n",
        "\n",
        "score = model.score(valx_k, valy)\n",
        "print(score * 100)\n",
        "accuracy.append(score)"
      ],
      "execution_count": 24,
      "outputs": [
        {
          "output_type": "stream",
          "text": [
            "83.775\n"
          ],
          "name": "stdout"
        }
      ]
    },
    {
      "cell_type": "code",
      "metadata": {
        "id": "Klhkz2UxzIif",
        "colab_type": "code",
        "colab": {}
      },
      "source": [
        "df_predict = model.predict(testx_k)"
      ],
      "execution_count": 0,
      "outputs": []
    },
    {
      "cell_type": "code",
      "metadata": {
        "id": "VU7myd5O5xFC",
        "colab_type": "code",
        "colab": {
          "base_uri": "https://localhost:8080/",
          "height": 306
        },
        "outputId": "cb8ce091-dc1e-49d2-9a72-11d28f6b23a7"
      },
      "source": [
        "print(classification_report(testy, df_predict))"
      ],
      "execution_count": 30,
      "outputs": [
        {
          "output_type": "stream",
          "text": [
            "              precision    recall  f1-score   support\n",
            "\n",
            "           0       0.47      0.52      0.49      1814\n",
            "           1       0.50      0.57      0.53      1828\n",
            "           2       0.54      0.48      0.51      1803\n",
            "           3       0.37      0.35      0.36      1719\n",
            "           4       0.60      0.57      0.59      1812\n",
            "           5       0.38      0.33      0.36      1768\n",
            "           6       0.38      0.39      0.39      1832\n",
            "           7       0.63      0.59      0.61      1808\n",
            "           8       0.34      0.37      0.36      1812\n",
            "           9       0.39      0.40      0.40      1804\n",
            "\n",
            "    accuracy                           0.46     18000\n",
            "   macro avg       0.46      0.46      0.46     18000\n",
            "weighted avg       0.46      0.46      0.46     18000\n",
            "\n"
          ],
          "name": "stdout"
        }
      ]
    },
    {
      "cell_type": "code",
      "metadata": {
        "id": "Q2Cu_mgq6XH6",
        "colab_type": "code",
        "colab": {
          "base_uri": "https://localhost:8080/",
          "height": 187
        },
        "outputId": "45530322-9b1d-42c1-88ec-c46ce6b41169"
      },
      "source": [
        "print(confusion_matrix(testy, df_predict))"
      ],
      "execution_count": 31,
      "outputs": [
        {
          "output_type": "stream",
          "text": [
            "[[ 935   43   51   64   71   65  185   40  170  190]\n",
            " [  51 1034  109  122  123   69   68  119   67   66]\n",
            " [  63  135  872  131   82   74   65  168   79  134]\n",
            " [  67  166  127  610   88  229   82   80  149  121]\n",
            " [  85  195   51   71 1039   55  111   35   98   72]\n",
            " [  94  103   71  220   54  588  203   48  205  182]\n",
            " [ 225   74   51   72  102  154  711   33  295  115]\n",
            " [  65  173  146  100   34   38   48 1071   53   80]\n",
            " [ 150   62   59  130   86  153  267   44  675  186]\n",
            " [ 238   87   89  115   60  113  115   65  192  730]]\n"
          ],
          "name": "stdout"
        }
      ]
    },
    {
      "cell_type": "code",
      "metadata": {
        "id": "EvpQZ7yS8344",
        "colab_type": "code",
        "colab": {}
      },
      "source": [
        "import keras\n",
        "import tensorflow as tf\n",
        "from keras import optimizers"
      ],
      "execution_count": 0,
      "outputs": []
    },
    {
      "cell_type": "code",
      "metadata": {
        "id": "mVkfQ_OhBoAW",
        "colab_type": "code",
        "colab": {}
      },
      "source": [
        "import matplotlib.pyplot as plt\n",
        "import matplotlib.image as mpimg\n",
        "%matplotlib inline"
      ],
      "execution_count": 0,
      "outputs": []
    },
    {
      "cell_type": "code",
      "metadata": {
        "id": "yeZImvkqBsU7",
        "colab_type": "code",
        "colab": {
          "base_uri": "https://localhost:8080/",
          "height": 109
        },
        "outputId": "0580cc1a-00b4-4b9c-831d-c3c124b4bcd6"
      },
      "source": [
        "for i in range(0,10): \n",
        "    plt.subplot(1,10,(i+1))\n",
        "    plt.imshow(trainX[i], cmap=plt.get_cmap('gray'))\n",
        "    plt.title(trainy[i]);\n",
        "print(\"Labels:\",trainy[0:10])"
      ],
      "execution_count": 54,
      "outputs": [
        {
          "output_type": "stream",
          "text": [
            "Labels: [2 6 7 4 4 0 3 0 7 3]\n"
          ],
          "name": "stdout"
        },
        {
          "output_type": "display_data",
          "data": {
            "image/png": "[encoded data removed]",
            "text/plain": [
              "<Figure size 432x288 with 10 Axes>"
            ]
          },
          "metadata": {
            "tags": []
          }
        }
      ]
    },
    {
      "cell_type": "code",
      "metadata": {
        "id": "KovwQdJFB0a6",
        "colab_type": "code",
        "colab": {}
      },
      "source": [
        "model_nn = tf.keras.Sequential()\n",
        "model_nn.add(tf.keras.layers.Flatten(input_shape=(32,32,)))\n",
        "model_nn.add(tf.keras.layers.Dense(1000,activation='relu'))\n",
        "model_nn.add(tf.keras.layers.Dropout(0.5))\n",
        "model_nn.add(tf.keras.layers.Dense(500,activation='relu'))\n",
        "model_nn.add(tf.keras.layers.Dropout(0.5))\n",
        "model_nn.add(tf.keras.layers.Dense(100,activation='relu'))\n",
        "model_nn.add(tf.keras.layers.Dropout(0.3))\n",
        "model_nn.add(tf.keras.layers.Dense(10, activation='softmax'))"
      ],
      "execution_count": 0,
      "outputs": []
    },
    {
      "cell_type": "code",
      "metadata": {
        "id": "Hw0prWlXCCKK",
        "colab_type": "code",
        "colab": {}
      },
      "source": [
        "model_nn.compile(loss='sparse_categorical_crossentropy',optimizer='sgd',metrics=['accuracy'])"
      ],
      "execution_count": 0,
      "outputs": []
    },
    {
      "cell_type": "code",
      "metadata": {
        "id": "sxquRLRlDIb8",
        "colab_type": "code",
        "colab": {
          "base_uri": "https://localhost:8080/",
          "height": 119
        },
        "outputId": "39e92805-4721-4e01-a736-b472b80a69d2"
      },
      "source": [
        "print(trainX.shape)\n",
        "print(trainy.shape)\n",
        "print(testx.shape)\n",
        "print(testy.shape)\n",
        "print(valx.shape)\n",
        "print(valy.shape)"
      ],
      "execution_count": 69,
      "outputs": [
        {
          "output_type": "stream",
          "text": [
            "(42000, 32, 32)\n",
            "(42000,)\n",
            "(18000, 32, 32)\n",
            "(18000,)\n",
            "(60000, 32, 32)\n",
            "(60000,)\n"
          ],
          "name": "stdout"
        }
      ]
    },
    {
      "cell_type": "code",
      "metadata": {
        "id": "y26w6ruRCHGM",
        "colab_type": "code",
        "colab": {
          "base_uri": "https://localhost:8080/",
          "height": 442
        },
        "outputId": "3a9c7691-1fa8-4c91-dfeb-5197383c16bd"
      },
      "source": [
        "model_nn.fit(trainX, trainy, \n",
        "          validation_data=(valx, valy), \n",
        "          epochs=50,batch_size=trainX.shape[0])"
      ],
      "execution_count": 70,
      "outputs": [
        {
          "output_type": "stream",
          "text": [
            "Train on 42000 samples, validate on 60000 samples\n",
            "Epoch 1/50\n",
            "42000/42000 [==============================] - 10s 230us/sample - loss: 280.4265 - acc: 0.1017 - val_loss: 1680.7314 - val_acc: 0.0990\n",
            "Epoch 2/50\n",
            "42000/42000 [==============================] - 10s 229us/sample - loss: 2527.9524 - acc: 0.0979 - val_loss: 7304.8297 - val_acc: 0.1000\n",
            "Epoch 3/50\n"
          ],
          "name": "stdout"
        },
        {
          "output_type": "error",
          "ename": "KeyboardInterrupt",
          "evalue": "ignored",
          "traceback": [
            "\u001b[0;31m---------------------------------------------------------------------------\u001b[0m",
            "\u001b[0;31mKeyboardInterrupt\u001b[0m                         Traceback (most recent call last)",
            "\u001b[0;32m<ipython-input-70-9f0aef59807e>\u001b[0m in \u001b[0;36m<module>\u001b[0;34m()\u001b[0m\n\u001b[1;32m      1\u001b[0m model_nn.fit(trainX, trainy, \n\u001b[1;32m      2\u001b[0m           \u001b[0mvalidation_data\u001b[0m\u001b[0;34m=\u001b[0m\u001b[0;34m(\u001b[0m\u001b[0mvalx\u001b[0m\u001b[0;34m,\u001b[0m \u001b[0mvaly\u001b[0m\u001b[0;34m)\u001b[0m\u001b[0;34m,\u001b[0m\u001b[0;34m\u001b[0m\u001b[0;34m\u001b[0m\u001b[0m\n\u001b[0;32m----> 3\u001b[0;31m           epochs=50,batch_size=trainX.shape[0])\n\u001b[0m",
            "\u001b[0;32m/usr/local/lib/python3.6/dist-packages/tensorflow/python/keras/engine/training.py\u001b[0m in \u001b[0;36mfit\u001b[0;34m(self, x, y, batch_size, epochs, verbose, callbacks, validation_split, validation_data, shuffle, class_weight, sample_weight, initial_epoch, steps_per_epoch, validation_steps, validation_freq, max_queue_size, workers, use_multiprocessing, **kwargs)\u001b[0m\n\u001b[1;32m    778\u001b[0m           \u001b[0mvalidation_steps\u001b[0m\u001b[0;34m=\u001b[0m\u001b[0mvalidation_steps\u001b[0m\u001b[0;34m,\u001b[0m\u001b[0;34m\u001b[0m\u001b[0;34m\u001b[0m\u001b[0m\n\u001b[1;32m    779\u001b[0m           \u001b[0mvalidation_freq\u001b[0m\u001b[0;34m=\u001b[0m\u001b[0mvalidation_freq\u001b[0m\u001b[0;34m,\u001b[0m\u001b[0;34m\u001b[0m\u001b[0;34m\u001b[0m\u001b[0m\n\u001b[0;32m--> 780\u001b[0;31m           steps_name='steps_per_epoch')\n\u001b[0m\u001b[1;32m    781\u001b[0m \u001b[0;34m\u001b[0m\u001b[0m\n\u001b[1;32m    782\u001b[0m   def evaluate(self,\n",
            "\u001b[0;32m/usr/local/lib/python3.6/dist-packages/tensorflow/python/keras/engine/training_arrays.py\u001b[0m in \u001b[0;36mmodel_iteration\u001b[0;34m(model, inputs, targets, sample_weights, batch_size, epochs, verbose, callbacks, val_inputs, val_targets, val_sample_weights, shuffle, initial_epoch, steps_per_epoch, validation_steps, validation_freq, mode, validation_in_fit, prepared_feed_values_from_dataset, steps_name, **kwargs)\u001b[0m\n\u001b[1;32m    361\u001b[0m \u001b[0;34m\u001b[0m\u001b[0m\n\u001b[1;32m    362\u001b[0m         \u001b[0;31m# Get outputs.\u001b[0m\u001b[0;34m\u001b[0m\u001b[0;34m\u001b[0m\u001b[0;34m\u001b[0m\u001b[0m\n\u001b[0;32m--> 363\u001b[0;31m         \u001b[0mbatch_outs\u001b[0m \u001b[0;34m=\u001b[0m \u001b[0mf\u001b[0m\u001b[0;34m(\u001b[0m\u001b[0mins_batch\u001b[0m\u001b[0;34m)\u001b[0m\u001b[0;34m\u001b[0m\u001b[0;34m\u001b[0m\u001b[0m\n\u001b[0m\u001b[1;32m    364\u001b[0m         \u001b[0;32mif\u001b[0m \u001b[0;32mnot\u001b[0m \u001b[0misinstance\u001b[0m\u001b[0;34m(\u001b[0m\u001b[0mbatch_outs\u001b[0m\u001b[0;34m,\u001b[0m \u001b[0mlist\u001b[0m\u001b[0;34m)\u001b[0m\u001b[0;34m:\u001b[0m\u001b[0;34m\u001b[0m\u001b[0;34m\u001b[0m\u001b[0m\n\u001b[1;32m    365\u001b[0m           \u001b[0mbatch_outs\u001b[0m \u001b[0;34m=\u001b[0m \u001b[0;34m[\u001b[0m\u001b[0mbatch_outs\u001b[0m\u001b[0;34m]\u001b[0m\u001b[0;34m\u001b[0m\u001b[0;34m\u001b[0m\u001b[0m\n",
            "\u001b[0;32m/usr/local/lib/python3.6/dist-packages/tensorflow/python/keras/backend.py\u001b[0m in \u001b[0;36m__call__\u001b[0;34m(self, inputs)\u001b[0m\n\u001b[1;32m   3290\u001b[0m \u001b[0;34m\u001b[0m\u001b[0m\n\u001b[1;32m   3291\u001b[0m     fetched = self._callable_fn(*array_vals,\n\u001b[0;32m-> 3292\u001b[0;31m                                 run_metadata=self.run_metadata)\n\u001b[0m\u001b[1;32m   3293\u001b[0m     \u001b[0mself\u001b[0m\u001b[0;34m.\u001b[0m\u001b[0m_call_fetch_callbacks\u001b[0m\u001b[0;34m(\u001b[0m\u001b[0mfetched\u001b[0m\u001b[0;34m[\u001b[0m\u001b[0;34m-\u001b[0m\u001b[0mlen\u001b[0m\u001b[0;34m(\u001b[0m\u001b[0mself\u001b[0m\u001b[0;34m.\u001b[0m\u001b[0m_fetches\u001b[0m\u001b[0;34m)\u001b[0m\u001b[0;34m:\u001b[0m\u001b[0;34m]\u001b[0m\u001b[0;34m)\u001b[0m\u001b[0;34m\u001b[0m\u001b[0;34m\u001b[0m\u001b[0m\n\u001b[1;32m   3294\u001b[0m     output_structure = nest.pack_sequence_as(\n",
            "\u001b[0;32m/usr/local/lib/python3.6/dist-packages/tensorflow/python/client/session.py\u001b[0m in \u001b[0;36m__call__\u001b[0;34m(self, *args, **kwargs)\u001b[0m\n\u001b[1;32m   1456\u001b[0m         ret = tf_session.TF_SessionRunCallable(self._session._session,\n\u001b[1;32m   1457\u001b[0m                                                \u001b[0mself\u001b[0m\u001b[0;34m.\u001b[0m\u001b[0m_handle\u001b[0m\u001b[0;34m,\u001b[0m \u001b[0margs\u001b[0m\u001b[0;34m,\u001b[0m\u001b[0;34m\u001b[0m\u001b[0;34m\u001b[0m\u001b[0m\n\u001b[0;32m-> 1458\u001b[0;31m                                                run_metadata_ptr)\n\u001b[0m\u001b[1;32m   1459\u001b[0m         \u001b[0;32mif\u001b[0m \u001b[0mrun_metadata\u001b[0m\u001b[0;34m:\u001b[0m\u001b[0;34m\u001b[0m\u001b[0;34m\u001b[0m\u001b[0m\n\u001b[1;32m   1460\u001b[0m           \u001b[0mproto_data\u001b[0m \u001b[0;34m=\u001b[0m \u001b[0mtf_session\u001b[0m\u001b[0;34m.\u001b[0m\u001b[0mTF_GetBuffer\u001b[0m\u001b[0;34m(\u001b[0m\u001b[0mrun_metadata_ptr\u001b[0m\u001b[0;34m)\u001b[0m\u001b[0;34m\u001b[0m\u001b[0;34m\u001b[0m\u001b[0m\n",
            "\u001b[0;31mKeyboardInterrupt\u001b[0m: "
          ]
        }
      ]
    },
    {
      "cell_type": "code",
      "metadata": {
        "id": "NF1_jcwwCRxa",
        "colab_type": "code",
        "colab": {
          "base_uri": "https://localhost:8080/",
          "height": 425
        },
        "outputId": "d4258a0e-250b-474a-b38b-2a1260ac5c66"
      },
      "source": [
        "model_nn.summary()"
      ],
      "execution_count": 71,
      "outputs": [
        {
          "output_type": "stream",
          "text": [
            "Model: \"sequential_5\"\n",
            "_________________________________________________________________\n",
            "Layer (type)                 Output Shape              Param #   \n",
            "=================================================================\n",
            "flatten_5 (Flatten)          (None, 1024)              0         \n",
            "_________________________________________________________________\n",
            "dense_20 (Dense)             (None, 1000)              1025000   \n",
            "_________________________________________________________________\n",
            "dropout_15 (Dropout)         (None, 1000)              0         \n",
            "_________________________________________________________________\n",
            "dense_21 (Dense)             (None, 500)               500500    \n",
            "_________________________________________________________________\n",
            "dropout_16 (Dropout)         (None, 500)               0         \n",
            "_________________________________________________________________\n",
            "dense_22 (Dense)             (None, 100)               50100     \n",
            "_________________________________________________________________\n",
            "dropout_17 (Dropout)         (None, 100)               0         \n",
            "_________________________________________________________________\n",
            "dense_23 (Dense)             (None, 10)                1010      \n",
            "=================================================================\n",
            "Total params: 1,576,610\n",
            "Trainable params: 1,576,610\n",
            "Non-trainable params: 0\n",
            "_________________________________________________________________\n"
          ],
          "name": "stdout"
        }
      ]
    },
    {
      "cell_type": "code",
      "metadata": {
        "id": "CMlQ2blItqPJ",
        "colab_type": "code",
        "colab": {}
      },
      "source": [
        "model_nn1 = tf.keras.Sequential()\n",
        "\n",
        "model_nn1.add(tf.keras.layers.Flatten(input_shape=(32,32,)))\n",
        "model_nn1.add(tf.keras.layers.BatchNormalization())\n",
        "model_nn1.add(tf.keras.layers.Dense(1000,activation='relu'))\n",
        "model_nn1.add(tf.keras.layers.BatchNormalization())\n",
        "model_nn1.add(tf.keras.layers.Dropout(0.5))\n",
        "model_nn1.add(tf.keras.layers.Dense(500,activation='relu'))\n",
        "model_nn1.add(tf.keras.layers.BatchNormalization())\n",
        "model_nn1.add(tf.keras.layers.Dropout(0.5))\n",
        "model_nn1.add(tf.keras.layers.Dense(100,activation='relu'))\n",
        "model_nn1.add(tf.keras.layers.Dropout(0.30))\n",
        "model_nn1.add(tf.keras.layers.Dense(10, activation='softmax'))"
      ],
      "execution_count": 0,
      "outputs": []
    },
    {
      "cell_type": "code",
      "metadata": {
        "id": "DML24reEt3Vk",
        "colab_type": "code",
        "colab": {}
      },
      "source": [
        "model_nn1.compile(loss='sparse_categorical_crossentropy',\n",
        "             optimizer='sgd',\n",
        "             metrics=['accuracy'])"
      ],
      "execution_count": 0,
      "outputs": []
    },
    {
      "cell_type": "code",
      "metadata": {
        "id": "cuMGY4Mft6ek",
        "colab_type": "code",
        "colab": {
          "base_uri": "https://localhost:8080/",
          "height": 3451
        },
        "outputId": "7257c24b-9fd6-4fd0-ecfa-c94330ea4419"
      },
      "source": [
        "model_nn1.fit(trainX, trainy, \n",
        "          validation_data=(valx, valy), \n",
        "          epochs=100,batch_size=trainX.shape[0])"
      ],
      "execution_count": 74,
      "outputs": [
        {
          "output_type": "stream",
          "text": [
            "Train on 42000 samples, validate on 60000 samples\n",
            "Epoch 1/100\n",
            "42000/42000 [==============================] - 14s 328us/sample - loss: 3.8237 - acc: 0.1048 - val_loss: 33.6265 - val_acc: 0.1005\n",
            "Epoch 2/100\n",
            "42000/42000 [==============================] - 13s 316us/sample - loss: 3.7703 - acc: 0.1071 - val_loss: 22.5211 - val_acc: 0.0985\n",
            "Epoch 3/100\n",
            "42000/42000 [==============================] - 13s 316us/sample - loss: 3.7383 - acc: 0.1079 - val_loss: 17.5902 - val_acc: 0.0962\n",
            "Epoch 4/100\n",
            "42000/42000 [==============================] - 13s 316us/sample - loss: 3.6997 - acc: 0.1071 - val_loss: 14.6482 - val_acc: 0.0959\n",
            "Epoch 5/100\n",
            "42000/42000 [==============================] - 13s 318us/sample - loss: 3.6500 - acc: 0.1089 - val_loss: 12.6679 - val_acc: 0.0959\n",
            "Epoch 6/100\n",
            "42000/42000 [==============================] - 13s 319us/sample - loss: 3.6038 - acc: 0.1083 - val_loss: 11.1781 - val_acc: 0.0960\n",
            "Epoch 7/100\n",
            "42000/42000 [==============================] - 13s 318us/sample - loss: 3.5983 - acc: 0.1070 - val_loss: 10.0010 - val_acc: 0.0965\n",
            "Epoch 8/100\n",
            "42000/42000 [==============================] - 13s 317us/sample - loss: 3.5442 - acc: 0.1122 - val_loss: 9.1121 - val_acc: 0.0970\n",
            "Epoch 9/100\n",
            "42000/42000 [==============================] - 13s 317us/sample - loss: 3.5404 - acc: 0.1105 - val_loss: 8.3709 - val_acc: 0.0973\n",
            "Epoch 10/100\n",
            "42000/42000 [==============================] - 13s 319us/sample - loss: 3.5030 - acc: 0.1121 - val_loss: 7.7350 - val_acc: 0.0976\n",
            "Epoch 11/100\n",
            "42000/42000 [==============================] - 13s 318us/sample - loss: 3.4868 - acc: 0.1120 - val_loss: 7.1877 - val_acc: 0.0978\n",
            "Epoch 12/100\n",
            "42000/42000 [==============================] - 13s 316us/sample - loss: 3.4578 - acc: 0.1129 - val_loss: 6.7188 - val_acc: 0.0981\n",
            "Epoch 13/100\n",
            "42000/42000 [==============================] - 13s 315us/sample - loss: 3.4607 - acc: 0.1121 - val_loss: 6.3108 - val_acc: 0.0985\n",
            "Epoch 14/100\n",
            "42000/42000 [==============================] - 13s 315us/sample - loss: 3.4371 - acc: 0.1119 - val_loss: 5.9516 - val_acc: 0.0985\n",
            "Epoch 15/100\n",
            "42000/42000 [==============================] - 13s 316us/sample - loss: 3.3984 - acc: 0.1144 - val_loss: 5.6474 - val_acc: 0.0988\n",
            "Epoch 16/100\n",
            "42000/42000 [==============================] - 13s 317us/sample - loss: 3.3874 - acc: 0.1133 - val_loss: 5.3620 - val_acc: 0.0992\n",
            "Epoch 17/100\n",
            "42000/42000 [==============================] - 13s 316us/sample - loss: 3.3571 - acc: 0.1147 - val_loss: 5.1349 - val_acc: 0.0997\n",
            "Epoch 18/100\n",
            "42000/42000 [==============================] - 13s 317us/sample - loss: 3.3732 - acc: 0.1156 - val_loss: 4.8986 - val_acc: 0.0998\n",
            "Epoch 19/100\n",
            "42000/42000 [==============================] - 13s 316us/sample - loss: 3.3441 - acc: 0.1136 - val_loss: 4.7039 - val_acc: 0.1001\n",
            "Epoch 20/100\n",
            "42000/42000 [==============================] - 13s 315us/sample - loss: 3.3412 - acc: 0.1145 - val_loss: 4.5336 - val_acc: 0.1001\n",
            "Epoch 21/100\n",
            "42000/42000 [==============================] - 13s 316us/sample - loss: 3.3324 - acc: 0.1154 - val_loss: 4.3744 - val_acc: 0.1007\n",
            "Epoch 22/100\n",
            "42000/42000 [==============================] - 13s 317us/sample - loss: 3.3117 - acc: 0.1159 - val_loss: 4.2515 - val_acc: 0.1010\n",
            "Epoch 23/100\n",
            "42000/42000 [==============================] - 13s 316us/sample - loss: 3.3100 - acc: 0.1151 - val_loss: 4.1260 - val_acc: 0.1013\n",
            "Epoch 24/100\n",
            "42000/42000 [==============================] - 13s 315us/sample - loss: 3.2849 - acc: 0.1191 - val_loss: 4.0033 - val_acc: 0.1020\n",
            "Epoch 25/100\n",
            "42000/42000 [==============================] - 13s 316us/sample - loss: 3.2741 - acc: 0.1196 - val_loss: 3.8942 - val_acc: 0.1024\n",
            "Epoch 26/100\n",
            "42000/42000 [==============================] - 13s 316us/sample - loss: 3.2599 - acc: 0.1194 - val_loss: 3.7960 - val_acc: 0.1030\n",
            "Epoch 27/100\n",
            "42000/42000 [==============================] - 13s 318us/sample - loss: 3.2513 - acc: 0.1231 - val_loss: 3.6988 - val_acc: 0.1036\n",
            "Epoch 28/100\n",
            "42000/42000 [==============================] - 14s 337us/sample - loss: 3.2404 - acc: 0.1185 - val_loss: 3.6165 - val_acc: 0.1040\n",
            "Epoch 29/100\n",
            "42000/42000 [==============================] - 13s 315us/sample - loss: 3.2455 - acc: 0.1176 - val_loss: 3.5470 - val_acc: 0.1047\n",
            "Epoch 30/100\n",
            "42000/42000 [==============================] - 13s 315us/sample - loss: 3.2119 - acc: 0.1222 - val_loss: 3.4773 - val_acc: 0.1049\n",
            "Epoch 31/100\n",
            "42000/42000 [==============================] - 13s 315us/sample - loss: 3.2172 - acc: 0.1218 - val_loss: 3.3900 - val_acc: 0.1056\n",
            "Epoch 32/100\n",
            "42000/42000 [==============================] - 13s 316us/sample - loss: 3.2066 - acc: 0.1234 - val_loss: 3.3230 - val_acc: 0.1065\n",
            "Epoch 33/100\n",
            "42000/42000 [==============================] - 13s 315us/sample - loss: 3.2085 - acc: 0.1203 - val_loss: 3.2610 - val_acc: 0.1067\n",
            "Epoch 34/100\n",
            "42000/42000 [==============================] - 13s 317us/sample - loss: 3.1905 - acc: 0.1230 - val_loss: 3.2120 - val_acc: 0.1074\n",
            "Epoch 35/100\n",
            "42000/42000 [==============================] - 13s 318us/sample - loss: 3.1763 - acc: 0.1210 - val_loss: 3.1605 - val_acc: 0.1078\n",
            "Epoch 36/100\n",
            "42000/42000 [==============================] - 13s 316us/sample - loss: 3.1704 - acc: 0.1228 - val_loss: 3.1121 - val_acc: 0.1083\n",
            "Epoch 37/100\n",
            "42000/42000 [==============================] - 13s 316us/sample - loss: 3.1659 - acc: 0.1240 - val_loss: 3.0660 - val_acc: 0.1094\n",
            "Epoch 38/100\n",
            "42000/42000 [==============================] - 13s 317us/sample - loss: 3.1531 - acc: 0.1262 - val_loss: 3.0226 - val_acc: 0.1100\n",
            "Epoch 39/100\n",
            "42000/42000 [==============================] - 13s 317us/sample - loss: 3.1451 - acc: 0.1229 - val_loss: 2.9782 - val_acc: 0.1105\n",
            "Epoch 40/100\n",
            "42000/42000 [==============================] - 13s 316us/sample - loss: 3.1606 - acc: 0.1228 - val_loss: 2.9391 - val_acc: 0.1110\n",
            "Epoch 41/100\n",
            "42000/42000 [==============================] - 13s 316us/sample - loss: 3.1356 - acc: 0.1287 - val_loss: 2.9023 - val_acc: 0.1118\n",
            "Epoch 42/100\n",
            "42000/42000 [==============================] - 13s 317us/sample - loss: 3.1298 - acc: 0.1267 - val_loss: 2.8732 - val_acc: 0.1129\n",
            "Epoch 43/100\n",
            "42000/42000 [==============================] - 13s 317us/sample - loss: 3.1284 - acc: 0.1250 - val_loss: 2.8423 - val_acc: 0.1135\n",
            "Epoch 44/100\n",
            "42000/42000 [==============================] - 13s 317us/sample - loss: 3.1082 - acc: 0.1274 - val_loss: 2.8139 - val_acc: 0.1142\n",
            "Epoch 45/100\n",
            "42000/42000 [==============================] - 13s 317us/sample - loss: 3.1023 - acc: 0.1281 - val_loss: 2.7824 - val_acc: 0.1152\n",
            "Epoch 46/100\n",
            "42000/42000 [==============================] - 13s 317us/sample - loss: 3.1030 - acc: 0.1300 - val_loss: 2.7536 - val_acc: 0.1160\n",
            "Epoch 47/100\n",
            "42000/42000 [==============================] - 13s 316us/sample - loss: 3.0984 - acc: 0.1300 - val_loss: 2.7294 - val_acc: 0.1177\n",
            "Epoch 48/100\n",
            "42000/42000 [==============================] - 13s 318us/sample - loss: 3.0833 - acc: 0.1296 - val_loss: 2.7014 - val_acc: 0.1187\n",
            "Epoch 49/100\n",
            "42000/42000 [==============================] - 13s 315us/sample - loss: 3.0885 - acc: 0.1297 - val_loss: 2.6760 - val_acc: 0.1198\n",
            "Epoch 50/100\n",
            "42000/42000 [==============================] - 13s 316us/sample - loss: 3.0799 - acc: 0.1307 - val_loss: 2.6520 - val_acc: 0.1212\n",
            "Epoch 51/100\n",
            "42000/42000 [==============================] - 13s 315us/sample - loss: 3.0701 - acc: 0.1302 - val_loss: 2.6316 - val_acc: 0.1223\n",
            "Epoch 52/100\n",
            "42000/42000 [==============================] - 13s 315us/sample - loss: 3.0662 - acc: 0.1320 - val_loss: 2.6132 - val_acc: 0.1240\n",
            "Epoch 53/100\n",
            "42000/42000 [==============================] - 13s 316us/sample - loss: 3.0555 - acc: 0.1314 - val_loss: 2.5935 - val_acc: 0.1259\n",
            "Epoch 54/100\n",
            "42000/42000 [==============================] - 13s 316us/sample - loss: 3.0416 - acc: 0.1376 - val_loss: 2.5701 - val_acc: 0.1279\n",
            "Epoch 55/100\n",
            "42000/42000 [==============================] - 13s 316us/sample - loss: 3.0488 - acc: 0.1324 - val_loss: 2.5542 - val_acc: 0.1297\n",
            "Epoch 56/100\n",
            "42000/42000 [==============================] - 13s 316us/sample - loss: 3.0382 - acc: 0.1350 - val_loss: 2.5376 - val_acc: 0.1311\n",
            "Epoch 57/100\n",
            "42000/42000 [==============================] - 13s 320us/sample - loss: 3.0391 - acc: 0.1317 - val_loss: 2.5203 - val_acc: 0.1332\n",
            "Epoch 58/100\n",
            "42000/42000 [==============================] - 13s 318us/sample - loss: 3.0275 - acc: 0.1336 - val_loss: 2.5070 - val_acc: 0.1351\n",
            "Epoch 59/100\n",
            "42000/42000 [==============================] - 13s 316us/sample - loss: 3.0196 - acc: 0.1343 - val_loss: 2.4937 - val_acc: 0.1372\n",
            "Epoch 60/100\n",
            "42000/42000 [==============================] - 13s 316us/sample - loss: 3.0163 - acc: 0.1357 - val_loss: 2.4778 - val_acc: 0.1388\n",
            "Epoch 61/100\n",
            "42000/42000 [==============================] - 13s 317us/sample - loss: 3.0169 - acc: 0.1373 - val_loss: 2.4674 - val_acc: 0.1405\n",
            "Epoch 62/100\n",
            "42000/42000 [==============================] - 13s 317us/sample - loss: 3.0071 - acc: 0.1363 - val_loss: 2.4556 - val_acc: 0.1422\n",
            "Epoch 63/100\n",
            "42000/42000 [==============================] - 13s 316us/sample - loss: 3.0198 - acc: 0.1307 - val_loss: 2.4432 - val_acc: 0.1440\n",
            "Epoch 64/100\n",
            "42000/42000 [==============================] - 13s 317us/sample - loss: 2.9956 - acc: 0.1376 - val_loss: 2.4315 - val_acc: 0.1461\n",
            "Epoch 65/100\n",
            "42000/42000 [==============================] - 13s 317us/sample - loss: 3.0032 - acc: 0.1350 - val_loss: 2.4193 - val_acc: 0.1480\n",
            "Epoch 66/100\n",
            "42000/42000 [==============================] - 13s 316us/sample - loss: 2.9874 - acc: 0.1372 - val_loss: 2.4087 - val_acc: 0.1503\n",
            "Epoch 67/100\n",
            "42000/42000 [==============================] - 13s 315us/sample - loss: 2.9861 - acc: 0.1408 - val_loss: 2.3976 - val_acc: 0.1521\n",
            "Epoch 68/100\n",
            "42000/42000 [==============================] - 13s 315us/sample - loss: 2.9743 - acc: 0.1414 - val_loss: 2.3885 - val_acc: 0.1542\n",
            "Epoch 69/100\n",
            "42000/42000 [==============================] - 13s 318us/sample - loss: 2.9790 - acc: 0.1404 - val_loss: 2.3792 - val_acc: 0.1565\n",
            "Epoch 70/100\n",
            "42000/42000 [==============================] - 13s 317us/sample - loss: 2.9746 - acc: 0.1371 - val_loss: 2.3704 - val_acc: 0.1577\n",
            "Epoch 71/100\n",
            "42000/42000 [==============================] - 13s 318us/sample - loss: 2.9695 - acc: 0.1397 - val_loss: 2.3592 - val_acc: 0.1601\n",
            "Epoch 72/100\n",
            "42000/42000 [==============================] - 13s 315us/sample - loss: 2.9481 - acc: 0.1402 - val_loss: 2.3496 - val_acc: 0.1623\n",
            "Epoch 73/100\n",
            "42000/42000 [==============================] - 13s 315us/sample - loss: 2.9584 - acc: 0.1408 - val_loss: 2.3392 - val_acc: 0.1650\n",
            "Epoch 74/100\n",
            "42000/42000 [==============================] - 13s 314us/sample - loss: 2.9472 - acc: 0.1429 - val_loss: 2.3296 - val_acc: 0.1674\n",
            "Epoch 75/100\n",
            "42000/42000 [==============================] - 13s 315us/sample - loss: 2.9426 - acc: 0.1408 - val_loss: 2.3201 - val_acc: 0.1701\n",
            "Epoch 76/100\n",
            "42000/42000 [==============================] - 13s 316us/sample - loss: 2.9416 - acc: 0.1435 - val_loss: 2.3120 - val_acc: 0.1720\n",
            "Epoch 77/100\n",
            "42000/42000 [==============================] - 14s 323us/sample - loss: 2.9367 - acc: 0.1422 - val_loss: 2.3052 - val_acc: 0.1742\n",
            "Epoch 78/100\n",
            "42000/42000 [==============================] - 13s 315us/sample - loss: 2.9139 - acc: 0.1454 - val_loss: 2.2977 - val_acc: 0.1761\n",
            "Epoch 79/100\n",
            "42000/42000 [==============================] - 13s 315us/sample - loss: 2.9250 - acc: 0.1442 - val_loss: 2.2890 - val_acc: 0.1786\n",
            "Epoch 80/100\n",
            "42000/42000 [==============================] - 13s 317us/sample - loss: 2.9221 - acc: 0.1443 - val_loss: 2.2817 - val_acc: 0.1813\n",
            "Epoch 81/100\n",
            "42000/42000 [==============================] - 13s 318us/sample - loss: 2.9120 - acc: 0.1472 - val_loss: 2.2739 - val_acc: 0.1845\n",
            "Epoch 82/100\n",
            "42000/42000 [==============================] - 13s 316us/sample - loss: 2.9099 - acc: 0.1470 - val_loss: 2.2681 - val_acc: 0.1872\n",
            "Epoch 83/100\n",
            "42000/42000 [==============================] - 13s 316us/sample - loss: 2.9037 - acc: 0.1460 - val_loss: 2.2621 - val_acc: 0.1892\n",
            "Epoch 84/100\n",
            "42000/42000 [==============================] - 13s 315us/sample - loss: 2.9129 - acc: 0.1459 - val_loss: 2.2581 - val_acc: 0.1914\n",
            "Epoch 85/100\n",
            "42000/42000 [==============================] - 13s 317us/sample - loss: 2.8991 - acc: 0.1461 - val_loss: 2.2520 - val_acc: 0.1941\n",
            "Epoch 86/100\n",
            "42000/42000 [==============================] - 13s 315us/sample - loss: 2.8848 - acc: 0.1489 - val_loss: 2.2457 - val_acc: 0.1964\n",
            "Epoch 87/100\n",
            "42000/42000 [==============================] - 13s 316us/sample - loss: 2.8836 - acc: 0.1485 - val_loss: 2.2404 - val_acc: 0.1985\n",
            "Epoch 88/100\n",
            "42000/42000 [==============================] - 13s 316us/sample - loss: 2.8801 - acc: 0.1491 - val_loss: 2.2348 - val_acc: 0.2007\n",
            "Epoch 89/100\n",
            "42000/42000 [==============================] - 13s 318us/sample - loss: 2.8766 - acc: 0.1466 - val_loss: 2.2285 - val_acc: 0.2036\n",
            "Epoch 90/100\n",
            "42000/42000 [==============================] - 13s 316us/sample - loss: 2.8673 - acc: 0.1519 - val_loss: 2.2210 - val_acc: 0.2060\n",
            "Epoch 91/100\n",
            "42000/42000 [==============================] - 13s 315us/sample - loss: 2.8759 - acc: 0.1500 - val_loss: 2.2150 - val_acc: 0.2078\n",
            "Epoch 92/100\n",
            "42000/42000 [==============================] - 13s 317us/sample - loss: 2.8657 - acc: 0.1514 - val_loss: 2.2106 - val_acc: 0.2101\n",
            "Epoch 93/100\n",
            "42000/42000 [==============================] - 13s 315us/sample - loss: 2.8625 - acc: 0.1534 - val_loss: 2.2052 - val_acc: 0.2126\n",
            "Epoch 94/100\n",
            "42000/42000 [==============================] - 13s 316us/sample - loss: 2.8505 - acc: 0.1531 - val_loss: 2.2005 - val_acc: 0.2148\n",
            "Epoch 95/100\n",
            "42000/42000 [==============================] - 13s 315us/sample - loss: 2.8427 - acc: 0.1544 - val_loss: 2.1955 - val_acc: 0.2175\n",
            "Epoch 96/100\n",
            "42000/42000 [==============================] - 13s 316us/sample - loss: 2.8412 - acc: 0.1535 - val_loss: 2.1891 - val_acc: 0.2210\n",
            "Epoch 97/100\n",
            "42000/42000 [==============================] - 13s 316us/sample - loss: 2.8377 - acc: 0.1540 - val_loss: 2.1847 - val_acc: 0.2236\n",
            "Epoch 98/100\n",
            "42000/42000 [==============================] - 13s 316us/sample - loss: 2.8352 - acc: 0.1547 - val_loss: 2.1801 - val_acc: 0.2255\n",
            "Epoch 99/100\n",
            "42000/42000 [==============================] - 13s 317us/sample - loss: 2.8415 - acc: 0.1555 - val_loss: 2.1763 - val_acc: 0.2278\n",
            "Epoch 100/100\n",
            "42000/42000 [==============================] - 13s 317us/sample - loss: 2.8420 - acc: 0.1537 - val_loss: 2.1722 - val_acc: 0.2298\n"
          ],
          "name": "stdout"
        },
        {
          "output_type": "execute_result",
          "data": {
            "text/plain": [
              "<tensorflow.python.keras.callbacks.History at 0x7f5dfde72240>"
            ]
          },
          "metadata": {
            "tags": []
          },
          "execution_count": 74
        }
      ]
    },
    {
      "cell_type": "code",
      "metadata": {
        "id": "qFSu0jU9uBkU",
        "colab_type": "code",
        "colab": {
          "base_uri": "https://localhost:8080/",
          "height": 527
        },
        "outputId": "9d8a72f2-8449-45ec-ff72-7f4bb1d46a7d"
      },
      "source": [
        "model_nn1.summary()"
      ],
      "execution_count": 78,
      "outputs": [
        {
          "output_type": "stream",
          "text": [
            "Model: \"sequential_6\"\n",
            "_________________________________________________________________\n",
            "Layer (type)                 Output Shape              Param #   \n",
            "=================================================================\n",
            "flatten_6 (Flatten)          (None, 1024)              0         \n",
            "_________________________________________________________________\n",
            "batch_normalization (BatchNo (None, 1024)              4096      \n",
            "_________________________________________________________________\n",
            "dense_24 (Dense)             (None, 1000)              1025000   \n",
            "_________________________________________________________________\n",
            "batch_normalization_1 (Batch (None, 1000)              4000      \n",
            "_________________________________________________________________\n",
            "dropout_18 (Dropout)         (None, 1000)              0         \n",
            "_________________________________________________________________\n",
            "dense_25 (Dense)             (None, 500)               500500    \n",
            "_________________________________________________________________\n",
            "batch_normalization_2 (Batch (None, 500)               2000      \n",
            "_________________________________________________________________\n",
            "dropout_19 (Dropout)         (None, 500)               0         \n",
            "_________________________________________________________________\n",
            "dense_26 (Dense)             (None, 100)               50100     \n",
            "_________________________________________________________________\n",
            "dropout_20 (Dropout)         (None, 100)               0         \n",
            "_________________________________________________________________\n",
            "dense_27 (Dense)             (None, 10)                1010      \n",
            "=================================================================\n",
            "Total params: 1,586,706\n",
            "Trainable params: 1,581,658\n",
            "Non-trainable params: 5,048\n",
            "_________________________________________________________________\n"
          ],
          "name": "stdout"
        }
      ]
    },
    {
      "cell_type": "code",
      "metadata": {
        "id": "PoT0qJTU0fpl",
        "colab_type": "code",
        "colab": {}
      },
      "source": [
        "accscore = model_nn1.evaluate(testx, testy, verbose=0)"
      ],
      "execution_count": 0,
      "outputs": []
    },
    {
      "cell_type": "code",
      "metadata": {
        "id": "MmpHFmyU0pPV",
        "colab_type": "code",
        "colab": {
          "base_uri": "https://localhost:8080/",
          "height": 34
        },
        "outputId": "7acf38bf-8b64-444c-9ad6-0db5f5c88a20"
      },
      "source": [
        "print(accscore)"
      ],
      "execution_count": 80,
      "outputs": [
        {
          "output_type": "stream",
          "text": [
            "[2.1795097268422445, 0.22716667]\n"
          ],
          "name": "stdout"
        }
      ]
    },
    {
      "cell_type": "code",
      "metadata": {
        "id": "V8Du-VJ_08Pm",
        "colab_type": "code",
        "colab": {}
      },
      "source": [
        "from keras.layers import Convolution2D, MaxPooling2D,Dense, Activation, Dropout, Flatten, Reshape\n",
        "from keras.models import Sequential\n",
        "from keras.utils import np_utils"
      ],
      "execution_count": 0,
      "outputs": []
    },
    {
      "cell_type": "code",
      "metadata": {
        "id": "RXFp6Azk1Hdz",
        "colab_type": "code",
        "colab": {}
      },
      "source": [
        "trainX_cnn = trainX.reshape(trainX.shape[0], 32,32,1).astype('float32')\n",
        "testx_cnn = testx.reshape(testx.shape[0], 32,32,1).astype('float32')\n",
        "valx_cnn = valx.reshape(valx.shape[0], 32,32,1).astype('float32')"
      ],
      "execution_count": 0,
      "outputs": []
    },
    {
      "cell_type": "code",
      "metadata": {
        "id": "eFX1Ofb_1VaW",
        "colab_type": "code",
        "colab": {
          "base_uri": "https://localhost:8080/",
          "height": 68
        },
        "outputId": "cfc66e70-0d08-4b87-ed3b-f4970138a245"
      },
      "source": [
        "print(trainX_cnn.shape)\n",
        "print(testx_cnn.shape)\n",
        "print(valx_cnn.shape)"
      ],
      "execution_count": 83,
      "outputs": [
        {
          "output_type": "stream",
          "text": [
            "(42000, 32, 32, 1)\n",
            "(18000, 32, 32, 1)\n",
            "(60000, 32, 32, 1)\n"
          ],
          "name": "stdout"
        }
      ]
    },
    {
      "cell_type": "code",
      "metadata": {
        "id": "Fslp9Ruf1cOF",
        "colab_type": "code",
        "colab": {
          "base_uri": "https://localhost:8080/",
          "height": 275
        },
        "outputId": "244a5f85-92bf-428a-b953-560d96678dbc"
      },
      "source": [
        "model_cnn = Sequential()\n",
        "    \n",
        "\n",
        "model_cnn.add(Convolution2D(32, 3, 3, input_shape=(32,32,1)))\n",
        "model_cnn.add(Activation('relu'))\n",
        "\n",
        "model_cnn.add(Convolution2D(32, 3, 3))\n",
        "model_cnn.add(Activation('relu'))\n",
        "\n",
        "model_cnn.add(Flatten())\n",
        "model_cnn.add(Dense(100))\n",
        "model_cnn.add(Activation('relu'))\n",
        "\n",
        "model_cnn.add(Dense(10))\n",
        "model_cnn.add(Activation('softmax'))\n",
        "\n",
        "model_cnn.compile(loss='sparse_categorical_crossentropy', optimizer='sgd', metrics=['accuracy'])\n",
        "    \n",
        "\n",
        "early_stopping = keras.callbacks.EarlyStopping(monitor='val_acc', patience=10, verbose=1, mode='auto')\n",
        "callback_list = [early_stopping]"
      ],
      "execution_count": 84,
      "outputs": [
        {
          "output_type": "stream",
          "text": [
            "W0614 11:54:29.270070 140043092977536 deprecation_wrapper.py:119] From /usr/local/lib/python3.6/dist-packages/keras/backend/tensorflow_backend.py:74: The name tf.get_default_graph is deprecated. Please use tf.compat.v1.get_default_graph instead.\n",
            "\n",
            "/usr/local/lib/python3.6/dist-packages/ipykernel_launcher.py:4: UserWarning: Update your `Conv2D` call to the Keras 2 API: `Conv2D(32, (3, 3), input_shape=(32, 32, 1...)`\n",
            "  after removing the cwd from sys.path.\n",
            "W0614 11:54:29.279793 140043092977536 deprecation_wrapper.py:119] From /usr/local/lib/python3.6/dist-packages/keras/backend/tensorflow_backend.py:517: The name tf.placeholder is deprecated. Please use tf.compat.v1.placeholder instead.\n",
            "\n",
            "W0614 11:54:29.285877 140043092977536 deprecation_wrapper.py:119] From /usr/local/lib/python3.6/dist-packages/keras/backend/tensorflow_backend.py:4138: The name tf.random_uniform is deprecated. Please use tf.random.uniform instead.\n",
            "\n",
            "/usr/local/lib/python3.6/dist-packages/ipykernel_launcher.py:7: UserWarning: Update your `Conv2D` call to the Keras 2 API: `Conv2D(32, (3, 3))`\n",
            "  import sys\n",
            "W0614 11:54:29.378283 140043092977536 deprecation_wrapper.py:119] From /usr/local/lib/python3.6/dist-packages/keras/optimizers.py:790: The name tf.train.Optimizer is deprecated. Please use tf.compat.v1.train.Optimizer instead.\n",
            "\n",
            "W0614 11:54:29.401008 140043092977536 deprecation_wrapper.py:119] From /usr/local/lib/python3.6/dist-packages/keras/backend/tensorflow_backend.py:3341: The name tf.log is deprecated. Please use tf.math.log instead.\n",
            "\n"
          ],
          "name": "stderr"
        }
      ]
    },
    {
      "cell_type": "code",
      "metadata": {
        "id": "vny7-Jks1sRl",
        "colab_type": "code",
        "colab": {
          "base_uri": "https://localhost:8080/",
          "height": 496
        },
        "outputId": "69575b30-2fd7-479d-a8c0-3d783304fa34"
      },
      "source": [
        "model_cnn.fit(trainX_cnn, trainy, epochs=10,validation_data=(valx_cnn, valy), callbacks=callback_list)"
      ],
      "execution_count": 86,
      "outputs": [
        {
          "output_type": "stream",
          "text": [
            "W0614 11:55:38.358509 140043092977536 deprecation.py:323] From /usr/local/lib/python3.6/dist-packages/tensorflow/python/ops/math_grad.py:1250: add_dispatch_support.<locals>.wrapper (from tensorflow.python.ops.array_ops) is deprecated and will be removed in a future version.\n",
            "Instructions for updating:\n",
            "Use tf.where in 2.0, which has the same broadcast rule as np.where\n",
            "W0614 11:55:38.405509 140043092977536 deprecation_wrapper.py:119] From /usr/local/lib/python3.6/dist-packages/keras/backend/tensorflow_backend.py:986: The name tf.assign_add is deprecated. Please use tf.compat.v1.assign_add instead.\n",
            "\n"
          ],
          "name": "stderr"
        },
        {
          "output_type": "stream",
          "text": [
            "Train on 42000 samples, validate on 60000 samples\n",
            "Epoch 1/10\n",
            "42000/42000 [==============================] - 169s 4ms/step - loss: 14.5075 - acc: 0.0999 - val_loss: 14.5063 - val_acc: 0.1000\n",
            "Epoch 2/10\n",
            "42000/42000 [==============================] - 168s 4ms/step - loss: 14.5078 - acc: 0.0999 - val_loss: 14.5063 - val_acc: 0.1000\n",
            "Epoch 3/10\n",
            "42000/42000 [==============================] - 170s 4ms/step - loss: 14.5078 - acc: 0.0999 - val_loss: 14.5063 - val_acc: 0.1000\n",
            "Epoch 4/10\n",
            "42000/42000 [==============================] - 171s 4ms/step - loss: 14.5078 - acc: 0.0999 - val_loss: 14.5063 - val_acc: 0.1000\n",
            "Epoch 5/10\n",
            "42000/42000 [==============================] - 170s 4ms/step - loss: 14.5078 - acc: 0.0999 - val_loss: 14.5063 - val_acc: 0.1000\n",
            "Epoch 6/10\n",
            "42000/42000 [==============================] - 170s 4ms/step - loss: 14.5078 - acc: 0.0999 - val_loss: 14.5063 - val_acc: 0.1000\n",
            "Epoch 7/10\n",
            "42000/42000 [==============================] - 168s 4ms/step - loss: 14.5078 - acc: 0.0999 - val_loss: 14.5063 - val_acc: 0.1000\n",
            "Epoch 8/10\n",
            "42000/42000 [==============================] - 167s 4ms/step - loss: 14.5078 - acc: 0.0999 - val_loss: 14.5063 - val_acc: 0.1000\n",
            "Epoch 9/10\n",
            "42000/42000 [==============================] - 168s 4ms/step - loss: 14.5078 - acc: 0.0999 - val_loss: 14.5063 - val_acc: 0.1000\n",
            "Epoch 10/10\n",
            "42000/42000 [==============================] - 167s 4ms/step - loss: 14.5078 - acc: 0.0999 - val_loss: 14.5063 - val_acc: 0.1000\n"
          ],
          "name": "stdout"
        },
        {
          "output_type": "execute_result",
          "data": {
            "text/plain": [
              "<keras.callbacks.History at 0x7f5dfdbad780>"
            ]
          },
          "metadata": {
            "tags": []
          },
          "execution_count": 86
        }
      ]
    },
    {
      "cell_type": "code",
      "metadata": {
        "id": "cI8gGMaM1yMl",
        "colab_type": "code",
        "colab": {}
      },
      "source": [
        "accscore_cnn = model_cnn.evaluate(testx_cnn, testy, verbose=0)"
      ],
      "execution_count": 0,
      "outputs": []
    },
    {
      "cell_type": "code",
      "metadata": {
        "id": "cx1qVGCt8x8B",
        "colab_type": "code",
        "colab": {
          "base_uri": "https://localhost:8080/",
          "height": 34
        },
        "outputId": "7e2eb73d-6528-4807-8c60-5af0cc11b4db"
      },
      "source": [
        "print(accscore_cnn)"
      ],
      "execution_count": 89,
      "outputs": [
        {
          "output_type": "stream",
          "text": [
            "[14.502703887939454, 0.10022222222222223]\n"
          ],
          "name": "stdout"
        }
      ]
    },
    {
      "cell_type": "code",
      "metadata": {
        "id": "SUs6lCKT87zr",
        "colab_type": "code",
        "colab": {
          "base_uri": "https://localhost:8080/",
          "height": 442
        },
        "outputId": "d7a0dc2f-4c4c-4cd4-9f39-9cb8a2d0b835"
      },
      "source": [
        "model_cnn.summary()"
      ],
      "execution_count": 90,
      "outputs": [
        {
          "output_type": "stream",
          "text": [
            "_________________________________________________________________\n",
            "Layer (type)                 Output Shape              Param #   \n",
            "=================================================================\n",
            "conv2d_1 (Conv2D)            (None, 30, 30, 32)        320       \n",
            "_________________________________________________________________\n",
            "activation_1 (Activation)    (None, 30, 30, 32)        0         \n",
            "_________________________________________________________________\n",
            "conv2d_2 (Conv2D)            (None, 28, 28, 32)        9248      \n",
            "_________________________________________________________________\n",
            "activation_2 (Activation)    (None, 28, 28, 32)        0         \n",
            "_________________________________________________________________\n",
            "flatten_1 (Flatten)          (None, 25088)             0         \n",
            "_________________________________________________________________\n",
            "dense_1 (Dense)              (None, 100)               2508900   \n",
            "_________________________________________________________________\n",
            "activation_3 (Activation)    (None, 100)               0         \n",
            "_________________________________________________________________\n",
            "dense_2 (Dense)              (None, 10)                1010      \n",
            "_________________________________________________________________\n",
            "activation_4 (Activation)    (None, 10)                0         \n",
            "=================================================================\n",
            "Total params: 2,519,478\n",
            "Trainable params: 2,519,478\n",
            "Non-trainable params: 0\n",
            "_________________________________________________________________\n"
          ],
          "name": "stdout"
        }
      ]
    },
    {
      "cell_type": "code",
      "metadata": {
        "id": "DRl1xwrM9EZI",
        "colab_type": "code",
        "colab": {}
      },
      "source": [
        ""
      ],
      "execution_count": 0,
      "outputs": []
    }
  ]
}